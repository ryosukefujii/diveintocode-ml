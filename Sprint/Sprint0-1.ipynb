{
 "cells": [
  {
   "cell_type": "code",
   "execution_count": 16,
   "metadata": {},
   "outputs": [],
   "source": [
    "import pandas as pd\n",
    "import numpy as np\n",
    "import random\n",
    "import math"
   ]
  },
  {
   "cell_type": "code",
   "execution_count": 2,
   "metadata": {
    "colab": {
     "base_uri": "https://localhost:8080/",
     "height": 37,
     "resources": {
      "http://localhost:8080/nbextensions/google.colab/files.js": {
       "data": "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",
       "headers": [
        [
         "content-type",
         "application/javascript"
        ]
       ],
       "ok": true,
       "status": 200,
       "status_text": ""
      }
     }
    },
    "colab_type": "code",
    "executionInfo": {
     "elapsed": 33425,
     "status": "ok",
     "timestamp": 1580710959405,
     "user": {
      "displayName": "RYOSUKE FUJII",
      "photoUrl": "https://lh3.googleusercontent.com/a-/AAuE7mArIT_2J8uHkPQxTtu_LCg2p7DRjYhxyWoY3xzWbA=s64",
      "userId": "06292435546189993794"
     },
     "user_tz": -540
    },
    "id": "X0YThb1NxQB7",
    "outputId": "f7b55d4d-88b8-4240-9316-36398391f12d"
   },
   "outputs": [],
   "source": [
    "df = pd.read_csv('../house-prices-advanced-regression-techniques/train.csv')"
   ]
  },
  {
   "cell_type": "markdown",
   "metadata": {
    "colab_type": "text",
    "id": "iq-2z6C-pJpJ"
   },
   "source": [
    "# スクラッチ\n",
    "このSprintでは機械学習手法のスクラッチ課題に取り組む準備を行います。scikit-learnを用いて分類・回帰問題を解くコードを書いておき、今後のSprintではそれと同じ動作をするクラスをスクラッチで作成していきます。\n",
    "\n"
   ]
  },
  {
   "cell_type": "markdown",
   "metadata": {
    "colab_type": "text",
    "id": "Ctl5KzRHq6c8"
   },
   "source": [
    "## スクラッチの意義\n",
    "ここでのスクラッチとは、NumPyなどの基本的なライブラリを組み合わせることで、scikit-learnのような応用的なライブラリと同じ機能のクラス・関数を自作することを指します。\n",
    "\n",
    "スクラッチをすることでscikit-learnなどのライブラリを動かすだけでは掴みづらい、アルゴリズムの深い理解を目指します。コーディングのスキル向上も兼ねますが、それは主な目的ではありません。\n",
    "\n",
    "以下のような効果を狙っています。\n",
    "\n",
    "* 新たな手法に出会った時に理論・数式を理解しやすくする\n",
    "* ライブラリを使う上での曖昧さを減らす\n",
    "* 既存の実装を読みやすくする\n",
    "\n"
   ]
  },
  {
   "cell_type": "markdown",
   "metadata": {
    "colab_type": "text",
    "id": "jcQpxWHBq99h"
   },
   "source": [
    "## 【問題1】train_test_splitのスクラッチ\n",
    "スクラッチの練習として、scikit-learnのtrain_test_splitを自作してみます。以下の雛形をベースとして関数を完成させてください。\n",
    "\n",
    "[sklearn.model_selection.train_test_split — scikit-learn 0.21.3 documentation\n",
    "](http://scikit-learn.org/stable/modules/generated/sklearn.model_selection.train_test_split.html)\n",
    "\n",
    "なお、作成した関数がscikit-learnのtrain_test_splitと同じ動作をしているか必ず確認をするようにしましょう。\n",
    "\n",
    "**雛形**"
   ]
  },
  {
   "cell_type": "code",
   "execution_count": 3,
   "metadata": {
    "colab": {},
    "colab_type": "code",
    "id": "E3Cctk8JpdhU"
   },
   "outputs": [],
   "source": [
    "def scratch_train_test_split(X, y, train_size=0.8,):\n",
    "    \"\"\"\n",
    "    検証用データを分割する。\n",
    "\n",
    "    Parameters\n",
    "    ----------\n",
    "    X : 次の形のndarray, shape (n_samples, n_features)\n",
    "      学習データ\n",
    "    y : 次の形のndarray, shape (n_samples, )\n",
    "      正解値\n",
    "    train_size : float (0<train_size<1)\n",
    "      何割をtrainとするか指定\n",
    "\n",
    "    Returns\n",
    "    ----------\n",
    "    X_train : 次の形のndarray, shape (n_samples, n_features)\n",
    "      学習データ\n",
    "    X_test : 次の形のndarray, shape (n_samples, n_features)\n",
    "      検証データ\n",
    "    y_train : 次の形のndarray, shape (n_samples, )\n",
    "      学習データの正解値\n",
    "    y_test : 次の形のndarray, shape (n_samples, )\n",
    "      検証データの正解値\n",
    "    \"\"\"\n",
    "    #ここにコードを書く\n",
    "    pass\n",
    "\n",
    "    return X_train, X_test, y_train, y_test"
   ]
  },
  {
   "cell_type": "markdown",
   "metadata": {
    "colab_type": "text",
    "id": "wYdm9JnfutNv"
   },
   "source": [
    "### 【問題1】解答"
   ]
  },
  {
   "cell_type": "code",
   "execution_count": 15,
   "metadata": {
    "colab": {
     "base_uri": "https://localhost:8080/",
     "height": 731
    },
    "colab_type": "code",
    "executionInfo": {
     "elapsed": 33413,
     "status": "ok",
     "timestamp": 1580710959406,
     "user": {
      "displayName": "RYOSUKE FUJII",
      "photoUrl": "https://lh3.googleusercontent.com/a-/AAuE7mArIT_2J8uHkPQxTtu_LCg2p7DRjYhxyWoY3xzWbA=s64",
      "userId": "06292435546189993794"
     },
     "user_tz": -540
    },
    "id": "r422mJJwuuGW",
    "outputId": "155064e3-7b96-4843-acf9-74279f82c6d3"
   },
   "outputs": [],
   "source": [
    "def scratch_train_test_split(X, y, train_size=0.8,):\n",
    "    \"\"\"\n",
    "    検証用データを分割する。\n",
    "\n",
    "    Parameters\n",
    "    ----------\n",
    "    X : 次の形のndarray, shape (n_samples, n_features)\n",
    "      学習データ\n",
    "    y : 次の形のndarray, shape (n_samples, )\n",
    "      正解値\n",
    "    train_size : float (0<train_size<1)\n",
    "      何割をtrainとするか指定\n",
    "\n",
    "    Returns\n",
    "    ----------\n",
    "    X_train : 次の形のndarray, shape (n_samples, n_features)\n",
    "      学習データ\n",
    "    X_test : 次の形のndarray, shape (n_samples, n_features)\n",
    "      検証データ\n",
    "    y_train : 次の形のndarray, shape (n_samples, )\n",
    "      学習データの正解値\n",
    "    y_test : 次の形のndarray, shape (n_samples, )\n",
    "      検証データの正解値\n",
    "    \"\"\"\n",
    "    #ここにコードを書く\n",
    "    random.seed(0)\n",
    "    n_rows = X.shape[0] # 行数取得\n",
    "    order = list(range(n_rows))\n",
    "    random.shuffle(order) # ランダム化されたXリスト順序\n",
    "    X_shuffled = X[order] # ランダム化されたXリスト\n",
    "    y_shuffled = y[order] # ランダム化されたyリスト\n",
    "    \n",
    "    n_train = math.ceil(n_rows*train_size) # 小数点切り上げ処理\n",
    "    n_test = n_rows - n_train\n",
    "    # 配列シャッフル、NumPy配列ndarrayをリストに変換: tolist()\n",
    "    X_train = X_shuffled[:n_train].tolist()\n",
    "    X_test = X_shuffled[(n_rows - n_test):].tolist()\n",
    "    y_train = y_shuffled[:n_train].tolist()\n",
    "    y_test = y_shuffled[(n_rows - n_test):].tolist()\n",
    "    return X_train, X_test, y_train, y_test\n"
   ]
  },
  {
   "cell_type": "code",
   "execution_count": 14,
   "metadata": {},
   "outputs": [
    {
     "data": {
      "text/plain": [
       "([[28, 29],\n",
       "  [0, 1],\n",
       "  [46, 47],\n",
       "  [36, 37],\n",
       "  [12, 13],\n",
       "  [10, 11],\n",
       "  [14, 15],\n",
       "  [20, 21],\n",
       "  [44, 45],\n",
       "  [40, 41],\n",
       "  [8, 9],\n",
       "  [4, 5],\n",
       "  [42, 43],\n",
       "  [6, 7],\n",
       "  [34, 35],\n",
       "  [22, 23],\n",
       "  [38, 39],\n",
       "  [18, 19],\n",
       "  [48, 49],\n",
       "  [30, 31]],\n",
       " [[32, 33], [16, 17], [2, 3], [26, 27], [24, 25]],\n",
       " [[28],\n",
       "  [0],\n",
       "  [46],\n",
       "  [36],\n",
       "  [12],\n",
       "  [10],\n",
       "  [14],\n",
       "  [20],\n",
       "  [44],\n",
       "  [40],\n",
       "  [8],\n",
       "  [4],\n",
       "  [42],\n",
       "  [6],\n",
       "  [34],\n",
       "  [22],\n",
       "  [38],\n",
       "  [18],\n",
       "  [48],\n",
       "  [30]],\n",
       " [[32], [16], [2], [26], [24]])"
      ]
     },
     "execution_count": 14,
     "metadata": {},
     "output_type": "execute_result"
    }
   ],
   "source": [
    "X = np.arange(50).reshape(25, 2)\n",
    "y = np.arange(0, 50, 2).reshape(25, 1)\n",
    "\n",
    "scratch_train_test_split(X, y, train_size=0.8)"
   ]
  },
  {
   "cell_type": "code",
   "execution_count": 5,
   "metadata": {
    "colab": {},
    "colab_type": "code",
    "id": "ROFnLRFOwLM_"
   },
   "outputs": [],
   "source": [
    "# import numpy as np\n",
    "# import random\n",
    "# import math\n",
    "\n",
    "# X = np.arange(20).reshape(10, 2)\n",
    "# y = np.arange(0, 20, 2).reshape(10, 1)\n",
    "\n",
    "# random.seed(0)\n",
    "# n_rows = X.shape[0] # 行数取得\n",
    "\n",
    "# order = list(range(n_rows))\n",
    "# random.shuffle(order) # ランダム化されたXリスト順序\n",
    "# X_shuffled = X[order] # ランダム化されたXリスト\n",
    "# y_shuffled = y[order] # ランダム化されたyリスト\n",
    "\n",
    "# print('order：\\n', order)\n",
    "# print('X_shuffled\\n', X_shuffled)\n",
    "# print('y_shuffled\\n', y_shuffled)\n",
    "\n",
    "# train_size = 0.6\n",
    "# n_train = math.ceil(n_rows*train_size) # 小数点切り上げ処理\n",
    "# n_test = n_rows - n_train\n",
    "\n",
    "# print('合計数', n_rows, n_train, n_test)\n",
    "\n",
    "# X_train = [ ]\n",
    "# X_test = [ ]\n",
    "# y_train = [ ]\n",
    "# y_test = [ ]\n",
    "\n",
    "# X_train = list(X_shuffled[:n_train])\n",
    "# X_test = list(X_shuffled[(n_rows - n_test):])\n",
    "# y_train = list(y_shuffled[:n_train])\n",
    "# y_test = list(y_shuffled[(n_rows - n_test):])\n",
    "\n",
    "# cnt = 0\n",
    "# for i in range(n_rows):\n",
    "#   X_train.append(X_shuffled[i])\n",
    "#   cnt += 1\n",
    "#   if cnt >= len(X)*train_size:\n",
    "#     break\n",
    "#   else:\n",
    "#     pass\n",
    "\n",
    "# cnt = 0\n",
    "# for i in range(n_rows):\n",
    "#   X_train.append(X_shuffled[i, :])\n",
    "#   cnt += 1\n",
    "#   if cnt >= len(X)*train_size:\n",
    "#     break\n",
    "#   else:\n",
    "#     pass\n",
    "#     # for i in range(len(order)):\n",
    "#     #   X_test.append(X_shuffled[-i])\n",
    "#     #   if cnt >= len(X)*(1 - train_size):\n",
    "#     break\n",
    "#       # else:\n",
    "#       #   pass\n",
    "#   else:\n",
    "#     pass\n",
    "\n",
    "\n",
    "\n",
    "\n",
    "# print('X_train：' ,'\\n',  *X_train)\n",
    "# print('X_test：' ,'\\n',  *X_test)\n",
    "# print('y_train：' ,'\\n',  *y_train)\n",
    "# print('y_test：' ,'\\n',  *y_test)\n",
    "# print(type(X_train))\n",
    "# print(X_shuffled - X_train)\n",
    "# print('X_test：', *X_test)\n",
    "# print('y', y)\n",
    "\n",
    "# from sklearn.model_selection import train_test_split\n",
    "# a_train, a_test = train_test_split(a, test_size=0.6)"
   ]
  },
  {
   "cell_type": "markdown",
   "metadata": {
    "colab_type": "text",
    "id": "Qc6A8AutpgHB"
   },
   "source": [
    "# scikit-learnを用いて機械学習を行うコードを作成\n",
    "scikit-learnを使ったコードを作成していきます。\n",
    "\n",
    "検証用データの分割には問題1で作成した自作の関数を用いてください。クロスバリデーションではなくホールドアウト法で構いません。"
   ]
  },
  {
   "cell_type": "markdown",
   "metadata": {
    "colab_type": "text",
    "id": "PyZ_zTn9rc0-"
   },
   "source": [
    "## 分類問題\n",
    "分類は3種類の手法をスクラッチします。\n",
    "\n",
    "* ロジスティック回帰\n",
    "* SVM\n",
    "* 決定木\n",
    "\n",
    "ロジスティック回帰はscikit-learnにおいてLogisticRegressionクラスとSGDClassifierクラスの2種類から使用できます。ここでは勾配降下法を用いて計算するSGDClassifierクラスを利用してください。引数で**loss=\"log\"**とすることでロジスティック回帰の計算になります。\n",
    "\n",
    "[sklearn.linear_model.SGDClassifier — scikit-learn 0.21.3 documentation](https://scikit-learn.org/stable/modules/generated/sklearn.linear_model.SGDClassifier.html#sklearn.linear_model.SGDClassifier)\n",
    "[sklearn.svm.SVC — scikit-learn 0.21.3 documentation](https://scikit-learn.org/stable/modules/generated/sklearn.svm.SVC.html#sklearn.svm.SVC)\n",
    "[sklearn.tree.DecisionTreeClassifier — scikit-learn 0.21.3 documentation](https://scikit-learn.org/stable/modules/generated/sklearn.tree.DecisionTreeClassifier.html#sklearn.tree.DecisionTreeClassifier)\n",
    "\n",
    "データセットは3種類用意します。\n",
    "\n",
    "1つ目は事前学習期間同様にirisデータセットです。\n",
    "\n",
    "[sklearn.datasets.load_iris — scikit-learn 0.20.2 documentation](https://scikit-learn.org/stable/modules/generated/sklearn.datasets.load_iris.html)\n",
    "\n",
    "2値分類としたいため、以下の2つの目的変数のみ利用します。特徴量は4種類全て使います。\n",
    "\n",
    "* virgicolorとvirginica\n",
    "\n",
    "\n",
    "残り2つは特徴量が2つのデータセットを人工的に用意します。以下のコードで説明変数X,目的変数yが作成可能です。「シンプルデータセット1」「シンプルデータセット2」とします。特徴量が2つであるため可視化が容易です。"
   ]
  },
  {
   "cell_type": "markdown",
   "metadata": {
    "colab_type": "text",
    "id": "3RiPAvVfqPnU"
   },
   "source": [
    "## 【問題2】 分類問題を解くコードの作成\n",
    "上記3種類の手法で3種類のデータセットを学習・推定するコードを作成してください。"
   ]
  },
  {
   "cell_type": "markdown",
   "metadata": {
    "colab_type": "text",
    "id": "1S_RQ-ggHxkm"
   },
   "source": [
    "### 【問題2】解答"
   ]
  },
  {
   "cell_type": "markdown",
   "metadata": {
    "colab_type": "text",
    "id": "RMlV0o67fXCB"
   },
   "source": [
    "#### irisデータセット"
   ]
  },
  {
   "cell_type": "code",
   "execution_count": 6,
   "metadata": {
    "colab": {
     "base_uri": "https://localhost:8080/",
     "height": 241
    },
    "colab_type": "code",
    "executionInfo": {
     "elapsed": 34087,
     "status": "ok",
     "timestamp": 1580710960091,
     "user": {
      "displayName": "RYOSUKE FUJII",
      "photoUrl": "https://lh3.googleusercontent.com/a-/AAuE7mArIT_2J8uHkPQxTtu_LCg2p7DRjYhxyWoY3xzWbA=s64",
      "userId": "06292435546189993794"
     },
     "user_tz": -540
    },
    "id": "SoPA3MyCH3RG",
    "outputId": "37314f2e-9f9c-4789-a5ed-ae47585d1786"
   },
   "outputs": [
    {
     "name": "stdout",
     "output_type": "stream",
     "text": [
      "[1, 1, 1, 1, 1, 1, 1, 2, 2, 2, 1, 2, 2, 1, 2, 1, 1, 2, 2, 2, 1, 1, 1, 1, 2, 1, 1, 1, 2, 1, 2, 2, 1, 2, 2, 1, 1, 2, 1, 1, 2, 2, 1, 1, 1, 1, 1, 2, 2, 2, 2, 2, 2, 1, 2, 1, 2, 1, 2, 1, 2, 2, 1, 2, 2, 2, 1, 1, 2, 2, 2, 2, 2, 1, 1, 2, 1, 1, 2, 2]\n",
      "[1 1 1 2 1 1 2 1 2 1 2 1 2 2 2 2 1 2 2 1]\n",
      "正解率：90.0%\n",
      "正解数：18/20個\n",
      "[1, 1, 1, 1, 1, 1, 1, 2, 2, 2, 1, 2, 2, 1, 2, 1, 1, 2, 2, 2, 1, 1, 1, 1, 2, 1, 1, 1, 2, 1, 2, 2, 1, 2, 2, 1, 1, 2, 1, 1, 2, 2, 1, 1, 1, 1, 1, 2, 2, 2, 2, 2, 2, 1, 2, 1, 2, 1, 2, 1, 2, 2, 1, 2, 2, 2, 1, 1, 2, 2, 2, 2, 2, 1, 1, 2, 1, 1, 2, 2]\n",
      "[1 2 1 2 1 1 2 1 2 1 2 1 2 2 2 2 1 2 2 1]\n",
      "正解率：95.0%\n",
      "正解数：19/20個\n",
      "[1, 1, 1, 1, 1, 1, 1, 2, 2, 2, 1, 2, 2, 1, 2, 1, 1, 2, 2, 2, 1, 1, 1, 1, 2, 1, 1, 1, 2, 1, 2, 2, 1, 2, 2, 1, 1, 2, 1, 1, 2, 2, 1, 1, 1, 1, 1, 2, 2, 2, 2, 2, 2, 1, 2, 1, 2, 1, 2, 1, 2, 2, 1, 2, 2, 2, 1, 1, 2, 2, 2, 2, 2, 1, 1, 2, 1, 1, 2, 2]\n",
      "[1 2 1 2 1 1 2 2 2 1 2 1 2 2 2 2 1 2 2 1]\n",
      "正解率：90.0%\n",
      "正解数：18/20個\n"
     ]
    }
   ],
   "source": [
    "# Iris data set\n",
    "from sklearn.datasets import load_iris\n",
    "iris = load_iris()\n",
    "iris.target_names\n",
    "\n",
    "# print(iris.target_names) # 'setosa'0-49, 'versicolor'50-99, 'virginica'100-149\n",
    "\n",
    "X = iris.data[50:, :]\n",
    "y = iris.target[50:]\n",
    "\n",
    "X_train, X_test, y_train, y_test = scratch_train_test_split(X, y, train_size=0.8)\n",
    "\n",
    "\n",
    "# ロジスティック回帰（SGDClassifierクラス）\n",
    "from sklearn import linear_model\n",
    "\n",
    "sgdc_clf = linear_model.SGDClassifier(random_state=42, loss='log')\n",
    "sgdc_clf.fit(X_train, y_train)\n",
    "y_pred_sgdc = sgdc_clf.predict(X_test)\n",
    "print(y_train)\n",
    "print(y_pred_sgdc)\n",
    "\n",
    "from sklearn.metrics import accuracy_score\n",
    "\n",
    "accuracy_rate = accuracy_score(y_test, y_pred_sgdc) # 正解率\n",
    "print('正解率：{}%'.format(accuracy_rate*100))\n",
    "n_accuracy = accuracy_score(y_test, y_pred_sgdc, normalize=False) # 正解数\n",
    "print('正解数：{}個'.format(str(n_accuracy) + '/' + str(len(y_test))))\n",
    "\n",
    "\n",
    "# SVM\n",
    "from sklearn.svm import SVC\n",
    "\n",
    "svc_clf = SVC()\n",
    "svc_clf.fit(X_train, y_train)\n",
    "y_pred_svc = svc_clf.predict(X_test)\n",
    "print(y_train)\n",
    "print(y_pred_svc)\n",
    "\n",
    "accuracy_rate = accuracy_score(y_test, y_pred_svc) # 正解率\n",
    "print('正解率：{}%'.format(accuracy_rate*100))\n",
    "n_accuracy = accuracy_score(y_test, y_pred_svc, normalize=False) # 正解数\n",
    "print('正解数：{}個'.format(str(n_accuracy) + '/' + str(len(y_test))))\n",
    "\n",
    "\n",
    "# 決定木\n",
    "from sklearn.tree import DecisionTreeClassifier \n",
    "\n",
    "dtree_clf = DecisionTreeClassifier(random_state=42)\n",
    "dtree_clf.fit(X_train, y_train)\n",
    "y_pred_dtree = dtree_clf.predict(X_test)\n",
    "print(y_train)\n",
    "print(y_pred_dtree)\n",
    "\n",
    "accuracy_rate = accuracy_score(y_test, y_pred_dtree) # 正解率\n",
    "print('正解率：{}%'.format(accuracy_rate*100))\n",
    "n_accuracy = accuracy_score(y_test, y_pred_dtree, normalize=False) # 正解数\n",
    "print('正解数：{}個'.format(str(n_accuracy) + '/' + str(len(y_test))))"
   ]
  },
  {
   "cell_type": "markdown",
   "metadata": {
    "colab_type": "text",
    "id": "swy6cieRHbaa"
   },
   "source": [
    "#### シンプルデータセット1作成コード"
   ]
  },
  {
   "cell_type": "code",
   "execution_count": 7,
   "metadata": {
    "colab": {},
    "colab_type": "code",
    "id": "xhJaVVSFp55w"
   },
   "outputs": [],
   "source": [
    "import numpy as np\n",
    "\n",
    "np.random.seed(seed=0)\n",
    "n_samples = 500\n",
    "f0 = [-1, 2]\n",
    "f1 = [2, -1]\n",
    "cov = [[1.0,0.8], [0.8, 1.0]]\n",
    "\n",
    "f0 = np.random.multivariate_normal(f0, cov, int(n_samples/2))\n",
    "f1 = np.random.multivariate_normal(f1, cov, int(n_samples/2))\n",
    "\n",
    "X = np.concatenate((f0, f1))\n",
    "y = np.concatenate((np.ones((int(n_samples/2))), np.ones((int(n_samples/2))) *(-1))).astype(np.int)\n",
    "\n",
    "random_index = np.random.permutation(np.arange(n_samples))\n",
    "X = X[random_index]\n",
    "y = y[random_index]"
   ]
  },
  {
   "cell_type": "code",
   "execution_count": 8,
   "metadata": {
    "colab": {
     "base_uri": "https://localhost:8080/",
     "height": 445
    },
    "colab_type": "code",
    "executionInfo": {
     "elapsed": 34077,
     "status": "ok",
     "timestamp": 1580710960093,
     "user": {
      "displayName": "RYOSUKE FUJII",
      "photoUrl": "https://lh3.googleusercontent.com/a-/AAuE7mArIT_2J8uHkPQxTtu_LCg2p7DRjYhxyWoY3xzWbA=s64",
      "userId": "06292435546189993794"
     },
     "user_tz": -540
    },
    "id": "1qZNtSWDfdof",
    "outputId": "faff87d2-e358-4754-dee0-eb52fed48a17"
   },
   "outputs": [
    {
     "name": "stdout",
     "output_type": "stream",
     "text": [
      "[1, 1, 1, -1, 1, 1, -1, 1, -1, 1, -1, -1, 1, 1, -1, 1, -1, 1, 1, -1, -1, -1, -1, -1, 1, -1, -1, -1, -1, -1, -1, -1, 1, 1, -1, 1, 1, 1, 1, -1, -1, 1, 1, -1, -1, -1, 1, -1, -1, -1, -1, -1, -1, 1, -1, -1, -1, 1, -1, -1, 1, 1, -1, -1, 1, -1, 1, 1, -1, -1, 1, 1, -1, -1, 1, -1, -1, 1, 1, 1, -1, 1, 1, 1, 1, -1, -1, -1, -1, 1, -1, 1, -1, -1, 1, -1, -1, -1, 1, -1, 1, 1, -1, 1, 1, 1, -1, -1, 1, -1, -1, 1, 1, 1, -1, 1, 1, -1, -1, 1, -1, 1, 1, -1, 1, 1, -1, -1, -1, -1, 1, -1, 1, 1, -1, 1, 1, 1, 1, 1, -1, -1, 1, 1, 1, -1, 1, 1, -1, -1, 1, 1, 1, 1, -1, -1, -1, 1, 1, -1, 1, 1, -1, -1, -1, 1, -1, 1, -1, -1, 1, 1, 1, -1, 1, 1, 1, -1, 1, -1, 1, 1, 1, -1, -1, 1, -1, 1, 1, 1, -1, -1, -1, -1, -1, -1, 1, -1, 1, -1, 1, -1, -1, -1, -1, -1, -1, 1, -1, 1, 1, -1, -1, 1, -1, -1, 1, -1, -1, -1, 1, 1, 1, 1, -1, -1, 1, -1, -1, -1, 1, 1, 1, -1, -1, 1, 1, 1, -1, 1, 1, 1, -1, 1, -1, 1, -1, 1, -1, -1, 1, -1, -1, -1, 1, 1, 1, 1, 1, -1, 1, 1, 1, -1, 1, -1, -1, -1, 1, -1, -1, -1, -1, 1, -1, 1, 1, 1, -1, 1, -1, 1, 1, -1, 1, -1, 1, -1, -1, 1, -1, 1, -1, -1, -1, 1, 1, 1, 1, -1, -1, 1, 1, 1, -1, 1, 1, -1, -1, 1, -1, 1, -1, -1, -1, 1, -1, 1, -1, 1, -1, -1, 1, 1, 1, -1, -1, 1, -1, 1, 1, 1, 1, 1, 1, 1, -1, -1, -1, -1, -1, -1, 1, -1, -1, -1, -1, -1, -1, 1, -1, -1, -1, -1, -1, -1, 1, 1, -1, 1, 1, 1, -1, -1, 1, -1, -1, -1, -1, 1, -1, -1, 1, -1, 1, -1, 1, 1, -1, 1, 1, 1, 1, 1, 1, 1, 1, 1, 1, -1, -1, 1, 1, 1, -1, 1, 1, -1, -1, 1]\n",
      "[ 1 -1  1  1 -1  1 -1  1 -1  1 -1  1 -1 -1  1 -1 -1 -1 -1  1 -1  1 -1  1\n",
      " -1 -1 -1  1 -1  1  1 -1 -1 -1 -1  1  1  1 -1 -1  1  1 -1  1 -1  1 -1  1\n",
      "  1  1  1  1  1  1  1  1 -1 -1  1 -1  1  1 -1 -1  1 -1  1  1 -1  1  1 -1\n",
      "  1  1  1 -1 -1  1  1 -1 -1 -1 -1 -1 -1 -1  1  1 -1  1  1  1 -1  1  1  1\n",
      "  1  1 -1 -1]\n",
      "正解率：100.0%\n",
      "正解数：100/100個\n",
      "[1, 1, 1, -1, 1, 1, -1, 1, -1, 1, -1, -1, 1, 1, -1, 1, -1, 1, 1, -1, -1, -1, -1, -1, 1, -1, -1, -1, -1, -1, -1, -1, 1, 1, -1, 1, 1, 1, 1, -1, -1, 1, 1, -1, -1, -1, 1, -1, -1, -1, -1, -1, -1, 1, -1, -1, -1, 1, -1, -1, 1, 1, -1, -1, 1, -1, 1, 1, -1, -1, 1, 1, -1, -1, 1, -1, -1, 1, 1, 1, -1, 1, 1, 1, 1, -1, -1, -1, -1, 1, -1, 1, -1, -1, 1, -1, -1, -1, 1, -1, 1, 1, -1, 1, 1, 1, -1, -1, 1, -1, -1, 1, 1, 1, -1, 1, 1, -1, -1, 1, -1, 1, 1, -1, 1, 1, -1, -1, -1, -1, 1, -1, 1, 1, -1, 1, 1, 1, 1, 1, -1, -1, 1, 1, 1, -1, 1, 1, -1, -1, 1, 1, 1, 1, -1, -1, -1, 1, 1, -1, 1, 1, -1, -1, -1, 1, -1, 1, -1, -1, 1, 1, 1, -1, 1, 1, 1, -1, 1, -1, 1, 1, 1, -1, -1, 1, -1, 1, 1, 1, -1, -1, -1, -1, -1, -1, 1, -1, 1, -1, 1, -1, -1, -1, -1, -1, -1, 1, -1, 1, 1, -1, -1, 1, -1, -1, 1, -1, -1, -1, 1, 1, 1, 1, -1, -1, 1, -1, -1, -1, 1, 1, 1, -1, -1, 1, 1, 1, -1, 1, 1, 1, -1, 1, -1, 1, -1, 1, -1, -1, 1, -1, -1, -1, 1, 1, 1, 1, 1, -1, 1, 1, 1, -1, 1, -1, -1, -1, 1, -1, -1, -1, -1, 1, -1, 1, 1, 1, -1, 1, -1, 1, 1, -1, 1, -1, 1, -1, -1, 1, -1, 1, -1, -1, -1, 1, 1, 1, 1, -1, -1, 1, 1, 1, -1, 1, 1, -1, -1, 1, -1, 1, -1, -1, -1, 1, -1, 1, -1, 1, -1, -1, 1, 1, 1, -1, -1, 1, -1, 1, 1, 1, 1, 1, 1, 1, -1, -1, -1, -1, -1, -1, 1, -1, -1, -1, -1, -1, -1, 1, -1, -1, -1, -1, -1, -1, 1, 1, -1, 1, 1, 1, -1, -1, 1, -1, -1, -1, -1, 1, -1, -1, 1, -1, 1, -1, 1, 1, -1, 1, 1, 1, 1, 1, 1, 1, 1, 1, 1, -1, -1, 1, 1, 1, -1, 1, 1, -1, -1, 1]\n",
      "[ 1 -1  1  1 -1  1 -1  1 -1  1 -1  1 -1 -1  1 -1 -1 -1 -1  1 -1  1 -1  1\n",
      " -1 -1 -1  1 -1  1  1 -1 -1 -1 -1  1  1  1 -1 -1  1  1 -1  1 -1  1 -1  1\n",
      "  1  1  1  1  1  1  1  1 -1 -1  1 -1  1  1 -1 -1  1 -1  1  1 -1  1  1 -1\n",
      "  1  1  1 -1 -1  1  1 -1 -1 -1 -1 -1 -1 -1  1  1 -1  1  1  1 -1  1  1  1\n",
      "  1  1 -1 -1]\n",
      "正解率：100.0%\n",
      "正解数：100/100個\n",
      "[1, 1, 1, -1, 1, 1, -1, 1, -1, 1, -1, -1, 1, 1, -1, 1, -1, 1, 1, -1, -1, -1, -1, -1, 1, -1, -1, -1, -1, -1, -1, -1, 1, 1, -1, 1, 1, 1, 1, -1, -1, 1, 1, -1, -1, -1, 1, -1, -1, -1, -1, -1, -1, 1, -1, -1, -1, 1, -1, -1, 1, 1, -1, -1, 1, -1, 1, 1, -1, -1, 1, 1, -1, -1, 1, -1, -1, 1, 1, 1, -1, 1, 1, 1, 1, -1, -1, -1, -1, 1, -1, 1, -1, -1, 1, -1, -1, -1, 1, -1, 1, 1, -1, 1, 1, 1, -1, -1, 1, -1, -1, 1, 1, 1, -1, 1, 1, -1, -1, 1, -1, 1, 1, -1, 1, 1, -1, -1, -1, -1, 1, -1, 1, 1, -1, 1, 1, 1, 1, 1, -1, -1, 1, 1, 1, -1, 1, 1, -1, -1, 1, 1, 1, 1, -1, -1, -1, 1, 1, -1, 1, 1, -1, -1, -1, 1, -1, 1, -1, -1, 1, 1, 1, -1, 1, 1, 1, -1, 1, -1, 1, 1, 1, -1, -1, 1, -1, 1, 1, 1, -1, -1, -1, -1, -1, -1, 1, -1, 1, -1, 1, -1, -1, -1, -1, -1, -1, 1, -1, 1, 1, -1, -1, 1, -1, -1, 1, -1, -1, -1, 1, 1, 1, 1, -1, -1, 1, -1, -1, -1, 1, 1, 1, -1, -1, 1, 1, 1, -1, 1, 1, 1, -1, 1, -1, 1, -1, 1, -1, -1, 1, -1, -1, -1, 1, 1, 1, 1, 1, -1, 1, 1, 1, -1, 1, -1, -1, -1, 1, -1, -1, -1, -1, 1, -1, 1, 1, 1, -1, 1, -1, 1, 1, -1, 1, -1, 1, -1, -1, 1, -1, 1, -1, -1, -1, 1, 1, 1, 1, -1, -1, 1, 1, 1, -1, 1, 1, -1, -1, 1, -1, 1, -1, -1, -1, 1, -1, 1, -1, 1, -1, -1, 1, 1, 1, -1, -1, 1, -1, 1, 1, 1, 1, 1, 1, 1, -1, -1, -1, -1, -1, -1, 1, -1, -1, -1, -1, -1, -1, 1, -1, -1, -1, -1, -1, -1, 1, 1, -1, 1, 1, 1, -1, -1, 1, -1, -1, -1, -1, 1, -1, -1, 1, -1, 1, -1, 1, 1, -1, 1, 1, 1, 1, 1, 1, 1, 1, 1, 1, -1, -1, 1, 1, 1, -1, 1, 1, -1, -1, 1]\n",
      "[ 1 -1  1  1 -1  1 -1  1 -1  1 -1  1 -1 -1  1 -1 -1 -1 -1  1 -1  1 -1  1\n",
      " -1 -1 -1  1 -1  1  1 -1 -1 -1 -1  1  1  1 -1 -1  1  1 -1  1 -1  1 -1  1\n",
      "  1  1  1  1  1  1  1  1 -1 -1  1 -1  1  1 -1 -1  1 -1  1  1 -1  1  1 -1\n",
      "  1  1  1 -1 -1  1  1 -1 -1 -1 -1 -1 -1 -1  1  1 -1  1  1  1 -1  1  1  1\n",
      "  1  1 -1 -1]\n",
      "正解率：100.0%\n",
      "正解数：100/100個\n"
     ]
    }
   ],
   "source": [
    "X_train, X_test, y_train, y_test = scratch_train_test_split(X, y, train_size=0.8)\n",
    "\n",
    "\n",
    "# ロジスティック回帰（SGDClassifierクラス）\n",
    "from sklearn import linear_model\n",
    "\n",
    "sgdc_clf = linear_model.SGDClassifier(random_state=42, loss='log')\n",
    "sgdc_clf.fit(X_train, y_train)\n",
    "y_pred_sgdc = sgdc_clf.predict(X_test)\n",
    "print(y_train)\n",
    "print(y_pred_sgdc)\n",
    "\n",
    "from sklearn.metrics import accuracy_score\n",
    "\n",
    "accuracy_rate = accuracy_score(y_test, y_pred_sgdc) # 正解率\n",
    "print('正解率：{}%'.format(accuracy_rate*100))\n",
    "n_accuracy = accuracy_score(y_test, y_pred_sgdc, normalize=False) # 正解数\n",
    "print('正解数：{}個'.format(str(n_accuracy) + '/' + str(len(y_test))))\n",
    "\n",
    "\n",
    "# SVM\n",
    "from sklearn.svm import SVC\n",
    "\n",
    "svc_clf = SVC()\n",
    "svc_clf.fit(X_train, y_train)\n",
    "y_pred_svc = svc_clf.predict(X_test)\n",
    "print(y_train)\n",
    "print(y_pred_svc)\n",
    "\n",
    "accuracy_rate = accuracy_score(y_test, y_pred_svc) # 正解率\n",
    "print('正解率：{}%'.format(accuracy_rate*100))\n",
    "n_accuracy = accuracy_score(y_test, y_pred_svc, normalize=False) # 正解数\n",
    "print('正解数：{}個'.format(str(n_accuracy) + '/' + str(len(y_test))))\n",
    "\n",
    "\n",
    "# 決定木\n",
    "from sklearn.tree import DecisionTreeClassifier \n",
    "\n",
    "dtree_clf = DecisionTreeClassifier(random_state=42)\n",
    "dtree_clf.fit(X_train, y_train)\n",
    "y_pred_dtree = dtree_clf.predict(X_test)\n",
    "print(y_train)\n",
    "print(y_pred_dtree)\n",
    "\n",
    "accuracy_rate = accuracy_score(y_test, y_pred_dtree) # 正解率\n",
    "print('正解率：{}%'.format(accuracy_rate*100))\n",
    "n_accuracy = accuracy_score(y_test, y_pred_dtree, normalize=False) # 正解数\n",
    "print('正解数：{}個'.format(str(n_accuracy) + '/' + str(len(y_test))))"
   ]
  },
  {
   "cell_type": "markdown",
   "metadata": {
    "colab_type": "text",
    "id": "WymPcdrqqCES"
   },
   "source": [
    "#### シンプルデータセット2作成コード\n"
   ]
  },
  {
   "cell_type": "code",
   "execution_count": 9,
   "metadata": {
    "colab": {},
    "colab_type": "code",
    "id": "pdvIGC7sqIy7"
   },
   "outputs": [],
   "source": [
    "X = np.array([[-0.44699 , -2.8073  ],[-1.4621  , -2.4586  ],\n",
    "       [ 0.10645 ,  1.9242  ],[-3.5944  , -4.0112  ],\n",
    "       [-0.9888  ,  4.5718  ],[-3.1625  , -3.9606  ],\n",
    "       [ 0.56421 ,  0.72888 ],[-0.60216 ,  8.4636  ],\n",
    "       [-0.61251 , -0.75345 ],[-0.73535 , -2.2718  ],\n",
    "       [-0.80647 , -2.2135  ],[ 0.86291 ,  2.3946  ],\n",
    "       [-3.1108  ,  0.15394 ],[-2.9362  ,  2.5462  ],\n",
    "       [-0.57242 , -2.9915  ],[ 1.4771  ,  3.4896  ],\n",
    "       [ 0.58619 ,  0.37158 ],[ 0.6017  ,  4.3439  ],\n",
    "       [-2.1086  ,  8.3428  ],[-4.1013  , -4.353   ],\n",
    "       [-1.9948  , -1.3927  ],[ 0.35084 , -0.031994],\n",
    "       [ 0.96765 ,  7.8929  ],[-1.281   , 15.6824  ],\n",
    "       [ 0.96765 , 10.083   ],[ 1.3763  ,  1.3347  ],\n",
    "       [-2.234   , -2.5323  ],[-2.9452  , -1.8219  ],\n",
    "       [ 0.14654 , -0.28733 ],[ 0.5461  ,  5.8245  ],\n",
    "       [-0.65259 ,  9.3444  ],[ 0.59912 ,  5.3524  ],\n",
    "       [ 0.50214 , -0.31818 ],[-3.0603  , -3.6461  ],\n",
    "       [-6.6797  ,  0.67661 ],[-2.353   , -0.72261 ],\n",
    "       [ 1.1319  ,  2.4023  ],[-0.12243 ,  9.0162  ],\n",
    "       [-2.5677  , 13.1779  ],[ 0.057313,  5.4681  ]])\n",
    "y = np.array([0, 0, 0, 0, 0, 0, 0, 0, 0, 0, 0, 0, 0, 0, 0, 0, 0, 0, 0, 0, 1, 1,\n",
    "       1, 1, 1, 1, 1, 1, 1, 1, 1, 1, 1, 1, 1, 1, 1, 1, 1, 1])"
   ]
  },
  {
   "cell_type": "code",
   "execution_count": 10,
   "metadata": {
    "colab": {
     "base_uri": "https://localhost:8080/",
     "height": 221
    },
    "colab_type": "code",
    "executionInfo": {
     "elapsed": 34066,
     "status": "ok",
     "timestamp": 1580710960094,
     "user": {
      "displayName": "RYOSUKE FUJII",
      "photoUrl": "https://lh3.googleusercontent.com/a-/AAuE7mArIT_2J8uHkPQxTtu_LCg2p7DRjYhxyWoY3xzWbA=s64",
      "userId": "06292435546189993794"
     },
     "user_tz": -540
    },
    "id": "WKZ3yR33fdzM",
    "outputId": "13711318-ba11-49f3-93ef-17abce78cb02"
   },
   "outputs": [
    {
     "name": "stdout",
     "output_type": "stream",
     "text": [
      "[0, 1, 0, 1, 1, 0, 1, 1, 0, 1, 0, 0, 0, 0, 0, 1, 1, 1, 1, 0, 0, 1, 0, 1, 0, 0, 1, 0, 1, 0, 0, 1]\n",
      "[1 0 1 0 0 1 1 1]\n",
      "正解率：50.0%\n",
      "正解数：4/8個\n",
      "[0, 1, 0, 1, 1, 0, 1, 1, 0, 1, 0, 0, 0, 0, 0, 1, 1, 1, 1, 0, 0, 1, 0, 1, 0, 0, 1, 0, 1, 0, 0, 1]\n",
      "[0 0 0 0 0 0 0 1]\n",
      "正解率：50.0%\n",
      "正解数：4/8個\n",
      "[0, 1, 0, 1, 1, 0, 1, 1, 0, 1, 0, 0, 0, 0, 0, 1, 1, 1, 1, 0, 0, 1, 0, 1, 0, 0, 1, 0, 1, 0, 0, 1]\n",
      "[0 0 1 1 0 0 0 1]\n",
      "正解率：75.0%\n",
      "正解数：6/8個\n"
     ]
    }
   ],
   "source": [
    "X_train, X_test, y_train, y_test = scratch_train_test_split(X, y, train_size=0.8)\n",
    "\n",
    "\n",
    "# ロジスティック回帰（SGDClassifierクラス）\n",
    "from sklearn import linear_model\n",
    "\n",
    "sgdc_clf = linear_model.SGDClassifier(random_state=42, loss='log')\n",
    "sgdc_clf.fit(X_train, y_train)\n",
    "y_pred_sgdc = sgdc_clf.predict(X_test)\n",
    "print(y_train)\n",
    "print(y_pred_sgdc)\n",
    "\n",
    "from sklearn.metrics import accuracy_score\n",
    "\n",
    "accuracy_rate = accuracy_score(y_test, y_pred_sgdc) # 正解率\n",
    "print('正解率：{}%'.format(accuracy_rate*100))\n",
    "n_accuracy = accuracy_score(y_test, y_pred_sgdc, normalize=False) # 正解数\n",
    "print('正解数：{}個'.format(str(n_accuracy) + '/' + str(len(y_test))))\n",
    "\n",
    "\n",
    "# SVM\n",
    "from sklearn.svm import SVC\n",
    "\n",
    "svc_clf = SVC()\n",
    "svc_clf.fit(X_train, y_train)\n",
    "y_pred_svc = svc_clf.predict(X_test)\n",
    "print(y_train)\n",
    "print(y_pred_svc)\n",
    "\n",
    "accuracy_rate = accuracy_score(y_test, y_pred_svc) # 正解率\n",
    "print('正解率：{}%'.format(accuracy_rate*100))\n",
    "n_accuracy = accuracy_score(y_test, y_pred_svc, normalize=False) # 正解数\n",
    "print('正解数：{}個'.format(str(n_accuracy) + '/' + str(len(y_test))))\n",
    "\n",
    "\n",
    "# 決定木\n",
    "from sklearn.tree import DecisionTreeClassifier \n",
    "\n",
    "dtree_clf = DecisionTreeClassifier(random_state=42)\n",
    "dtree_clf.fit(X_train, y_train)\n",
    "y_pred_dtree = dtree_clf.predict(X_test)\n",
    "print(y_train)\n",
    "print(y_pred_dtree)\n",
    "\n",
    "accuracy_rate = accuracy_score(y_test, y_pred_dtree) # 正解率\n",
    "print('正解率：{}%'.format(accuracy_rate*100))\n",
    "n_accuracy = accuracy_score(y_test, y_pred_dtree, normalize=False) # 正解数\n",
    "print('正解数：{}個'.format(str(n_accuracy) + '/' + str(len(y_test))))"
   ]
  },
  {
   "cell_type": "markdown",
   "metadata": {
    "colab_type": "text",
    "id": "jNp5dbq7qrgI"
   },
   "source": [
    "## 回帰問題\n",
    "回帰は1種類をスクラッチします。\n",
    "\n",
    "* 線形回帰\n",
    "\n",
    "線形回帰は勾配降下法を用いて計算するSGDRegressorクラスを利用してください。\n",
    "\n",
    "[sklearn.linear_model.SGDRegressor — scikit-learn 0.21.3 documentation](https://scikit-learn.org/stable/modules/generated/sklearn.linear_model.SGDRegressor.html)\n",
    "\n",
    "データセットは事前学習期間同様にHouse Pricesコンペティションのものを使います。\n",
    "\n",
    "[House Prices: Advanced Regression Techniques](https://www.kaggle.com/c/house-prices-advanced-regression-techniques/data)\n",
    "\n",
    "**train.csv**をダウンロードし、目的変数として**SalePrice**、説明変数として、**GrLivArea**と**YearBuilt**を使います。"
   ]
  },
  {
   "cell_type": "markdown",
   "metadata": {
    "colab_type": "text",
    "id": "J6e0g9gmqneb"
   },
   "source": [
    "## 【問題3】 回帰問題を解くコードの作成\n",
    "線形回帰でHouse Pricesデータセットを学習・推定するコードを作成してください。"
   ]
  },
  {
   "cell_type": "markdown",
   "metadata": {
    "colab_type": "text",
    "id": "UdAak0yjq6dF"
   },
   "source": [
    "### 【問題3】解答"
   ]
  },
  {
   "cell_type": "code",
   "execution_count": 11,
   "metadata": {
    "colab": {
     "base_uri": "https://localhost:8080/",
     "height": 390
    },
    "colab_type": "code",
    "executionInfo": {
     "elapsed": 1375,
     "status": "ok",
     "timestamp": 1580711478141,
     "user": {
      "displayName": "RYOSUKE FUJII",
      "photoUrl": "https://lh3.googleusercontent.com/a-/AAuE7mArIT_2J8uHkPQxTtu_LCg2p7DRjYhxyWoY3xzWbA=s64",
      "userId": "06292435546189993794"
     },
     "user_tz": -540
    },
    "id": "aio6BPcmq-XM",
    "outputId": "697dcdc6-3bd4-493c-e26e-0a8049f06c33"
   },
   "outputs": [
    {
     "name": "stdout",
     "output_type": "stream",
     "text": [
      "[54121.24732965 30209.92428461]\n",
      "[182436.98281702]\n"
     ]
    },
    {
     "name": "stderr",
     "output_type": "stream",
     "text": [
      "/Users/FUZZY/opt/anaconda3/lib/python3.7/site-packages/statsmodels/tools/_testing.py:19: FutureWarning: pandas.util.testing is deprecated. Use the functions in the public API at pandas.testing instead.\n",
      "  import pandas.util.testing as tm\n"
     ]
    },
    {
     "name": "stdout",
     "output_type": "stream",
     "text": [
      "X_test [-0.9888888434051912, -1.0356130600071909]\n",
      "y_test [176000, 108000, 177500, 190000, 55993, 167500, 180500, 123000, 170000, 305000, 115000, 120000, 119000, 140000, 192000, 250000, 68500, 119000, 307000, 140000, 127000, 225000, 40000, 179500, 128500, 340000, 192000, 131500, 118964, 68400, 264561, 193500, 165000, 315000, 208500, 143000, 185000, 145000, 173733, 301000, 210000, 226000, 88000, 155000, 185000, 147000, 282922, 139500, 219500, 127000, 108959, 162000, 138000, 98000, 115000, 145250, 221000, 100000, 229456, 140000, 127500, 240000, 194500, 394617, 241500, 140000, 163000, 58500, 143000, 117000, 133000, 201000, 118500, 162900, 133900, 148800, 412500, 253000, 256300, 116900, 178000, 161500, 171000, 177000, 93000, 173000, 233170, 130500, 178900, 306000, 130000, 128000, 143000, 262500, 149300, 187500, 140000, 139000, 242000, 320000, 105000, 151500, 245350, 239000, 108000, 281000, 280000, 138000, 82500, 117000, 193500, 124000, 197000, 138500, 162000, 165000, 157000, 183200, 222500, 204000, 204000, 216000, 141000, 260000, 200500, 117000, 239686, 84500, 79900, 336000, 158000, 394432, 67000, 141000, 224900, 107400, 194500, 179400, 83000, 110000, 241500, 93000, 248328, 81000, 225000, 145000, 130000, 174000, 142000, 129000, 160000, 285000, 163500, 119500, 158500, 192140, 124000, 116000, 250000, 437154, 100000, 280000, 113000, 113000, 165500, 184000, 426000, 227875, 180500, 117000, 136500, 185500, 127000, 423000, 183500, 187500, 333168, 240000, 169990, 185000, 262000, 152000, 200000, 555000, 155000, 151400, 268000, 194000, 109900, 274725, 160000, 110000, 225000, 185000, 200000, 260000, 165000, 107500, 155835, 165400, 226000, 213500, 125000, 148000, 110000, 34900, 154900, 84500, 147500, 134000, 135000, 143500, 79500, 213000, 118400, 138887, 149500, 179900, 159434, 212900, 230000, 114504, 215000, 105500, 97000, 232000, 155000, 88000, 152000, 173000, 135000, 129900, 135900, 160000, 188000, 129000, 215000, 155000, 129000, 120000, 173000, 135000, 294000, 223500, 227000, 144000, 137000, 184000, 207500, 118000, 87000, 39300, 167900, 255000, 287090, 93500, 126000, 203000, 171750, 155000, 149500, 320000, 143900, 180000, 160000, 87000, 120000, 372402, 112000, 200000, 157000, 101800, 92900, 134000, 122000, 127000, 159000, 164500, 164700, 230000, 199900, 158000, 131400, 85500, 240000, 147400, 121600, 145000, 175000, 245000, 131500, 107900]\n"
     ]
    },
    {
     "data": {
      "image/png": "[encoded data removed]",
      "text/plain": [
       "<Figure size 432x288 with 1 Axes>"
      ]
     },
     "metadata": {},
     "output_type": "display_data"
    }
   ],
   "source": [
    "import pandas as pd\n",
    "\n",
    "X = df[['GrLivArea', 'YearBuilt']].values\n",
    "y = df['SalePrice'].values\n",
    "\n",
    "# 標準化\n",
    "from sklearn.preprocessing import StandardScaler\n",
    "sc = StandardScaler()\n",
    "sc.fit(X)\n",
    "X=sc.transform(X)\n",
    "\n",
    "# 分割\n",
    "X_train, X_test, y_train, y_test = scratch_train_test_split(X, y, train_size=0.8)\n",
    "\n",
    "from sklearn import linear_model\n",
    "\n",
    "sgd_reg = linear_model.SGDRegressor()\n",
    "sgd_reg.fit(X_train, y_train)\n",
    "\n",
    "# 回帰係数を出力\n",
    "print(sgd_reg.coef_)\n",
    "print(sgd_reg.intercept_)\n",
    "\n",
    "# 作成したモデルから予測（学習用、検証用モデル使用）\n",
    "y_train_pred = sgd_reg.predict(X_train)\n",
    "y_test_pred = sgd_reg.predict(X_test)\n",
    "\n",
    "\n",
    "import matplotlib.pyplot as plt\n",
    "import seaborn as sns\n",
    "%matplotlib inline\n",
    "\n",
    "sns.set()\n",
    "plt.xlabel('y_test')\n",
    "plt.ylabel('y_test_pred')\n",
    "plt.scatter(y_test, y_test_pred)\n",
    "\n",
    "print('X_test', X_test[1])\n",
    "\n",
    "print('y_test', y_test)"
   ]
  }
 ],
 "metadata": {
  "colab": {
   "name": "Sprint 機械学習スクラッチ入門.ipynb",
   "provenance": [],
   "toc_visible": true
  },
  "kernelspec": {
   "display_name": "Python 3",
   "language": "python",
   "name": "python3"
  },
  "language_info": {
   "codemirror_mode": {
    "name": "ipython",
    "version": 3
   },
   "file_extension": ".py",
   "mimetype": "text/x-python",
   "name": "python",
   "nbconvert_exporter": "python",
   "pygments_lexer": "ipython3",
   "version": "3.7.4"
  },
  "toc": {
   "base_numbering": 1,
   "nav_menu": {},
   "number_sections": true,
   "sideBar": true,
   "skip_h1_title": false,
   "title_cell": "Table of Contents",
   "title_sidebar": "Contents",
   "toc_cell": false,
   "toc_position": {},
   "toc_section_display": true,
   "toc_window_display": true
  }
 },
 "nbformat": 4,
 "nbformat_minor": 1
}
