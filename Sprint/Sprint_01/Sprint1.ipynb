{
 "cells": [
  {
   "cell_type": "code",
   "execution_count": 1,
   "metadata": {
    "colab": {},
    "colab_type": "code",
    "id": "CjILVyfo7axv"
   },
   "outputs": [
    {
     "name": "stderr",
     "output_type": "stream",
     "text": [
      "/Users/FUZZY/opt/anaconda3/lib/python3.7/site-packages/statsmodels/tools/_testing.py:19: FutureWarning: pandas.util.testing is deprecated. Use the functions in the public API at pandas.testing instead.\n",
      "  import pandas.util.testing as tm\n",
      "/Users/FUZZY/opt/anaconda3/lib/python3.7/site-packages/lightgbm/__init__.py:48: UserWarning: Starting from version 2.2.1, the library file in distribution wheels for macOS is built by the Apple Clang (Xcode_8.3.3) compiler.\n",
      "This means that in case of installing LightGBM from PyPI via the ``pip install lightgbm`` command, you don't need to install the gcc compiler anymore.\n",
      "Instead of that, you need to install the OpenMP library, which is required for running LightGBM on the system with the Apple Clang compiler.\n",
      "You can install the OpenMP library by the following command: ``brew install libomp``.\n",
      "  \"You can install the OpenMP library by the following command: ``brew install libomp``.\", UserWarning)\n"
     ]
    }
   ],
   "source": [
    "import numpy as np\n",
    "import pandas as pd\n",
    "from pandas.plotting import scatter_matrix\n",
    "import matplotlib as mpl\n",
    "import matplotlib.pyplot as plt\n",
    "import seaborn as sns\n",
    "from sklearn.preprocessing import StandardScaler\n",
    "from sklearn.model_selection import train_test_split, StratifiedKFold, cross_val_score, GridSearchCV\n",
    "from sklearn.ensemble import RandomForestClassifier\n",
    "from sklearn.linear_model import LogisticRegression\n",
    "from sklearn import linear_model, svm, datasets\n",
    "import lightgbm as lgb\n",
    "from sklearn.metrics import confusion_matrix, accuracy_score, precision_score, roc_curve, auc, roc_auc_score\n",
    "from sklearn.feature_selection import SelectPercentile, SelectFromModel"
   ]
  },
  {
   "cell_type": "markdown",
   "metadata": {
    "colab_type": "text",
    "id": "MOhfTTJt3e1L"
   },
   "source": [
    "# 機械学習フロー\n",
    "Kaggleの **Home Credit Default Risk** コンペティションを題材に、機械学習の実践的な流れを学びます。特に適切な **検証** を行い、高い **汎化性能** のあるモデルを完成させることを目指します。\n",
    "\n",
    "[Home Credit Default Risk | Kaggle](https://www.kaggle.com/c/home-credit-default-risk)\n",
    "\n"
   ]
  },
  {
   "cell_type": "code",
   "execution_count": 2,
   "metadata": {
    "colab": {
     "base_uri": "https://localhost:8080/",
     "height": 426
    },
    "colab_type": "code",
    "executionInfo": {
     "elapsed": 798,
     "status": "error",
     "timestamp": 1580807307614,
     "user": {
      "displayName": "RYOSUKE FUJII",
      "photoUrl": "https://lh3.googleusercontent.com/a-/AAuE7mArIT_2J8uHkPQxTtu_LCg2p7DRjYhxyWoY3xzWbA=s64",
      "userId": "06292435546189993794"
     },
     "user_tz": -540
    },
    "id": "YHhyCpEC70_x",
    "outputId": "42317019-605f-4a22-bea1-1169cbc6e019"
   },
   "outputs": [
    {
     "data": {
      "text/plain": [
       "(307511, 122)"
      ]
     },
     "execution_count": 2,
     "metadata": {},
     "output_type": "execute_result"
    }
   ],
   "source": [
    "df = pd.read_csv('../../home-credit-default-risk/application_train.csv')\n",
    "df.shape"
   ]
  },
  {
   "cell_type": "code",
   "execution_count": 3,
   "metadata": {},
   "outputs": [],
   "source": [
    "pd.options.display.max_columns = None\n",
    "pd.set_option('display.max_rows', 1000)"
   ]
  },
  {
   "cell_type": "code",
   "execution_count": 4,
   "metadata": {},
   "outputs": [],
   "source": [
    "# 文字列のカテゴリカル変数抽出\n",
    "objct_cols = df.select_dtypes(include=object)\n",
    "# display(objct_cols)\n",
    "objct_cols_list = df.select_dtypes(include=object).columns\n",
    "# print(objct_cols_list)\n",
    "\n",
    "# 文字列の列の欠損値を変換\n",
    "df[objct_cols_list] = df[objct_cols_list].fillna('Missing_Data') \n",
    "# print(df[objct_cols_list].isnull().sum())\n",
    "\n",
    "# ターゲットエンコーディング\n",
    "for col in objct_cols_list:\n",
    "    label_mean = df.groupby(col).TARGET.mean() # groupby()でラベル分した後にラベル毎の'label'の列の平均を取得\n",
    "    df[col] = df[col].map(label_mean).copy() # df[C]に値を代入\n",
    "# df[objct_cols_list]\n",
    "\n",
    "# 欠損値処理\n",
    "df = df.dropna() # 欠損値がある行を削除\n",
    "# df = df.fillna(df.mean()) # 欠損値を平均に置き換え\n",
    "# df = df.fillna(df.median()) # 欠損値を中央値に置き換え\n",
    "\n",
    "# print(df.isnull().sum())\n",
    "# print(df.shape)\n",
    "\n",
    "# データとターゲットに分割\n",
    "target = df.pop('TARGET')\n",
    "\n",
    "# # 短変量統計\n",
    "# select = SelectPercentile(percentile=3) # select 1% features\n",
    "# select.fit(df, target)\n",
    "# mask = select.get_support()\n",
    "# df_selected = select.transform(df) # type:dataFrame->ndarray\n",
    "\n",
    "# print(df.columns[np.where(mask==True)])\n",
    "\n",
    "# # ndarrayに変換\n",
    "# target = target.values"
   ]
  },
  {
   "cell_type": "code",
   "execution_count": 5,
   "metadata": {},
   "outputs": [],
   "source": [
    "# # 不要な列を削除\n",
    "# df = df.fillna(0).drop(['SK_ID_CURR'], axis=1)"
   ]
  },
  {
   "cell_type": "code",
   "execution_count": 6,
   "metadata": {},
   "outputs": [],
   "source": [
    "# # カテゴリ変数をダミー変数に変換\n",
    "# df = pd.get_dummies(df)"
   ]
  },
  {
   "cell_type": "code",
   "execution_count": 7,
   "metadata": {},
   "outputs": [],
   "source": [
    "# # 標準化\n",
    "# sc = StandardScaler()\n",
    "# sc.fit(df)\n",
    "# X=sc.transform(df)"
   ]
  },
  {
   "cell_type": "markdown",
   "metadata": {
    "colab_type": "text",
    "id": "IB6CaCDz3rhS"
   },
   "source": [
    "## 【問題1】クロスバリデーション\n",
    "事前学習期間では検証用データをはじめに分割しておき、それに対して指標値を計算することで検証を行っていました。（**ホールドアウト法**）しかし、分割の仕方により精度は変化します。実践的には **クロスバリデーション（交差検証）** を行います。分割を複数回行い、それぞれに対して学習と検証を行う方法です。複数回の分割のためにscikit-learnにはKFoldクラスが用意されています。\n",
    "\n",
    "事前学習期間の課題で作成したベースラインモデルに対してKFoldクラスによるクロスバリデーションを行うコードを作成し実行してください。\n",
    "\n",
    "[sklearn.model_selection.KFold — scikit-learn 0.21.3 documentation](https://scikit-learn.org/stable/modules/generated/sklearn.model_selection.KFold.html#sklearn.model_selection.KFold)\n",
    "\n"
   ]
  },
  {
   "cell_type": "markdown",
   "metadata": {},
   "source": [
    "### 【問題1】解答"
   ]
  },
  {
   "cell_type": "code",
   "execution_count": 8,
   "metadata": {
    "colab": {},
    "colab_type": "code",
    "id": "Xco4vbC9-wtM"
   },
   "outputs": [
    {
     "name": "stdout",
     "output_type": "stream",
     "text": [
      "ROC-AUC SCORE: [0.6946500523330985, 0.7039021836213003, 0.7028584530201458, 0.6938361719383617, 0.500311408146574]\n",
      "AVG: 0.6591116538118961\n"
     ]
    }
   ],
   "source": [
    "# クロスバリデーション法\n",
    "n_splits= 5\n",
    "skf = StratifiedKFold(n_splits=n_splits)\n",
    "scores = []\n",
    "for train, test in skf.split(df, target):\n",
    "    X_train, X_test = df.iloc[train], df.iloc[test]\n",
    "    y_train, y_test = target.iloc[train], target.iloc[test]\n",
    "    # ランダムフォレスト\n",
    "    model = RandomForestClassifier(n_estimators = 10, max_depth= 5, random_state= 42)\n",
    "    model.fit(X_train, np.ravel(y_train))\n",
    "    y_pred_proba = model.predict_proba(X_test)\n",
    "    scores.append(roc_auc_score(y_test, y_pred_proba[:,1]))\n",
    "print('ROC-AUC SCORE:',scores)\n",
    "print('AVG:',np.mean(scores))"
   ]
  },
  {
   "cell_type": "markdown",
   "metadata": {
    "colab_type": "text",
    "id": "FZdw9obJ33pe"
   },
   "source": [
    "## 【問題2】グリッドサーチ\n",
    "これまで分類器のパラメータには触れず、デフォルトの設定を使用していました。パラメータの詳細は今後のSprintで学んでいくことになります。機械学習の前提として、パラメータは状況に応じて最適なものを選ぶ必要があります。最適なパラメータを探していくことを **パラメータチューニング** と呼びます。パラメータチューニングをある程度自動化する単純な方法としては **グリッドサーチ** があります。\n",
    "\n",
    "scikit-learnのGridSearchCVを使い、グリッドサーチを行うコードを作成してください。そして、ベースラインモデルに対して何らかしらのパラメータチューニングを行なってください。どのパラメータをチューニングするかは、使用した手法の公式ドキュメントを参考にしてください。\n",
    "\n",
    "[sklearn.model_selection.GridSearchCV — scikit-learn 0.21.3 documentation](https://scikit-learn.org/stable/modules/generated/sklearn.model_selection.GridSearchCV.html)\n",
    "\n",
    "GridSearchCVクラスには引数としてモデル、探索範囲、さらにクロスバリデーションを何分割で行うかを与えます。クロスバリデーションの機能も含まれているため、これを使用する場合はKFoldクラスを利用する必要はありません。\n",
    "\n"
   ]
  },
  {
   "cell_type": "markdown",
   "metadata": {
    "colab_type": "text",
    "id": "I9z1lVJA0Axi"
   },
   "source": [
    "### 【問題2】解答"
   ]
  },
  {
   "cell_type": "code",
   "execution_count": 9,
   "metadata": {
    "colab": {
     "base_uri": "https://localhost:8080/",
     "height": 165
    },
    "colab_type": "code",
    "executionInfo": {
     "elapsed": 255686,
     "status": "ok",
     "timestamp": 1580804810648,
     "user": {
      "displayName": "RYOSUKE FUJII",
      "photoUrl": "https://lh3.googleusercontent.com/a-/AAuE7mArIT_2J8uHkPQxTtu_LCg2p7DRjYhxyWoY3xzWbA=s64",
      "userId": "06292435546189993794"
     },
     "user_tz": -540
    },
    "id": "A8iHE6utjKk9",
    "outputId": "9a29e450-07f2-4da6-aa6d-6a3f2a676dbc"
   },
   "outputs": [
    {
     "data": {
      "text/html": [
       "<div>\n",
       "<style scoped>\n",
       "    .dataframe tbody tr th:only-of-type {\n",
       "        vertical-align: middle;\n",
       "    }\n",
       "\n",
       "    .dataframe tbody tr th {\n",
       "        vertical-align: top;\n",
       "    }\n",
       "\n",
       "    .dataframe thead th {\n",
       "        text-align: right;\n",
       "    }\n",
       "</style>\n",
       "<table border=\"1\" class=\"dataframe\">\n",
       "  <thead>\n",
       "    <tr style=\"text-align: right;\">\n",
       "      <th></th>\n",
       "      <th>mean_fit_time</th>\n",
       "      <th>std_fit_time</th>\n",
       "      <th>mean_score_time</th>\n",
       "      <th>std_score_time</th>\n",
       "      <th>param_max_depth</th>\n",
       "      <th>param_n_estimators</th>\n",
       "      <th>param_random_state</th>\n",
       "      <th>params</th>\n",
       "      <th>split0_test_score</th>\n",
       "      <th>split1_test_score</th>\n",
       "      <th>split2_test_score</th>\n",
       "      <th>split3_test_score</th>\n",
       "      <th>split4_test_score</th>\n",
       "      <th>mean_test_score</th>\n",
       "      <th>std_test_score</th>\n",
       "      <th>rank_test_score</th>\n",
       "    </tr>\n",
       "  </thead>\n",
       "  <tbody>\n",
       "    <tr>\n",
       "      <th>0</th>\n",
       "      <td>0.212809</td>\n",
       "      <td>0.005328</td>\n",
       "      <td>0.005490</td>\n",
       "      <td>0.000839</td>\n",
       "      <td>None</td>\n",
       "      <td>10</td>\n",
       "      <td>42</td>\n",
       "      <td>{'max_depth': None, 'n_estimators': 10, 'rando...</td>\n",
       "      <td>0.577803</td>\n",
       "      <td>0.596835</td>\n",
       "      <td>0.577974</td>\n",
       "      <td>0.577795</td>\n",
       "      <td>0.474774</td>\n",
       "      <td>0.561036</td>\n",
       "      <td>0.043753</td>\n",
       "      <td>8</td>\n",
       "    </tr>\n",
       "    <tr>\n",
       "      <th>1</th>\n",
       "      <td>0.412336</td>\n",
       "      <td>0.020102</td>\n",
       "      <td>0.007666</td>\n",
       "      <td>0.000513</td>\n",
       "      <td>None</td>\n",
       "      <td>20</td>\n",
       "      <td>42</td>\n",
       "      <td>{'max_depth': None, 'n_estimators': 20, 'rando...</td>\n",
       "      <td>0.602298</td>\n",
       "      <td>0.632133</td>\n",
       "      <td>0.596070</td>\n",
       "      <td>0.625213</td>\n",
       "      <td>0.508649</td>\n",
       "      <td>0.592872</td>\n",
       "      <td>0.044227</td>\n",
       "      <td>7</td>\n",
       "    </tr>\n",
       "    <tr>\n",
       "      <th>2</th>\n",
       "      <td>0.036388</td>\n",
       "      <td>0.002102</td>\n",
       "      <td>0.003356</td>\n",
       "      <td>0.000138</td>\n",
       "      <td>1</td>\n",
       "      <td>10</td>\n",
       "      <td>42</td>\n",
       "      <td>{'max_depth': 1, 'n_estimators': 10, 'random_s...</td>\n",
       "      <td>0.674362</td>\n",
       "      <td>0.727063</td>\n",
       "      <td>0.647875</td>\n",
       "      <td>0.718861</td>\n",
       "      <td>0.732735</td>\n",
       "      <td>0.700179</td>\n",
       "      <td>0.033268</td>\n",
       "      <td>3</td>\n",
       "    </tr>\n",
       "    <tr>\n",
       "      <th>3</th>\n",
       "      <td>0.060471</td>\n",
       "      <td>0.000380</td>\n",
       "      <td>0.004561</td>\n",
       "      <td>0.000187</td>\n",
       "      <td>1</td>\n",
       "      <td>20</td>\n",
       "      <td>42</td>\n",
       "      <td>{'max_depth': 1, 'n_estimators': 20, 'random_s...</td>\n",
       "      <td>0.694139</td>\n",
       "      <td>0.738105</td>\n",
       "      <td>0.667363</td>\n",
       "      <td>0.726596</td>\n",
       "      <td>0.733470</td>\n",
       "      <td>0.711935</td>\n",
       "      <td>0.027081</td>\n",
       "      <td>1</td>\n",
       "    </tr>\n",
       "    <tr>\n",
       "      <th>4</th>\n",
       "      <td>0.060881</td>\n",
       "      <td>0.001582</td>\n",
       "      <td>0.003565</td>\n",
       "      <td>0.000243</td>\n",
       "      <td>3</td>\n",
       "      <td>10</td>\n",
       "      <td>42</td>\n",
       "      <td>{'max_depth': 3, 'n_estimators': 10, 'random_s...</td>\n",
       "      <td>0.675853</td>\n",
       "      <td>0.711006</td>\n",
       "      <td>0.654964</td>\n",
       "      <td>0.716229</td>\n",
       "      <td>0.628123</td>\n",
       "      <td>0.677235</td>\n",
       "      <td>0.033380</td>\n",
       "      <td>6</td>\n",
       "    </tr>\n",
       "    <tr>\n",
       "      <th>5</th>\n",
       "      <td>0.114061</td>\n",
       "      <td>0.002260</td>\n",
       "      <td>0.004811</td>\n",
       "      <td>0.000411</td>\n",
       "      <td>3</td>\n",
       "      <td>20</td>\n",
       "      <td>42</td>\n",
       "      <td>{'max_depth': 3, 'n_estimators': 20, 'random_s...</td>\n",
       "      <td>0.689325</td>\n",
       "      <td>0.751297</td>\n",
       "      <td>0.684464</td>\n",
       "      <td>0.725341</td>\n",
       "      <td>0.665430</td>\n",
       "      <td>0.703171</td>\n",
       "      <td>0.030899</td>\n",
       "      <td>2</td>\n",
       "    </tr>\n",
       "    <tr>\n",
       "      <th>6</th>\n",
       "      <td>0.085767</td>\n",
       "      <td>0.004527</td>\n",
       "      <td>0.003758</td>\n",
       "      <td>0.000425</td>\n",
       "      <td>5</td>\n",
       "      <td>10</td>\n",
       "      <td>42</td>\n",
       "      <td>{'max_depth': 5, 'n_estimators': 10, 'random_s...</td>\n",
       "      <td>0.664600</td>\n",
       "      <td>0.722113</td>\n",
       "      <td>0.674524</td>\n",
       "      <td>0.712294</td>\n",
       "      <td>0.648924</td>\n",
       "      <td>0.684491</td>\n",
       "      <td>0.028101</td>\n",
       "      <td>5</td>\n",
       "    </tr>\n",
       "    <tr>\n",
       "      <th>7</th>\n",
       "      <td>0.167126</td>\n",
       "      <td>0.002224</td>\n",
       "      <td>0.005223</td>\n",
       "      <td>0.000416</td>\n",
       "      <td>5</td>\n",
       "      <td>20</td>\n",
       "      <td>42</td>\n",
       "      <td>{'max_depth': 5, 'n_estimators': 20, 'random_s...</td>\n",
       "      <td>0.670917</td>\n",
       "      <td>0.734195</td>\n",
       "      <td>0.686321</td>\n",
       "      <td>0.704124</td>\n",
       "      <td>0.664588</td>\n",
       "      <td>0.692029</td>\n",
       "      <td>0.025122</td>\n",
       "      <td>4</td>\n",
       "    </tr>\n",
       "  </tbody>\n",
       "</table>\n",
       "</div>"
      ],
      "text/plain": [
       "   mean_fit_time  std_fit_time  mean_score_time  std_score_time  \\\n",
       "0       0.212809      0.005328         0.005490        0.000839   \n",
       "1       0.412336      0.020102         0.007666        0.000513   \n",
       "2       0.036388      0.002102         0.003356        0.000138   \n",
       "3       0.060471      0.000380         0.004561        0.000187   \n",
       "4       0.060881      0.001582         0.003565        0.000243   \n",
       "5       0.114061      0.002260         0.004811        0.000411   \n",
       "6       0.085767      0.004527         0.003758        0.000425   \n",
       "7       0.167126      0.002224         0.005223        0.000416   \n",
       "\n",
       "  param_max_depth param_n_estimators param_random_state  \\\n",
       "0            None                 10                 42   \n",
       "1            None                 20                 42   \n",
       "2               1                 10                 42   \n",
       "3               1                 20                 42   \n",
       "4               3                 10                 42   \n",
       "5               3                 20                 42   \n",
       "6               5                 10                 42   \n",
       "7               5                 20                 42   \n",
       "\n",
       "                                              params  split0_test_score  \\\n",
       "0  {'max_depth': None, 'n_estimators': 10, 'rando...           0.577803   \n",
       "1  {'max_depth': None, 'n_estimators': 20, 'rando...           0.602298   \n",
       "2  {'max_depth': 1, 'n_estimators': 10, 'random_s...           0.674362   \n",
       "3  {'max_depth': 1, 'n_estimators': 20, 'random_s...           0.694139   \n",
       "4  {'max_depth': 3, 'n_estimators': 10, 'random_s...           0.675853   \n",
       "5  {'max_depth': 3, 'n_estimators': 20, 'random_s...           0.689325   \n",
       "6  {'max_depth': 5, 'n_estimators': 10, 'random_s...           0.664600   \n",
       "7  {'max_depth': 5, 'n_estimators': 20, 'random_s...           0.670917   \n",
       "\n",
       "   split1_test_score  split2_test_score  split3_test_score  split4_test_score  \\\n",
       "0           0.596835           0.577974           0.577795           0.474774   \n",
       "1           0.632133           0.596070           0.625213           0.508649   \n",
       "2           0.727063           0.647875           0.718861           0.732735   \n",
       "3           0.738105           0.667363           0.726596           0.733470   \n",
       "4           0.711006           0.654964           0.716229           0.628123   \n",
       "5           0.751297           0.684464           0.725341           0.665430   \n",
       "6           0.722113           0.674524           0.712294           0.648924   \n",
       "7           0.734195           0.686321           0.704124           0.664588   \n",
       "\n",
       "   mean_test_score  std_test_score  rank_test_score  \n",
       "0         0.561036        0.043753                8  \n",
       "1         0.592872        0.044227                7  \n",
       "2         0.700179        0.033268                3  \n",
       "3         0.711935        0.027081                1  \n",
       "4         0.677235        0.033380                6  \n",
       "5         0.703171        0.030899                2  \n",
       "6         0.684491        0.028101                5  \n",
       "7         0.692029        0.025122                4  "
      ]
     },
     "metadata": {},
     "output_type": "display_data"
    },
    {
     "name": "stdout",
     "output_type": "stream",
     "text": [
      "0.7119345372487482\n",
      "{'max_depth': 1, 'n_estimators': 20, 'random_state': 42}\n"
     ]
    }
   ],
   "source": [
    "# GridSearchCV - ランダムフォレスト\n",
    "\n",
    "\n",
    "# 施行するパラメータ（辞書型）\n",
    "param_grid = {\n",
    "              'n_estimators':[10,20],\n",
    "              #'criterion':['gini', 'entropy'],\n",
    "              'max_depth': [None, 1, 3, 5],\n",
    "              #\"min_samples_split\": [2, 3, 10],\n",
    "              #\"min_samples_leaf\": [1, 3, 10],\n",
    "              #'max_features': ['auto', 1, 3, 10],\n",
    "              # \"bootstrap\": [True, False],\n",
    "              #'n_jobs':[None, -1],\n",
    "              'random_state':[42]\n",
    "              }\n",
    "\n",
    "grid_search = GridSearchCV(estimator=RandomForestClassifier(),\n",
    "                   param_grid = param_grid,\n",
    "                   scoring = 'roc_auc',  #metrics\n",
    "                   cv = 5,              #cross-validation\n",
    "                   n_jobs = 1)          #number of core\n",
    "\n",
    "grid_search.fit(X_train, y_train)\n",
    "\n",
    "cv_result = pd.DataFrame(grid_search.cv_results_)\n",
    "display(cv_result)\n",
    "print(grid_search.best_score_)  # 最も良かったスコア\n",
    "print(grid_search.best_params_)  # 上記を記録したパラメータの組み合わせ\n"
   ]
  },
  {
   "cell_type": "markdown",
   "metadata": {
    "colab_type": "text",
    "id": "TeGxly4T39L_"
   },
   "source": [
    "## 【問題3】Kernelからの調査\n",
    "KaggleのKernelから様々なアイデアを見つけ出して、列挙してください。\n",
    "\n"
   ]
  },
  {
   "cell_type": "markdown",
   "metadata": {
    "colab_type": "text",
    "id": "BRow1JMYz_c3"
   },
   "source": [
    "### 【問題3】解答\n",
    "\n",
    "**アイデア**\n",
    "\n",
    "#### EDA\n",
    "* 特徴量の重要度の確認\n",
    "\n",
    "\n",
    "<br />\n",
    "\n",
    "#### 特徴量エンジニアリング\n",
    "* ターゲットエンコーディング\n",
    "\n",
    "<br />\n",
    "\n",
    "#### モデリング\n",
    "* LightGBM\n"
   ]
  },
  {
   "cell_type": "markdown",
   "metadata": {
    "colab_type": "text",
    "id": "pa-Jnw9W3_sJ"
   },
   "source": [
    "## 【問題4】高い汎化性能のモデル作成\n",
    "問題3で見つけたアイデアと、独自のアイデアを組み合わせ高い汎化性能のモデル作りを進めてください。\n",
    "\n",
    "その過程として、何を行うことで、クロスバリデーションの結果がどの程度変化したかを表にまとめてください。\n",
    "\n"
   ]
  },
  {
   "cell_type": "markdown",
   "metadata": {},
   "source": [
    "### 【問題4】解答"
   ]
  },
  {
   "cell_type": "code",
   "execution_count": 10,
   "metadata": {},
   "outputs": [],
   "source": [
    "df = pd.read_csv('../../home-credit-default-risk/application_train.csv')\n",
    "\n",
    "# 文字列のカテゴリカル変数抽出\n",
    "objct_cols = df.select_dtypes(include=object)\n",
    "# display(objct_cols)\n",
    "objct_cols_list = df.select_dtypes(include=object).columns\n",
    "# print(objct_cols_list)\n",
    "\n",
    "# 文字列の列の欠損値を変換\n",
    "df[objct_cols_list] = df[objct_cols_list].fillna('Missing_Data') \n",
    "# print(df[objct_cols_list].isnull().sum())\n",
    "\n",
    "# ターゲットエンコーディング\n",
    "for col in objct_cols_list:\n",
    "    label_mean = df.groupby(col).TARGET.mean() # groupby()でラベル分した後にラベル毎の'label'の列の平均を取得\n",
    "    df[col] = df[col].map(label_mean).copy() # df[C]に値を代入\n",
    "# df[objct_cols_list]\n",
    "\n",
    "# 欠損値処理\n",
    "df = df.dropna() # 欠損値がある行を削除\n",
    "# df = df.fillna(df.mean()) # 欠損値を平均に置き換え\n",
    "# df = df.fillna(df.median()) # 欠損値を中央値に置き換え\n",
    "\n",
    "# print(df.isnull().sum())\n",
    "# print(df.shape)\n",
    "\n",
    "# データとターゲットに分割\n",
    "target = df.pop('TARGET')\n",
    "# 訓練データとテストデータに分割\n",
    "X_train, X_test, y_train, y_test = train_test_split(df, target, test_size=0.25, random_state=42)\n"
   ]
  },
  {
   "cell_type": "code",
   "execution_count": 26,
   "metadata": {},
   "outputs": [
    {
     "name": "stderr",
     "output_type": "stream",
     "text": [
      "/Users/FUZZY/opt/anaconda3/lib/python3.7/site-packages/lightgbm/engine.py:148: UserWarning: Found `n_estimators` in params. Will use it instead of argument\n",
      "  warnings.warn(\"Found `{}` in params. Will use it instead of argument\".format(alias))\n"
     ]
    },
    {
     "name": "stdout",
     "output_type": "stream",
     "text": [
      "Training until validation scores don't improve for 200 rounds\n",
      "[5]\tvalid_0's auc: 0.676108\n",
      "[10]\tvalid_0's auc: 0.723846\n",
      "[15]\tvalid_0's auc: 0.728159\n",
      "[20]\tvalid_0's auc: 0.729837\n",
      "[25]\tvalid_0's auc: 0.732456\n",
      "[30]\tvalid_0's auc: 0.731632\n",
      "[35]\tvalid_0's auc: 0.73522\n",
      "[40]\tvalid_0's auc: 0.733835\n",
      "[45]\tvalid_0's auc: 0.734129\n",
      "[50]\tvalid_0's auc: 0.733244\n",
      "[55]\tvalid_0's auc: 0.732034\n",
      "[60]\tvalid_0's auc: 0.732866\n",
      "[65]\tvalid_0's auc: 0.733738\n",
      "[70]\tvalid_0's auc: 0.734076\n",
      "[75]\tvalid_0's auc: 0.734928\n",
      "[80]\tvalid_0's auc: 0.735226\n",
      "[85]\tvalid_0's auc: 0.736085\n",
      "[90]\tvalid_0's auc: 0.736849\n",
      "[95]\tvalid_0's auc: 0.737845\n",
      "[100]\tvalid_0's auc: 0.738365\n",
      "[105]\tvalid_0's auc: 0.739261\n",
      "[110]\tvalid_0's auc: 0.739546\n",
      "[115]\tvalid_0's auc: 0.739804\n",
      "[120]\tvalid_0's auc: 0.739342\n",
      "[125]\tvalid_0's auc: 0.738969\n",
      "[130]\tvalid_0's auc: 0.739021\n",
      "[135]\tvalid_0's auc: 0.739122\n",
      "[140]\tvalid_0's auc: 0.738984\n",
      "[145]\tvalid_0's auc: 0.73981\n",
      "[150]\tvalid_0's auc: 0.73994\n",
      "[155]\tvalid_0's auc: 0.740526\n",
      "[160]\tvalid_0's auc: 0.740999\n",
      "[165]\tvalid_0's auc: 0.741292\n",
      "[170]\tvalid_0's auc: 0.74119\n",
      "[175]\tvalid_0's auc: 0.74155\n",
      "[180]\tvalid_0's auc: 0.742063\n",
      "[185]\tvalid_0's auc: 0.742636\n",
      "[190]\tvalid_0's auc: 0.743103\n",
      "[195]\tvalid_0's auc: 0.743223\n",
      "[200]\tvalid_0's auc: 0.744085\n",
      "[205]\tvalid_0's auc: 0.744305\n",
      "[210]\tvalid_0's auc: 0.74391\n",
      "[215]\tvalid_0's auc: 0.744225\n",
      "[220]\tvalid_0's auc: 0.744203\n",
      "[225]\tvalid_0's auc: 0.744465\n",
      "[230]\tvalid_0's auc: 0.745077\n",
      "[235]\tvalid_0's auc: 0.74489\n",
      "[240]\tvalid_0's auc: 0.745441\n",
      "[245]\tvalid_0's auc: 0.7455\n",
      "[250]\tvalid_0's auc: 0.745827\n",
      "[255]\tvalid_0's auc: 0.745563\n",
      "[260]\tvalid_0's auc: 0.745172\n",
      "[265]\tvalid_0's auc: 0.745506\n",
      "[270]\tvalid_0's auc: 0.745681\n",
      "[275]\tvalid_0's auc: 0.745664\n",
      "[280]\tvalid_0's auc: 0.745618\n",
      "[285]\tvalid_0's auc: 0.745953\n",
      "[290]\tvalid_0's auc: 0.745551\n",
      "[295]\tvalid_0's auc: 0.745603\n",
      "[300]\tvalid_0's auc: 0.746231\n",
      "[305]\tvalid_0's auc: 0.745943\n",
      "[310]\tvalid_0's auc: 0.746124\n",
      "[315]\tvalid_0's auc: 0.746544\n",
      "[320]\tvalid_0's auc: 0.746986\n",
      "[325]\tvalid_0's auc: 0.74687\n",
      "[330]\tvalid_0's auc: 0.746528\n",
      "[335]\tvalid_0's auc: 0.746711\n",
      "[340]\tvalid_0's auc: 0.746821\n",
      "[345]\tvalid_0's auc: 0.747166\n",
      "[350]\tvalid_0's auc: 0.747201\n",
      "[355]\tvalid_0's auc: 0.74702\n",
      "[360]\tvalid_0's auc: 0.747317\n",
      "[365]\tvalid_0's auc: 0.747374\n",
      "[370]\tvalid_0's auc: 0.746729\n",
      "[375]\tvalid_0's auc: 0.746467\n",
      "[380]\tvalid_0's auc: 0.746577\n",
      "[385]\tvalid_0's auc: 0.746591\n",
      "[390]\tvalid_0's auc: 0.746912\n",
      "[395]\tvalid_0's auc: 0.746666\n",
      "[400]\tvalid_0's auc: 0.747246\n",
      "[405]\tvalid_0's auc: 0.746921\n",
      "[410]\tvalid_0's auc: 0.746792\n",
      "[415]\tvalid_0's auc: 0.747177\n",
      "[420]\tvalid_0's auc: 0.74679\n",
      "[425]\tvalid_0's auc: 0.746772\n",
      "[430]\tvalid_0's auc: 0.746689\n",
      "[435]\tvalid_0's auc: 0.747045\n",
      "[440]\tvalid_0's auc: 0.747057\n",
      "[445]\tvalid_0's auc: 0.746561\n",
      "[450]\tvalid_0's auc: 0.746664\n",
      "[455]\tvalid_0's auc: 0.747297\n",
      "[460]\tvalid_0's auc: 0.747299\n",
      "[465]\tvalid_0's auc: 0.74701\n",
      "[470]\tvalid_0's auc: 0.746864\n",
      "[475]\tvalid_0's auc: 0.746671\n",
      "[480]\tvalid_0's auc: 0.746545\n",
      "[485]\tvalid_0's auc: 0.746317\n",
      "[490]\tvalid_0's auc: 0.746437\n",
      "[495]\tvalid_0's auc: 0.746205\n",
      "[500]\tvalid_0's auc: 0.746227\n",
      "[505]\tvalid_0's auc: 0.745841\n",
      "[510]\tvalid_0's auc: 0.745853\n",
      "[515]\tvalid_0's auc: 0.745538\n",
      "[520]\tvalid_0's auc: 0.745398\n",
      "[525]\tvalid_0's auc: 0.745612\n",
      "[530]\tvalid_0's auc: 0.745408\n",
      "[535]\tvalid_0's auc: 0.745284\n",
      "[540]\tvalid_0's auc: 0.745384\n",
      "[545]\tvalid_0's auc: 0.745122\n",
      "[550]\tvalid_0's auc: 0.745366\n",
      "[555]\tvalid_0's auc: 0.74564\n",
      "[560]\tvalid_0's auc: 0.745567\n",
      "Early stopping, best iteration is:\n",
      "[361]\tvalid_0's auc: 0.747547\n"
     ]
    }
   ],
   "source": [
    "                   # 訓練・テストデータの設定\n",
    "train_data = lgb.Dataset(X_train, y_train)\n",
    "eval_data = lgb.Dataset(X_test, y_test)\n",
    "\n",
    "\n",
    "'''\n",
    "LGBMClassifier(\n",
    "                boosting_type='gbdt', class_weight=None, colsample_bytree=1.0,\n",
    "                importance_type='split', learning_rate=0.1, max_depth=-1,\n",
    "                min_child_samples=20, min_child_weight=0.001, min_split_gain=0.0,\n",
    "                n_estimators=100, n_jobs=-1, \n",
    "                num_leaves=31,\n",
    "                objective=None,\n",
    "                random_state=None, reg_alpha=0.0, reg_lambda=0.0, silent=True,\n",
    "                subsample=1.0, subsample_for_bin=200000, subsample_freq=0)\n",
    "'''\n",
    "\n",
    "params = {\n",
    "          'objective': 'binary', # 目的関数\n",
    "          'learning_rate': 0.02,\n",
    "          'n_estimators':5000, # エポック数\n",
    "          'num_leaves': 31, # 木にある分岐の個数\n",
    "          'task': 'train',\n",
    "          'boosting_type': 'gbdt',\n",
    "          #'num_class': 2,\n",
    "          'metric': 'auc',\n",
    "          'verbose': 10,\n",
    "          'num_leaves':5,\n",
    "          }\n",
    "\n",
    "gbm = lgb.train(\n",
    "                params, # params\n",
    "                train_data, # train_data\n",
    "                valid_sets=eval_data, # val_data\n",
    "                early_stopping_rounds=200,\n",
    "                verbose_eval=5, # the number of cycle to display\n",
    "                )\n",
    "\n",
    "preds = gbm.predict(X_test)"
   ]
  },
  {
   "cell_type": "code",
   "execution_count": 27,
   "metadata": {},
   "outputs": [
    {
     "data": {
      "text/plain": [
       "0.7475473985890653"
      ]
     },
     "execution_count": 27,
     "metadata": {},
     "output_type": "execute_result"
    },
    {
     "data": {
      "image/png": "[encoded data removed]",
      "text/plain": [
       "<Figure size 432x288 with 1 Axes>"
      ]
     },
     "metadata": {
      "needs_background": "light"
     },
     "output_type": "display_data"
    }
   ],
   "source": [
    "# 検証データ\n",
    "fpr, tpr, thresholds = roc_curve(y_test, preds)\n",
    "\n",
    "plt.figure()\n",
    "plt.plot(fpr, tpr, marker='o', label='ROC curve (area = %.2f)'%auc)\n",
    "plt.title('ROC curve')\n",
    "plt.xlabel('False Positive Rate')\n",
    "plt.ylabel('True Positive Rate')\n",
    "plt.legend()\n",
    "plt.grid()\n",
    "\n",
    "roc_auc_score(y_test, preds)"
   ]
  },
  {
   "cell_type": "markdown",
   "metadata": {},
   "source": [
    "## 【問題5】最終的なモデルの選定\n",
    "最終的にこれは良いというモデルを選び、推定した結果をKaggleに提出してスコアを確認してください。どういったアイデアを取り入れ、どの程度のスコアになったかを記載してください。"
   ]
  },
  {
   "cell_type": "code",
   "execution_count": null,
   "metadata": {},
   "outputs": [],
   "source": [
    "df = pd.read_csv('../../home-credit-default-risk/application_train.csv')\n",
    "test = pd.read_csv('../../home-credit-default-risk/application_test.csv')\n",
    "\n",
    "SK_ID_CURR = test.iloc[:, 0]"
   ]
  },
  {
   "cell_type": "code",
   "execution_count": null,
   "metadata": {},
   "outputs": [],
   "source": [
    "# 文字列のカテゴリカル変数抽出\n",
    "objct_cols = df.select_dtypes(include=object)\n",
    "# display(objct_cols)\n",
    "objct_cols_list = df.select_dtypes(include=object).columns\n",
    "# print(objct_cols_list)\n",
    "\n",
    "# 文字列の列の欠損値を変換\n",
    "df[objct_cols_list] = df[objct_cols_list].fillna('Missing_Data') \n",
    "test[objct_cols_list] = test[objct_cols_list].fillna('Missing_Data') \n",
    "# print(df[objct_cols_list].isnull().sum())\n",
    "\n",
    "\n",
    "# ターゲットエンコーディング\n",
    "for col in objct_cols_list:\n",
    "    label_mean = df.groupby(col).TARGET.mean() # groupby()でラベル分した後にラベル毎の'label'の列の平均を取得\n",
    "    df[col] = df[col].map(label_mean).copy() # df[C]に値を代入\n",
    "    test[col] = test[col].map(label_mean).copy() # test データにも適用。\n",
    "# df[objct_cols_list]\n",
    "\n",
    "\n",
    "# 欠損値処理\n",
    "df = df.dropna() # 欠損値がある行を削除\n",
    "test = test.fillna(df.median())\n",
    "# df = df.fillna(df.mean()) # 欠損値を平均に置き換え\n",
    "# df = df.fillna(df.median()) # 欠損値を中央値に置き換え"
   ]
  },
  {
   "cell_type": "code",
   "execution_count": null,
   "metadata": {},
   "outputs": [],
   "source": [
    "preds = gbm.predict(test)"
   ]
  },
  {
   "cell_type": "code",
   "execution_count": null,
   "metadata": {},
   "outputs": [],
   "source": [
    "Submission = pd.DataFrame({ 'SK_ID_CURR': SK_ID_CURR,'TARGET': preds })\n",
    "Submission"
   ]
  },
  {
   "cell_type": "code",
   "execution_count": null,
   "metadata": {},
   "outputs": [],
   "source": [
    "Submission.to_csv(\"Submission.csv\", index=False)"
   ]
  },
  {
   "cell_type": "markdown",
   "metadata": {},
   "source": [
    "### 【問題5】解答"
   ]
  },
  {
   "cell_type": "markdown",
   "metadata": {},
   "source": [
    "アイデア\n",
    "* ターゲットエンコーディング\n",
    "* LightGBM\n",
    "\n",
    "スコア\n",
    "* Private Score：0.69973\n",
    "* Public Score：0.68933"
   ]
  }
 ],
 "metadata": {
  "accelerator": "GPU",
  "colab": {
   "authorship_tag": "ABX9TyOHpIrfsq15G/23qAukIGEs",
   "name": "Sprint 機械学習フロー.ipynb",
   "provenance": [],
   "toc_visible": true
  },
  "kernelspec": {
   "display_name": "Python 3",
   "language": "python",
   "name": "python3"
  },
  "language_info": {
   "codemirror_mode": {
    "name": "ipython",
    "version": 3
   },
   "file_extension": ".py",
   "mimetype": "text/x-python",
   "name": "python",
   "nbconvert_exporter": "python",
   "pygments_lexer": "ipython3",
   "version": "3.7.4"
  },
  "toc": {
   "base_numbering": 1,
   "nav_menu": {},
   "number_sections": true,
   "sideBar": true,
   "skip_h1_title": false,
   "title_cell": "Table of Contents",
   "title_sidebar": "Contents",
   "toc_cell": false,
   "toc_position": {},
   "toc_section_display": true,
   "toc_window_display": true
  }
 },
 "nbformat": 4,
 "nbformat_minor": 1
}
