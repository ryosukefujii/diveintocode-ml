{
 "cells": [
  {
   "cell_type": "markdown",
   "metadata": {
    "colab_type": "text",
    "id": "Qz4iEuEgAesa"
   },
   "source": [
    "# 線形回帰スクラッチ\n",
    "線形回帰のクラスをスクラッチで作成していきます。NumPyなど最低限のライブラリのみを使いアルゴリズムを実装していきます。\n",
    "\n",
    "以下に雛形を用意してあります。このScratchLinearRegressionクラスにコードを書き加えていってください。"
   ]
  },
  {
   "cell_type": "markdown",
   "metadata": {
    "colab_type": "text",
    "id": "7jKgxbqNAySa"
   },
   "source": [
    "### 雛形"
   ]
  },
  {
   "cell_type": "code",
   "execution_count": 1,
   "metadata": {
    "colab": {},
    "colab_type": "code",
    "id": "vbS3xJHKA0aW"
   },
   "outputs": [],
   "source": [
    "# class ScratchLinearRegression():\n",
    "#     \"\"\"\n",
    "#     線形回帰のスクラッチ実装\n",
    "\n",
    "#     Parameters\n",
    "#     ----------\n",
    "#     num_iter : int\n",
    "#       イテレーション数\n",
    "#     lr : float\n",
    "#       学習率\n",
    "#     no_bias : bool\n",
    "#       バイアス項を入れない場合はTrue\n",
    "#     verbose : bool\n",
    "#       学習過程を出力する場合はTrue\n",
    "\n",
    "#     Attributes\n",
    "#     ----------\n",
    "#     self.coef_ : 次の形のndarray, shape (n_features,)\n",
    "#       パラメータ\n",
    "#     self.loss : 次の形のndarray, shape (self.iter,)\n",
    "#       学習用データに対する損失の記録\n",
    "#     self.val_loss : 次の形のndarray, shape (self.iter,)\n",
    "#       検証用データに対する損失の記録\n",
    "\n",
    "#     \"\"\"\n",
    "\n",
    "#     def __init__(self, num_iter, lr, bias, verbose):\n",
    "#         # ハイパーパラメータを属性として記録\n",
    "#         self.iter = num_iter # イテレーション数：データセットに含まれるデータが少なくとも1回は学習に用いられるのに必要な学習回数?\n",
    "#         #バッチサイズが決まれば自動的に決まる数値\n",
    "#         self.lr = lr #学習率\n",
    "#         self.bias = bias # モデルと学習データの平均的なズレ?\n",
    "#         self.verbose = verbose # 途中経過をコンソールに出力するか（初期値：True）?\n",
    "#         # 損失を記録する配列を用意\n",
    "#         self.loss = np.zeros(self.iter)\n",
    "#         self.val_loss = np.zeros(self.iter)\n",
    "\n",
    "#     def fit(self, X, y, X_val=None, y_val=None):\n",
    "#         \"\"\"\n",
    "#         線形回帰を学習する。検証用データが入力された場合はそれに対する損失と精度もイテレーションごとに計算する。\n",
    "\n",
    "#         Parameters\n",
    "#         ----------\n",
    "#         X : 次の形のndarray, shape (n_samples, n_features)\n",
    "#             学習用データの特徴量\n",
    "#         y : 次の形のndarray, shape (n_samples, )\n",
    "#             学習用データの正解値\n",
    "#         X_val : 次の形のndarray, shape (n_samples, n_features)\n",
    "#             検証用データの特徴量\n",
    "#         y_val : 次の形のndarray, shape (n_samples, )\n",
    "#             検証用データの正解値\n",
    "#         \"\"\"\n",
    "\n",
    "#         if self.verbose:\n",
    "#             #verboseをTrueにした際は学習過程を出力\n",
    "#             print()\n",
    "#         pass\n",
    "\n",
    "\n",
    "#     def predict(self, X):\n",
    "#         \"\"\"\n",
    "#         線形回帰を使い推定する。\n",
    "\n",
    "#         Parameters\n",
    "#         ----------\n",
    "#         X : 次の形のndarray, shape (n_samples, n_features)\n",
    "#             サンプル\n",
    "\n",
    "#         Returns\n",
    "#         -------\n",
    "#             次の形のndarray, shape (n_samples, 1)\n",
    "#             線形回帰による推定結果\n",
    "#         \"\"\"\n",
    "\n",
    "#         pass\n",
    "#         return"
   ]
  },
  {
   "cell_type": "markdown",
   "metadata": {
    "colab_type": "text",
    "id": "0vQkjUY0A4ek"
   },
   "source": [
    "## 【問題1】仮定関数\n",
    "以下の数式で表される線形回帰の仮定関数を実装してください。メソッドの雛形を用意してあります。\n",
    "\n",
    "\b$x$ : 特徴量ベクトル\n",
    "\n",
    "$θ$ : パラメータベクトル\n",
    "\n",
    "$x_{j}$: j番目の特徴量\n",
    "\n",
    "$θ_{j}$: j番目のパラメータ（重み）\n",
    "\n",
    "特徴量の数$n$は任意の値に対応できる実装にしてください。\n",
    "\n",
    "なお、ベクトル形式で表すと以下のようになります。\n",
    "\n",
    "$$\n",
    "h_\\theta(x) = \\theta^T \\cdot x.\n",
    "$$"
   ]
  },
  {
   "cell_type": "markdown",
   "metadata": {
    "colab_type": "text",
    "id": "51RF88SkBzb1"
   },
   "source": [
    "### 雛形\n",
    "\n",
    "クラスの外から呼び出すことがないメソッドのため、Pythonの慣例としてアンダースコアを先頭にひとつつけています。"
   ]
  },
  {
   "cell_type": "code",
   "execution_count": 2,
   "metadata": {
    "colab": {},
    "colab_type": "code",
    "id": "qkh5AHL_CGgF"
   },
   "outputs": [],
   "source": [
    "def _linear_hypothesis(self, X):\n",
    "    \"\"\"\n",
    "    線形の仮定関数を計算する\n",
    "\n",
    "    Parameters\n",
    "    ----------\n",
    "    X : 次の形のndarray, shape (n_samples, n_features)\n",
    "      学習データ\n",
    "\n",
    "    Returns\n",
    "    -------\n",
    "      次の形のndarray, shape (n_samples, 1)\n",
    "      線形の仮定関数による推定結果\n",
    "\n",
    "    \"\"\"\n",
    "    pass\n",
    "    return"
   ]
  },
  {
   "cell_type": "markdown",
   "metadata": {
    "colab_type": "text",
    "id": "PbD4WT63Jrva"
   },
   "source": [
    "### 【問題1】解答"
   ]
  },
  {
   "cell_type": "code",
   "execution_count": 3,
   "metadata": {},
   "outputs": [
    {
     "name": "stderr",
     "output_type": "stream",
     "text": [
      "/Users/FUZZY/opt/anaconda3/lib/python3.7/site-packages/statsmodels/tools/_testing.py:19: FutureWarning: pandas.util.testing is deprecated. Use the functions in the public API at pandas.testing instead.\n",
      "  import pandas.util.testing as tm\n"
     ]
    }
   ],
   "source": [
    "import pandas as pd\n",
    "import numpy as np\n",
    "from sklearn.preprocessing import StandardScaler\n",
    "from sklearn.model_selection import train_test_split\n",
    "from sklearn.linear_model import LinearRegression\n",
    "from sklearn.metrics import mean_squared_error\n",
    "import matplotlib.pyplot as plt\n",
    "import seaborn as sns"
   ]
  },
  {
   "cell_type": "code",
   "execution_count": 25,
   "metadata": {
    "colab": {},
    "colab_type": "code",
    "id": "0wN301b6Jv_o"
   },
   "outputs": [],
   "source": [
    "# データ取得\n",
    "df = pd.read_csv('../../house-prices-advanced-regression-techniques/train.csv')\n",
    "\n",
    "X = df['GrLivArea'].values\n",
    "# X = df[['GrLivArea', 'YearBuilt']].values\n",
    "# X = df[['1stFlrSF', 'GrLivArea']].values\n",
    "\n",
    "test = df['SalePrice'].values"
   ]
  },
  {
   "cell_type": "code",
   "execution_count": 26,
   "metadata": {},
   "outputs": [],
   "source": [
    "# 仮定関数\n",
    "def _linear_hypothesis(X):\n",
    "    \"\"\"\n",
    "    線形の仮定関数を計算する\n",
    " \n",
    "    Parameters\n",
    "    ----------\n",
    "        X : 次の形のndarray, shape (n_samples, n_features)\n",
    "      \n",
    "    Returns\n",
    "    -------\n",
    "        x = 全行最初の列に値が1の列を追加されたデータX\n",
    "        w = θ0：yが0の時の接点, θ1,2,3...n:重み, n：特徴量の数\n",
    "        pred =  線形の仮定関数による推定結果（次の形のndarray, shape (n_samples, 1)）\n",
    "    \n",
    "    \"\"\"\n",
    "    if X.shape == (X.shape[0], ):\n",
    "        x = np.insert(X.reshape(-1, 1), 0, 1, axis=1) # 全行最初の列に値が1の列を追加\n",
    "    else:\n",
    "        x = np.insert(X, 0, 1, axis=1) # 全行最初の列に値が1の列を追加\n",
    "    w = np.random.normal(size=(x.shape[1],1))\n",
    "    hypo = x@w\n",
    "    return x, w, hypo\n",
    "\n",
    "x, w, hypo = _linear_hypothesis(X)\n"
   ]
  },
  {
   "cell_type": "code",
   "execution_count": 27,
   "metadata": {},
   "outputs": [
    {
     "data": {
      "text/plain": [
       "((1460, 1), array([[4923.25427294],\n",
       "        [3633.95373549],\n",
       "        [5141.97489983],\n",
       "        ...,\n",
       "        [6736.33315373],\n",
       "        [3104.41958617],\n",
       "        [3616.68631757]]))"
      ]
     },
     "execution_count": 27,
     "metadata": {},
     "output_type": "execute_result"
    }
   ],
   "source": [
    "hypo.shape, hypo"
   ]
  },
  {
   "cell_type": "markdown",
   "metadata": {
    "colab_type": "text",
    "id": "JJ2jOqv4CHgu"
   },
   "source": [
    "## 【問題2】最急降下法\n",
    "最急降下法により学習させる実装を行なってください。以下の式で表されるパラメータの更新式のメソッド_gradient_descentを追加し、fit\n",
    "メソッドから呼び出すようにしてください。\n",
    "\n",
    "$$\n",
    "\\theta_j := \\theta_j - \\alpha \\frac{1}{m} \\sum_{i=1}^{m}[(h_\\theta(x^{(i)}) - y^{(i)} )x_{j}^{(i)}]\n",
    "$$\n",
    "\n",
    "$α$\n",
    " : 学習率\n",
    "\n",
    "$i$\n",
    " : サンプルのインデックス\n",
    "\n",
    "$j$\n",
    " : 特徴量のインデックス"
   ]
  },
  {
   "cell_type": "markdown",
   "metadata": {
    "colab_type": "text",
    "id": "EBf9qGc9Jgut"
   },
   "source": [
    "### 雛形\n",
    "\n",
    "ScratchLinearRegressionクラスへ以下のメソッドを追加してください。コメントアウト部分の説明も記述してください。"
   ]
  },
  {
   "cell_type": "code",
   "execution_count": 28,
   "metadata": {},
   "outputs": [],
   "source": [
    "# def _gradient_descent(self, X, error):\n",
    "#     \"\"\"\n",
    "#     説明を記述\n",
    "\n",
    "#     \"\"\"\n",
    "#     pass"
   ]
  },
  {
   "cell_type": "markdown",
   "metadata": {},
   "source": [
    "雛形として用意されたメソッドや関数以外でも必要があれば各自作成して完成させてください。雛形を外れても問題ありません。"
   ]
  },
  {
   "cell_type": "markdown",
   "metadata": {},
   "source": [
    "### 【問題2】解答"
   ]
  },
  {
   "cell_type": "code",
   "execution_count": 29,
   "metadata": {},
   "outputs": [],
   "source": [
    "# error = hypo - test.reshape(-1, 1)\n",
    "# z = error.T@x"
   ]
  },
  {
   "cell_type": "code",
   "execution_count": 30,
   "metadata": {},
   "outputs": [],
   "source": [
    "# def _gradient_descent(X):\n",
    "#     \"\"\"\n",
    "   \n",
    "#     Parameters\n",
    "#     ----------\n",
    "#         a : 学習率=lr\n",
    "     \n",
    "#     Returns\n",
    "#     -------\n",
    "#         m：サンプル数\n",
    "#         error：y予測結果 - 実際のyの値\n",
    "#         wj：最急降下法による重みの更新値を出力（次の形のndarray, shape (n_feature + 1, 1)  ）\n",
    "#     \"\"\"\n",
    "#     a = 0.9\n",
    "#     m = X.shape[0]\n",
    "#     error = hypo - test.reshape(-1, 1)\n",
    "#     wj = w - (a/m*(error.T@x).T)\n",
    "#     return m, error, wj\n",
    "\n",
    "# _gradient_descent(X)[2]"
   ]
  },
  {
   "cell_type": "code",
   "execution_count": 31,
   "metadata": {},
   "outputs": [],
   "source": [
    "# m, error, wj = _gradient_descent(X)\n",
    "# wj.shape"
   ]
  },
  {
   "cell_type": "markdown",
   "metadata": {},
   "source": [
    "## 【問題3】推定\n",
    "推定する仕組みを実装してください。ScratchLinearRegressionクラスの雛形に含まれるpredictメソッドに書き加えてください。\n",
    "\n",
    "仮定関数$ hθ(x) $の出力が推定結果です。"
   ]
  },
  {
   "cell_type": "code",
   "execution_count": 32,
   "metadata": {},
   "outputs": [],
   "source": [
    "# def predict(X):\n",
    "#     \"\"\"\n",
    "#     線形回帰を使い推定する。\n",
    "\n",
    "#     Parameters\n",
    "#     ----------\n",
    "#         X : 次の形のndarray, shape (n_samples, n_features)\n",
    "#             サンプル\n",
    "\n",
    "#     Returns\n",
    "#     -------\n",
    "#         次の形のndarray, shape (n_samples, 1)\n",
    "#         線形回帰による推定結果\n",
    "#     \"\"\"\n",
    "#     return pred\n",
    "\n",
    "# predict(X)\n",
    "                                                                "
   ]
  },
  {
   "cell_type": "markdown",
   "metadata": {},
   "source": [
    "## 【問題4】平均二乗誤差\n",
    "線形回帰の指標値として用いられる平均二乗誤差（mean square error, MSE）の関数を作成してください。\n",
    "\n",
    "平均二乗誤差関数は回帰問題全般で使える関数のため、ScratchLinearRegressionクラスのメソッドではなく、別の関数として作成してください。雛形を用意してあります。\n",
    "\n",
    "平均二乗誤差は以下の数式で表されます。\n",
    "\n",
    "$$\n",
    "L(\\theta)=  \\frac{1 }{ m}  \\sum_{i=1}^{m} (h_\\theta(x^{(i)})-y^{(i)})^2.\n",
    "$$\n",
    "\n",
    "\n",
    "$m$: 入力されるデータの数\n",
    "\n",
    "$h_{θ}()$: 仮定関数\n",
    "\n",
    "$x_(i)$: i番目のサンプルの特徴量ベクトル\n",
    "\n",
    "$y_(i)$: i番目のサンプルの正解値\n",
    "\n",
    "なお、最急降下法のための目的関数（損失関数）としては、これを2で割ったものを使用します。（問題5, 9）"
   ]
  },
  {
   "cell_type": "markdown",
   "metadata": {},
   "source": [
    "### 雛形"
   ]
  },
  {
   "cell_type": "code",
   "execution_count": 33,
   "metadata": {},
   "outputs": [],
   "source": [
    "# def MSE(y_pred, y):\n",
    "#     \"\"\"\n",
    "#     平均二乗誤差の計算\n",
    "\n",
    "#     Parameters\n",
    "#     ----------\n",
    "    \n",
    "\n",
    "#     Returns\n",
    "#     ----------\n",
    "#     mse : numpy.float\n",
    "#       平均二乗誤差\n",
    "#     \"\"\"\n",
    "#     pass\n",
    "#     return mse"
   ]
  },
  {
   "cell_type": "markdown",
   "metadata": {},
   "source": [
    "### 【問題4】解答"
   ]
  },
  {
   "cell_type": "code",
   "execution_count": 34,
   "metadata": {},
   "outputs": [],
   "source": [
    "# def mse(y_pred, y):\n",
    "#         \"\"\"\n",
    "#     平均二乗誤差の計算\n",
    "    \n",
    "#     Parameters\n",
    "#     ----------\n",
    "#         y_pred : 次の形のndarray, shape (n_samples,)\n",
    "#         推定した値\n",
    "#         y : 次の形のndarray, shape (n_samples,)\n",
    "#         正解値\n",
    "        \n",
    "        \n",
    "#     Returns\n",
    "#     -------\n",
    "#         mse：平均二乗誤差（mean square error, MSE）, type（numpy.float）\n",
    "#     \"\"\"\n",
    "        \n",
    "#         mse = 1/X.shape[0]*(np.sum(y_pred.reshape(-1, 1) - y.reshape(-1, 1))**2)\n",
    "#         return mse"
   ]
  },
  {
   "cell_type": "markdown",
   "metadata": {},
   "source": [
    "## 【問題5】目的関数\n",
    "以下の数式で表される線形回帰の 目的関数（損失関数） を実装してください。そして、これをself.loss, self.val_lossに記録するようにしてください。\n",
    "\n",
    "目的関数（損失関数） $J(θ)$ は次の式です。\n",
    "\n",
    "$$\n",
    "J(\\theta)=  \\frac{1 }{ 2m}  \\sum_{i=1}^{m} (h_\\theta(x^{(i)})-y^{(i)})^2.\n",
    "$$\n",
    "\n",
    "$m$: 入力されるデータの数\n",
    "\n",
    "$hθ()$: 仮定関数\n",
    "\n",
    "$x(i)$: i番目のサンプルの特徴量ベクトル\n",
    "\n",
    "$y(i)$: i番目のサンプルの正解値\n"
   ]
  },
  {
   "cell_type": "markdown",
   "metadata": {},
   "source": [
    "### 【問題5】解答"
   ]
  },
  {
   "cell_type": "markdown",
   "metadata": {},
   "source": [
    "**→クラス内に記述**"
   ]
  },
  {
   "cell_type": "markdown",
   "metadata": {},
   "source": [
    "## 【問題6】学習と推定\n",
    "機械学習スクラッチ入門のSprintで用意したHouse Pricesコンペティションのデータに対してスクラッチ実装の学習と推定を行なってください。\n",
    "\n",
    "scikit-learnによる実装と比べ、正しく動いているかを確認してください。"
   ]
  },
  {
   "cell_type": "markdown",
   "metadata": {},
   "source": [
    "### 【問題6】解答"
   ]
  },
  {
   "cell_type": "code",
   "execution_count": 35,
   "metadata": {},
   "outputs": [],
   "source": [
    "class ScratchLinearRegression():\n",
    "    \n",
    "    \"\"\"\n",
    "    線形回帰のスクラッチ実装\n",
    "\n",
    "    Parameters\n",
    "    ----------\n",
    "    num_iter : int\n",
    "      イテレーション数\n",
    "    lr : float\n",
    "      学習率\n",
    "    no_bias : bool\n",
    "      バイアス項を入れない場合はTrue\n",
    "    verbose : bool\n",
    "      学習過程を出力する場合はTrue\n",
    "\n",
    "    Attributes\n",
    "    ----------\n",
    "    self.coef_ : 次の形のndarray, shape (n_features,)\n",
    "      パラメータ\n",
    "    self.loss : 次の形のndarray, shape (self.iter,)\n",
    "      学習用データに対する損失の記録\n",
    "    self.val_loss : 次の形のndarray, shape (self.iter,)\n",
    "      検証用データに対する損失の記録\n",
    "\n",
    "    \"\"\"\n",
    "\n",
    "    def __init__(self, num_iter, lr, bias, verbose):\n",
    "        # ハイパーパラメータを属性として記録\n",
    "        self.iter = num_iter # イテレーション数：データセットに含まれるデータが少なくとも1回は学習に用いられるのに必要な学習回数?\n",
    "        #バッチサイズが決まれば自動的に決まる数値\n",
    "        self.lr = lr #学習率\n",
    "        self.bias = bias # モデルと学習データの平均的なズレ?\n",
    "        self.verbose = verbose # 途中経過をコンソールに出力するか（初期値：True）?\n",
    "        # 損失を記録する配列を用意\n",
    "        self.loss = np.zeros(self.iter)\n",
    "        self.val_loss = np.zeros(self.iter)\n",
    "        # 傾き\n",
    "        self.coef_ = None\n",
    "\n",
    "# 仮定関数\n",
    "    def _linear_hypothesis(self, X):\n",
    "        \n",
    "        \"\"\"\n",
    "        線形の仮定関数を計算する\n",
    "\n",
    "        Parameters\n",
    "        ----------\n",
    "            X : 次の形のndarray, shape (n_samples, n_features)\n",
    "\n",
    "        Returns\n",
    "        -------\n",
    "            x = 全行最初の列に値が1の列を追加されたデータX\n",
    "            w = θ0：yが0の時の接点, θ1,2,3...n:重み, n：特徴量の数\n",
    "            hypo =  線形の仮定関数による推定結果（次の形のndarray, shape (n_samples, 1)）\n",
    "\n",
    "        \"\"\"   \n",
    "        self.hypo = X@self.coef_\n",
    "        return self.hypo\n",
    "      \n",
    "        \n",
    "#  最急降下法\n",
    "    def _gradient_descent(self, X, error):\n",
    "        \"\"\"\n",
    "        self.coef_更新\n",
    "            \n",
    "        Parameters\n",
    "        ----------\n",
    "            a : 学習率=lr\n",
    "\n",
    "        Returns\n",
    "        -------\n",
    "            coef_：shape (n_feature + 1, 1)\n",
    "\n",
    "        \"\"\"\n",
    "        self.coef_ = self.coef_ - self.lr*(error.T@X).T/X.shape[0]\n",
    "\n",
    "        \n",
    "# 目的関数（損失関数）\n",
    "    def cost_func(self, X, y, X_val=None, y_val=None):\n",
    "        self.loss = 1/(2*X.shape[0])*np.sum((self.error)**2)\n",
    "        # X_val,y_val分岐\n",
    "        if X_val is not None and y_val is not None:\n",
    "            X_val = X_val.reshape(-1, X_val.shape[1])\n",
    "            self.val_loss = 1/(2*X_val.shape[0])*np.sum((self.error)**2)\n",
    "        else:\n",
    "            pass\n",
    "\n",
    "        \n",
    "# Fit関数  \n",
    "    def fit(self, X, y, X_val=None, y_val=None):\n",
    "        \"\"\"\n",
    "        線形回帰を学習する。検証用データが入力された場合はそれに対する損失と精度もイテレーションごとに計算する。\n",
    "\n",
    "        Parameters\n",
    "        ----------\n",
    "        X : 次の形のndarray, shape (n_samples, n_features)\n",
    "            学習用データの特徴量\n",
    "        y : 次の形のndarray, shape (n_samples, )\n",
    "            学習用データの正解値\n",
    "        X_val : 次の形のndarray, shape (n_samples, n_features)\n",
    "            検証用データの特徴量\n",
    "        y_val : 次の形のndarray, shape (n_samples, )\n",
    "            検証用データの正解値\n",
    "        \"\"\"\n",
    "        # X shape処理\n",
    "        X = X.reshape(-1, X.shape[1])\n",
    "                    \n",
    "        # バイアス分岐 \n",
    "        # True\n",
    "        if self.bias: \n",
    "            X = np.insert(X, 0, 1, axis=1)\n",
    "            self.coef_ = np.random.normal(size=(X.shape[1],1)) # coef(仮定関数の重み)の初期値を設定\n",
    "            self.count_iter = []\n",
    "            self.count = 0\n",
    "            self.loss_list = []\n",
    "            self.val_loss_list = []\n",
    "            for i in range(self.iter):\n",
    "                self.count +=1\n",
    "                self.count_iter.append(self.count)\n",
    "                # 仮定関数を実行し予測を更新\n",
    "                hypo = self._linear_hypothesis(X)\n",
    "                # 誤差を更新\n",
    "                self.error = hypo - y.reshape(-1, 1)\n",
    "                # 最急降下法による重みの更新\n",
    "                self._gradient_descent(X, self.error)\n",
    "                self.cost_func(X, y, X_val, y_val) \n",
    "                self.loss_list.append(self.loss)\n",
    "                self.val_loss_list.append(self.val_loss)\n",
    "                #verboseをTrueにした際は学習過程を出力\n",
    "                if self.verbose == True:\n",
    "                    print(\"{}回目の学習\".format(i+1))\n",
    "                   \n",
    "        # False\n",
    "        else: \n",
    "            self.coef_ = np.random.normal(size=(X.shape[1],1)) # coef(仮定関数の重み)の初期値を設定\n",
    "            self.count_iter = []\n",
    "            self.count = 0\n",
    "            self.loss_list = []\n",
    "            self.val_loss_list = []\n",
    "            for i in range(self.iter):\n",
    "                self.count +=1\n",
    "                self.count_iter.append(self.count)\n",
    "                # 仮定関数を実行し予測を更新\n",
    "                hypo = self._linear_hypothesis(X)\n",
    "                # 誤差を更新\n",
    "                self.error = hypo - y.reshape(-1, 1)\n",
    "                # 最急降下法による重みの更新\n",
    "                self._gradient_descent(X, self.error)\n",
    "                self.cost_func(X, y, X_val, y_val) \n",
    "                self.loss_list.append(self.loss)\n",
    "                self.val_loss_list.append(self.val_loss)\n",
    "                #verboseをTrueにした際は学習過程を出力\n",
    "                if self.verbose == True:\n",
    "                    print(\"{}回目の学習\".format(i+1))\n",
    "\n",
    "        \n",
    "    def predict(self, X):\n",
    "        \"\"\"\n",
    "        線形回帰を使い推定する。\n",
    "\n",
    "        Parameters\n",
    "        ----------\n",
    "        X : 次の形のndarray, shape (n_samples, n_features)\n",
    "            サンプル\n",
    "\n",
    "        Returns\n",
    "        -------\n",
    "            次の形のndarray, shape (n_samples, 1)\n",
    "            線形回帰による推定結果\n",
    "        \"\"\"\n",
    "        predict = X@self.coef_    \n",
    "        return predict"
   ]
  },
  {
   "cell_type": "code",
   "execution_count": 36,
   "metadata": {},
   "outputs": [
    {
     "data": {
      "text/plain": [
       "(1460, 1)"
      ]
     },
     "execution_count": 36,
     "metadata": {},
     "output_type": "execute_result"
    }
   ],
   "source": [
    "std = StandardScaler()\n",
    "if X.ndim > 1:\n",
    "    X = std.fit_transform(X.reshape(-1, X.shape[1]))\n",
    "    test = std.fit_transform(test.reshape(-1, 1))\n",
    "else:\n",
    "    X = std.fit_transform(X.reshape(-1, 1))\n",
    "    test = std.fit_transform(test.reshape(-1, 1))\n",
    "X.shape"
   ]
  },
  {
   "cell_type": "code",
   "execution_count": 37,
   "metadata": {},
   "outputs": [],
   "source": [
    "# データ分割\n",
    "X_train, X_test, y_train, y_test = train_test_split(X, test, test_size=0.2, random_state=42)"
   ]
  },
  {
   "cell_type": "code",
   "execution_count": 50,
   "metadata": {},
   "outputs": [
    {
     "data": {
      "text/plain": [
       "(2, 1)"
      ]
     },
     "execution_count": 50,
     "metadata": {},
     "output_type": "execute_result"
    }
   ],
   "source": [
    "param = {'num_iter':3000, 'lr':0.01, 'bias':True, 'verbose':False}\n",
    "model = ScratchLinearRegression(**param)\n",
    "\n",
    "param_fit = {'X':X_train, 'y':y_train, 'X_val':X_test, 'y_val':y_test}\n",
    "model.fit(**param_fit)\n",
    "# y_pred = model.predict(X_test)\n",
    "model.coef_.shape"
   ]
  },
  {
   "cell_type": "code",
   "execution_count": 51,
   "metadata": {},
   "outputs": [],
   "source": [
    "# mse(y_pred, y_test)\n",
    "# mean_squared_error(y_pred, y_test)"
   ]
  },
  {
   "cell_type": "markdown",
   "metadata": {},
   "source": [
    "#### scikit-learnによる実装との比較"
   ]
  },
  {
   "cell_type": "code",
   "execution_count": 52,
   "metadata": {},
   "outputs": [
    {
     "data": {
      "text/plain": [
       "((1168, 1), (292, 1), (1168, 1), (292, 1))"
      ]
     },
     "execution_count": 52,
     "metadata": {},
     "output_type": "execute_result"
    }
   ],
   "source": [
    "X_train.shape, X_test.shape, y_train.shape, y_test.shape"
   ]
  },
  {
   "cell_type": "code",
   "execution_count": 53,
   "metadata": {
    "scrolled": true
   },
   "outputs": [
    {
     "data": {
      "text/plain": [
       "0.5421057428693639"
      ]
     },
     "execution_count": 53,
     "metadata": {},
     "output_type": "execute_result"
    }
   ],
   "source": [
    "model_sklearn = LinearRegression()\n",
    "\n",
    "model_sklearn.fit(X_train, y_train)\n",
    "model_sklearn_pred = model_sklearn.predict(X_test)\n",
    "\n",
    "mean_squared_error(y_test, model_sklearn_pred)\n"
   ]
  },
  {
   "cell_type": "markdown",
   "metadata": {},
   "source": [
    "## 【問題7】学習曲線のプロット\n",
    "学習曲線を表示する関数を作成し、実行してください。グラフを見て損失が適切に下がっているかどうか確認してください。\n",
    "\n",
    "線形回帰クラスの雛形ではself.loss, self.val_lossに損失を記録しておくようになっているため、入力にはこれを利用してください。\n",
    "\n",
    "**プロット例**"
   ]
  },
  {
   "cell_type": "markdown",
   "metadata": {},
   "source": [
    "![](https://t.gyazo.com/teams/diveintocode/7977285221cd69d278434721fbe406e3.png)"
   ]
  },
  {
   "cell_type": "code",
   "execution_count": 54,
   "metadata": {},
   "outputs": [
    {
     "data": {
      "text/plain": [
       "<matplotlib.legend.Legend at 0x11f6dffd0>"
      ]
     },
     "execution_count": 54,
     "metadata": {},
     "output_type": "execute_result"
    },
    {
     "data": {
      "image/png": "[encoded data removed]",
      "text/plain": [
       "<Figure size 576x432 with 1 Axes>"
      ]
     },
     "metadata": {},
     "output_type": "display_data"
    }
   ],
   "source": [
    "plt.figure(figsize=(8,6))\n",
    "sns.set()\n",
    "plt.xlabel('iter')\n",
    "plt.ylabel('loss')\n",
    "plt.plot(model.count_iter, model.loss_list, label='train')\n",
    "plt.plot(model.count_iter, model.val_loss_list, label='val')\n",
    "plt.legend()"
   ]
  }
 ],
 "metadata": {
  "colab": {
   "authorship_tag": "ABX9TyPc0Tm/puHo3qDAsiiF6SzB",
   "name": "Sprint 機械学習スクラッチ 線形回帰.ipynb",
   "provenance": []
  },
  "kernelspec": {
   "display_name": "Python 3",
   "language": "python",
   "name": "python3"
  },
  "language_info": {
   "codemirror_mode": {
    "name": "ipython",
    "version": 3
   },
   "file_extension": ".py",
   "mimetype": "text/x-python",
   "name": "python",
   "nbconvert_exporter": "python",
   "pygments_lexer": "ipython3",
   "version": "3.7.4"
  },
  "toc": {
   "base_numbering": 1,
   "nav_menu": {},
   "number_sections": true,
   "sideBar": true,
   "skip_h1_title": false,
   "title_cell": "Table of Contents",
   "title_sidebar": "Contents",
   "toc_cell": false,
   "toc_position": {},
   "toc_section_display": true,
   "toc_window_display": true
  }
 },
 "nbformat": 4,
 "nbformat_minor": 1
}
