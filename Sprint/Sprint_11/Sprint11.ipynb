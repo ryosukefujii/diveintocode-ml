{
 "cells": [
  {
   "cell_type": "code",
   "execution_count": 1,
   "metadata": {},
   "outputs": [
    {
     "name": "stderr",
     "output_type": "stream",
     "text": [
      "Using TensorFlow backend.\n"
     ]
    }
   ],
   "source": [
    "import numpy as np\n",
    "import pandas as pd\n",
    "from sklearn.model_selection import train_test_split\n",
    "import tensorflow as tf\n",
    "from keras.datasets import mnist\n",
    "import scipy.stats\n",
    "from keras.models import Sequential\n",
    "from keras.layers import Activation, Conv2D, MaxPool2D, Flatten, Dense, Dropout\n",
    "from keras import optimizers\n",
    "from keras import backend as K"
   ]
  },
  {
   "cell_type": "markdown",
   "metadata": {},
   "source": [
    "# 公式Example\n",
    "\n",
    "深層学習フレームワークには公式に様々なモデルのExampleコードが公開されています。\n",
    "\n",
    "\n"
   ]
  },
  {
   "cell_type": "markdown",
   "metadata": {},
   "source": [
    "## 【問題1】公式チュートリアルモデルを分担して実行\n",
    "TensorFLowの公式チュートリアルモデルを分担して実行してください。\n",
    "\n",
    "\n",
    "以下の中から1人ひとつ選び実行し、その結果を簡単に発表してください。\n",
    "\n",
    "\n",
    "[models/tutorials at master · tensorflow/models](https://github.com/tensorflow/models/tree/master/tutorials)"
   ]
  },
  {
   "cell_type": "markdown",
   "metadata": {},
   "source": [
    "### 【問題1】解答"
   ]
  },
  {
   "cell_type": "markdown",
   "metadata": {},
   "source": [
    "**回帰：燃費を予測する**\n",
    "\n",
    "https://www.tensorflow.org/tutorials/keras/regression"
   ]
  },
  {
   "cell_type": "code",
   "execution_count": 2,
   "metadata": {},
   "outputs": [
    {
     "name": "stdout",
     "output_type": "stream",
     "text": [
      "2.1.0\n"
     ]
    },
    {
     "name": "stderr",
     "output_type": "stream",
     "text": [
      "/Users/FUZZY/opt/anaconda3/lib/python3.7/site-packages/statsmodels/tools/_testing.py:19: FutureWarning: pandas.util.testing is deprecated. Use the functions in the public API at pandas.testing instead.\n",
      "  import pandas.util.testing as tm\n"
     ]
    }
   ],
   "source": [
    "from __future__ import absolute_import, division, print_function, unicode_literals\n",
    "\n",
    "import pathlib\n",
    "\n",
    "import matplotlib.pyplot as plt\n",
    "import pandas as pd\n",
    "import seaborn as sns\n",
    "\n",
    "import tensorflow as tf\n",
    "\n",
    "from tensorflow import keras\n",
    "from tensorflow.keras import layers\n",
    "\n",
    "print(tf.__version__)"
   ]
  },
  {
   "cell_type": "code",
   "execution_count": 3,
   "metadata": {},
   "outputs": [
    {
     "data": {
      "text/plain": [
       "'/Users/FUZZY/.keras/datasets/auto-mpg.data'"
      ]
     },
     "execution_count": 3,
     "metadata": {},
     "output_type": "execute_result"
    }
   ],
   "source": [
    "dataset_path = keras.utils.get_file(\"auto-mpg.data\", \"https://archive.ics.uci.edu/ml/machine-learning-databases/auto-mpg/auto-mpg.data\")\n",
    "dataset_path"
   ]
  },
  {
   "cell_type": "code",
   "execution_count": 4,
   "metadata": {},
   "outputs": [
    {
     "data": {
      "text/html": [
       "<div>\n",
       "<style scoped>\n",
       "    .dataframe tbody tr th:only-of-type {\n",
       "        vertical-align: middle;\n",
       "    }\n",
       "\n",
       "    .dataframe tbody tr th {\n",
       "        vertical-align: top;\n",
       "    }\n",
       "\n",
       "    .dataframe thead th {\n",
       "        text-align: right;\n",
       "    }\n",
       "</style>\n",
       "<table border=\"1\" class=\"dataframe\">\n",
       "  <thead>\n",
       "    <tr style=\"text-align: right;\">\n",
       "      <th></th>\n",
       "      <th>MPG</th>\n",
       "      <th>Cylinders</th>\n",
       "      <th>Displacement</th>\n",
       "      <th>Horsepower</th>\n",
       "      <th>Weight</th>\n",
       "      <th>Acceleration</th>\n",
       "      <th>Model Year</th>\n",
       "      <th>Origin</th>\n",
       "    </tr>\n",
       "  </thead>\n",
       "  <tbody>\n",
       "    <tr>\n",
       "      <th>393</th>\n",
       "      <td>27.0</td>\n",
       "      <td>4</td>\n",
       "      <td>140.0</td>\n",
       "      <td>86.0</td>\n",
       "      <td>2790.0</td>\n",
       "      <td>15.6</td>\n",
       "      <td>82</td>\n",
       "      <td>1</td>\n",
       "    </tr>\n",
       "    <tr>\n",
       "      <th>394</th>\n",
       "      <td>44.0</td>\n",
       "      <td>4</td>\n",
       "      <td>97.0</td>\n",
       "      <td>52.0</td>\n",
       "      <td>2130.0</td>\n",
       "      <td>24.6</td>\n",
       "      <td>82</td>\n",
       "      <td>2</td>\n",
       "    </tr>\n",
       "    <tr>\n",
       "      <th>395</th>\n",
       "      <td>32.0</td>\n",
       "      <td>4</td>\n",
       "      <td>135.0</td>\n",
       "      <td>84.0</td>\n",
       "      <td>2295.0</td>\n",
       "      <td>11.6</td>\n",
       "      <td>82</td>\n",
       "      <td>1</td>\n",
       "    </tr>\n",
       "    <tr>\n",
       "      <th>396</th>\n",
       "      <td>28.0</td>\n",
       "      <td>4</td>\n",
       "      <td>120.0</td>\n",
       "      <td>79.0</td>\n",
       "      <td>2625.0</td>\n",
       "      <td>18.6</td>\n",
       "      <td>82</td>\n",
       "      <td>1</td>\n",
       "    </tr>\n",
       "    <tr>\n",
       "      <th>397</th>\n",
       "      <td>31.0</td>\n",
       "      <td>4</td>\n",
       "      <td>119.0</td>\n",
       "      <td>82.0</td>\n",
       "      <td>2720.0</td>\n",
       "      <td>19.4</td>\n",
       "      <td>82</td>\n",
       "      <td>1</td>\n",
       "    </tr>\n",
       "  </tbody>\n",
       "</table>\n",
       "</div>"
      ],
      "text/plain": [
       "      MPG  Cylinders  Displacement  Horsepower  Weight  Acceleration  \\\n",
       "393  27.0          4         140.0        86.0  2790.0          15.6   \n",
       "394  44.0          4          97.0        52.0  2130.0          24.6   \n",
       "395  32.0          4         135.0        84.0  2295.0          11.6   \n",
       "396  28.0          4         120.0        79.0  2625.0          18.6   \n",
       "397  31.0          4         119.0        82.0  2720.0          19.4   \n",
       "\n",
       "     Model Year  Origin  \n",
       "393          82       1  \n",
       "394          82       2  \n",
       "395          82       1  \n",
       "396          82       1  \n",
       "397          82       1  "
      ]
     },
     "execution_count": 4,
     "metadata": {},
     "output_type": "execute_result"
    }
   ],
   "source": [
    "column_names = ['MPG','Cylinders','Displacement','Horsepower','Weight',\n",
    "                'Acceleration', 'Model Year', 'Origin'] \n",
    "raw_dataset = pd.read_csv(dataset_path, names=column_names,\n",
    "                      na_values = \"?\", comment='\\t',\n",
    "                      sep=\" \", skipinitialspace=True)\n",
    "\n",
    "dataset = raw_dataset.copy()\n",
    "dataset.tail()"
   ]
  },
  {
   "cell_type": "code",
   "execution_count": 5,
   "metadata": {},
   "outputs": [
    {
     "data": {
      "text/plain": [
       "MPG             0\n",
       "Cylinders       0\n",
       "Displacement    0\n",
       "Horsepower      6\n",
       "Weight          0\n",
       "Acceleration    0\n",
       "Model Year      0\n",
       "Origin          0\n",
       "dtype: int64"
      ]
     },
     "execution_count": 5,
     "metadata": {},
     "output_type": "execute_result"
    }
   ],
   "source": [
    "dataset.isna().sum()"
   ]
  },
  {
   "cell_type": "code",
   "execution_count": 6,
   "metadata": {},
   "outputs": [],
   "source": [
    "dataset = dataset.dropna()"
   ]
  },
  {
   "cell_type": "code",
   "execution_count": 7,
   "metadata": {},
   "outputs": [],
   "source": [
    "origin = dataset.pop('Origin')"
   ]
  },
  {
   "cell_type": "code",
   "execution_count": 8,
   "metadata": {},
   "outputs": [
    {
     "data": {
      "text/html": [
       "<div>\n",
       "<style scoped>\n",
       "    .dataframe tbody tr th:only-of-type {\n",
       "        vertical-align: middle;\n",
       "    }\n",
       "\n",
       "    .dataframe tbody tr th {\n",
       "        vertical-align: top;\n",
       "    }\n",
       "\n",
       "    .dataframe thead th {\n",
       "        text-align: right;\n",
       "    }\n",
       "</style>\n",
       "<table border=\"1\" class=\"dataframe\">\n",
       "  <thead>\n",
       "    <tr style=\"text-align: right;\">\n",
       "      <th></th>\n",
       "      <th>MPG</th>\n",
       "      <th>Cylinders</th>\n",
       "      <th>Displacement</th>\n",
       "      <th>Horsepower</th>\n",
       "      <th>Weight</th>\n",
       "      <th>Acceleration</th>\n",
       "      <th>Model Year</th>\n",
       "      <th>USA</th>\n",
       "      <th>Europe</th>\n",
       "      <th>Japan</th>\n",
       "    </tr>\n",
       "  </thead>\n",
       "  <tbody>\n",
       "    <tr>\n",
       "      <th>393</th>\n",
       "      <td>27.0</td>\n",
       "      <td>4</td>\n",
       "      <td>140.0</td>\n",
       "      <td>86.0</td>\n",
       "      <td>2790.0</td>\n",
       "      <td>15.6</td>\n",
       "      <td>82</td>\n",
       "      <td>1.0</td>\n",
       "      <td>0.0</td>\n",
       "      <td>0.0</td>\n",
       "    </tr>\n",
       "    <tr>\n",
       "      <th>394</th>\n",
       "      <td>44.0</td>\n",
       "      <td>4</td>\n",
       "      <td>97.0</td>\n",
       "      <td>52.0</td>\n",
       "      <td>2130.0</td>\n",
       "      <td>24.6</td>\n",
       "      <td>82</td>\n",
       "      <td>0.0</td>\n",
       "      <td>1.0</td>\n",
       "      <td>0.0</td>\n",
       "    </tr>\n",
       "    <tr>\n",
       "      <th>395</th>\n",
       "      <td>32.0</td>\n",
       "      <td>4</td>\n",
       "      <td>135.0</td>\n",
       "      <td>84.0</td>\n",
       "      <td>2295.0</td>\n",
       "      <td>11.6</td>\n",
       "      <td>82</td>\n",
       "      <td>1.0</td>\n",
       "      <td>0.0</td>\n",
       "      <td>0.0</td>\n",
       "    </tr>\n",
       "    <tr>\n",
       "      <th>396</th>\n",
       "      <td>28.0</td>\n",
       "      <td>4</td>\n",
       "      <td>120.0</td>\n",
       "      <td>79.0</td>\n",
       "      <td>2625.0</td>\n",
       "      <td>18.6</td>\n",
       "      <td>82</td>\n",
       "      <td>1.0</td>\n",
       "      <td>0.0</td>\n",
       "      <td>0.0</td>\n",
       "    </tr>\n",
       "    <tr>\n",
       "      <th>397</th>\n",
       "      <td>31.0</td>\n",
       "      <td>4</td>\n",
       "      <td>119.0</td>\n",
       "      <td>82.0</td>\n",
       "      <td>2720.0</td>\n",
       "      <td>19.4</td>\n",
       "      <td>82</td>\n",
       "      <td>1.0</td>\n",
       "      <td>0.0</td>\n",
       "      <td>0.0</td>\n",
       "    </tr>\n",
       "  </tbody>\n",
       "</table>\n",
       "</div>"
      ],
      "text/plain": [
       "      MPG  Cylinders  Displacement  Horsepower  Weight  Acceleration  \\\n",
       "393  27.0          4         140.0        86.0  2790.0          15.6   \n",
       "394  44.0          4          97.0        52.0  2130.0          24.6   \n",
       "395  32.0          4         135.0        84.0  2295.0          11.6   \n",
       "396  28.0          4         120.0        79.0  2625.0          18.6   \n",
       "397  31.0          4         119.0        82.0  2720.0          19.4   \n",
       "\n",
       "     Model Year  USA  Europe  Japan  \n",
       "393          82  1.0     0.0    0.0  \n",
       "394          82  0.0     1.0    0.0  \n",
       "395          82  1.0     0.0    0.0  \n",
       "396          82  1.0     0.0    0.0  \n",
       "397          82  1.0     0.0    0.0  "
      ]
     },
     "execution_count": 8,
     "metadata": {},
     "output_type": "execute_result"
    }
   ],
   "source": [
    "dataset['USA'] = (origin == 1)*1.0\n",
    "dataset['Europe'] = (origin == 2)*1.0\n",
    "dataset['Japan'] = (origin == 3)*1.0\n",
    "dataset.tail()"
   ]
  },
  {
   "cell_type": "code",
   "execution_count": 9,
   "metadata": {},
   "outputs": [],
   "source": [
    "train_dataset = dataset.sample(frac=0.8,random_state=0)\n",
    "test_dataset = dataset.drop(train_dataset.index)"
   ]
  },
  {
   "cell_type": "code",
   "execution_count": 10,
   "metadata": {},
   "outputs": [
    {
     "data": {
      "text/plain": [
       "<seaborn.axisgrid.PairGrid at 0x147755250>"
      ]
     },
     "execution_count": 10,
     "metadata": {},
     "output_type": "execute_result"
    },
    {
     "data": {
      "image/png": "[encoded data removed]",
      "text/plain": [
       "<Figure size 720x720 with 20 Axes>"
      ]
     },
     "metadata": {
      "needs_background": "light"
     },
     "output_type": "display_data"
    }
   ],
   "source": [
    "sns.pairplot(train_dataset[[\"MPG\", \"Cylinders\", \"Displacement\", \"Weight\"]], diag_kind=\"kde\")"
   ]
  },
  {
   "cell_type": "code",
   "execution_count": 11,
   "metadata": {},
   "outputs": [
    {
     "data": {
      "text/html": [
       "<div>\n",
       "<style scoped>\n",
       "    .dataframe tbody tr th:only-of-type {\n",
       "        vertical-align: middle;\n",
       "    }\n",
       "\n",
       "    .dataframe tbody tr th {\n",
       "        vertical-align: top;\n",
       "    }\n",
       "\n",
       "    .dataframe thead th {\n",
       "        text-align: right;\n",
       "    }\n",
       "</style>\n",
       "<table border=\"1\" class=\"dataframe\">\n",
       "  <thead>\n",
       "    <tr style=\"text-align: right;\">\n",
       "      <th></th>\n",
       "      <th>count</th>\n",
       "      <th>mean</th>\n",
       "      <th>std</th>\n",
       "      <th>min</th>\n",
       "      <th>25%</th>\n",
       "      <th>50%</th>\n",
       "      <th>75%</th>\n",
       "      <th>max</th>\n",
       "    </tr>\n",
       "  </thead>\n",
       "  <tbody>\n",
       "    <tr>\n",
       "      <th>Cylinders</th>\n",
       "      <td>314.0</td>\n",
       "      <td>5.477707</td>\n",
       "      <td>1.699788</td>\n",
       "      <td>3.0</td>\n",
       "      <td>4.00</td>\n",
       "      <td>4.0</td>\n",
       "      <td>8.00</td>\n",
       "      <td>8.0</td>\n",
       "    </tr>\n",
       "    <tr>\n",
       "      <th>Displacement</th>\n",
       "      <td>314.0</td>\n",
       "      <td>195.318471</td>\n",
       "      <td>104.331589</td>\n",
       "      <td>68.0</td>\n",
       "      <td>105.50</td>\n",
       "      <td>151.0</td>\n",
       "      <td>265.75</td>\n",
       "      <td>455.0</td>\n",
       "    </tr>\n",
       "    <tr>\n",
       "      <th>Horsepower</th>\n",
       "      <td>314.0</td>\n",
       "      <td>104.869427</td>\n",
       "      <td>38.096214</td>\n",
       "      <td>46.0</td>\n",
       "      <td>76.25</td>\n",
       "      <td>94.5</td>\n",
       "      <td>128.00</td>\n",
       "      <td>225.0</td>\n",
       "    </tr>\n",
       "    <tr>\n",
       "      <th>Weight</th>\n",
       "      <td>314.0</td>\n",
       "      <td>2990.251592</td>\n",
       "      <td>843.898596</td>\n",
       "      <td>1649.0</td>\n",
       "      <td>2256.50</td>\n",
       "      <td>2822.5</td>\n",
       "      <td>3608.00</td>\n",
       "      <td>5140.0</td>\n",
       "    </tr>\n",
       "    <tr>\n",
       "      <th>Acceleration</th>\n",
       "      <td>314.0</td>\n",
       "      <td>15.559236</td>\n",
       "      <td>2.789230</td>\n",
       "      <td>8.0</td>\n",
       "      <td>13.80</td>\n",
       "      <td>15.5</td>\n",
       "      <td>17.20</td>\n",
       "      <td>24.8</td>\n",
       "    </tr>\n",
       "    <tr>\n",
       "      <th>Model Year</th>\n",
       "      <td>314.0</td>\n",
       "      <td>75.898089</td>\n",
       "      <td>3.675642</td>\n",
       "      <td>70.0</td>\n",
       "      <td>73.00</td>\n",
       "      <td>76.0</td>\n",
       "      <td>79.00</td>\n",
       "      <td>82.0</td>\n",
       "    </tr>\n",
       "    <tr>\n",
       "      <th>USA</th>\n",
       "      <td>314.0</td>\n",
       "      <td>0.624204</td>\n",
       "      <td>0.485101</td>\n",
       "      <td>0.0</td>\n",
       "      <td>0.00</td>\n",
       "      <td>1.0</td>\n",
       "      <td>1.00</td>\n",
       "      <td>1.0</td>\n",
       "    </tr>\n",
       "    <tr>\n",
       "      <th>Europe</th>\n",
       "      <td>314.0</td>\n",
       "      <td>0.178344</td>\n",
       "      <td>0.383413</td>\n",
       "      <td>0.0</td>\n",
       "      <td>0.00</td>\n",
       "      <td>0.0</td>\n",
       "      <td>0.00</td>\n",
       "      <td>1.0</td>\n",
       "    </tr>\n",
       "    <tr>\n",
       "      <th>Japan</th>\n",
       "      <td>314.0</td>\n",
       "      <td>0.197452</td>\n",
       "      <td>0.398712</td>\n",
       "      <td>0.0</td>\n",
       "      <td>0.00</td>\n",
       "      <td>0.0</td>\n",
       "      <td>0.00</td>\n",
       "      <td>1.0</td>\n",
       "    </tr>\n",
       "  </tbody>\n",
       "</table>\n",
       "</div>"
      ],
      "text/plain": [
       "              count         mean         std     min      25%     50%  \\\n",
       "Cylinders     314.0     5.477707    1.699788     3.0     4.00     4.0   \n",
       "Displacement  314.0   195.318471  104.331589    68.0   105.50   151.0   \n",
       "Horsepower    314.0   104.869427   38.096214    46.0    76.25    94.5   \n",
       "Weight        314.0  2990.251592  843.898596  1649.0  2256.50  2822.5   \n",
       "Acceleration  314.0    15.559236    2.789230     8.0    13.80    15.5   \n",
       "Model Year    314.0    75.898089    3.675642    70.0    73.00    76.0   \n",
       "USA           314.0     0.624204    0.485101     0.0     0.00     1.0   \n",
       "Europe        314.0     0.178344    0.383413     0.0     0.00     0.0   \n",
       "Japan         314.0     0.197452    0.398712     0.0     0.00     0.0   \n",
       "\n",
       "                  75%     max  \n",
       "Cylinders        8.00     8.0  \n",
       "Displacement   265.75   455.0  \n",
       "Horsepower     128.00   225.0  \n",
       "Weight        3608.00  5140.0  \n",
       "Acceleration    17.20    24.8  \n",
       "Model Year      79.00    82.0  \n",
       "USA              1.00     1.0  \n",
       "Europe           0.00     1.0  \n",
       "Japan            0.00     1.0  "
      ]
     },
     "execution_count": 11,
     "metadata": {},
     "output_type": "execute_result"
    }
   ],
   "source": [
    "train_stats = train_dataset.describe()\n",
    "train_stats.pop(\"MPG\")\n",
    "train_stats = train_stats.transpose()\n",
    "train_stats"
   ]
  },
  {
   "cell_type": "code",
   "execution_count": 12,
   "metadata": {},
   "outputs": [],
   "source": [
    "train_labels = train_dataset.pop('MPG')\n",
    "test_labels = test_dataset.pop('MPG')"
   ]
  },
  {
   "cell_type": "code",
   "execution_count": 13,
   "metadata": {},
   "outputs": [],
   "source": [
    "def norm(x):\n",
    "  return (x - train_stats['mean']) / train_stats['std']\n",
    "normed_train_data = norm(train_dataset)\n",
    "normed_test_data = norm(test_dataset)"
   ]
  },
  {
   "cell_type": "code",
   "execution_count": 14,
   "metadata": {},
   "outputs": [],
   "source": [
    "def build_model():\n",
    "  model = keras.Sequential([\n",
    "    layers.Dense(64, activation='relu', input_shape=[len(train_dataset.keys())]),\n",
    "    layers.Dense(64, activation='relu'),\n",
    "    layers.Dense(1)\n",
    "  ])\n",
    "\n",
    "  optimizer = tf.keras.optimizers.RMSprop(0.001)\n",
    "\n",
    "  model.compile(loss='mse',\n",
    "                optimizer=optimizer,\n",
    "                metrics=['mae', 'mse'])\n",
    "  return model"
   ]
  },
  {
   "cell_type": "code",
   "execution_count": 15,
   "metadata": {},
   "outputs": [],
   "source": [
    "model = build_model()"
   ]
  },
  {
   "cell_type": "code",
   "execution_count": 16,
   "metadata": {},
   "outputs": [
    {
     "name": "stdout",
     "output_type": "stream",
     "text": [
      "Model: \"sequential\"\n",
      "_________________________________________________________________\n",
      "Layer (type)                 Output Shape              Param #   \n",
      "=================================================================\n",
      "dense (Dense)                (None, 64)                640       \n",
      "_________________________________________________________________\n",
      "dense_1 (Dense)              (None, 64)                4160      \n",
      "_________________________________________________________________\n",
      "dense_2 (Dense)              (None, 1)                 65        \n",
      "=================================================================\n",
      "Total params: 4,865\n",
      "Trainable params: 4,865\n",
      "Non-trainable params: 0\n",
      "_________________________________________________________________\n"
     ]
    }
   ],
   "source": [
    "model.summary()"
   ]
  },
  {
   "cell_type": "code",
   "execution_count": 17,
   "metadata": {},
   "outputs": [
    {
     "data": {
      "text/plain": [
       "array([[-0.19708836],\n",
       "       [ 0.12030533],\n",
       "       [ 0.69894856],\n",
       "       [ 0.11746578],\n",
       "       [ 0.30319488],\n",
       "       [ 0.11092096],\n",
       "       [ 0.37236586],\n",
       "       [ 0.3683357 ],\n",
       "       [ 0.13296875],\n",
       "       [ 0.38161376]], dtype=float32)"
      ]
     },
     "execution_count": 17,
     "metadata": {},
     "output_type": "execute_result"
    }
   ],
   "source": [
    "example_batch = normed_train_data[:10]\n",
    "example_result = model.predict(example_batch)\n",
    "example_result"
   ]
  },
  {
   "cell_type": "code",
   "execution_count": 18,
   "metadata": {},
   "outputs": [
    {
     "name": "stdout",
     "output_type": "stream",
     "text": [
      "\n",
      "....................................................................................................\n",
      "....................................................................................................\n",
      "....................................................................................................\n",
      "....................................................................................................\n",
      "....................................................................................................\n",
      "....................................................................................................\n",
      "....................................................................................................\n",
      "....................................................................................................\n",
      "....................................................................................................\n",
      "...................................................................................................."
     ]
    }
   ],
   "source": [
    "# エポックが終わるごとにドットを一つ出力することで進捗を表示\n",
    "class PrintDot(keras.callbacks.Callback):\n",
    "  def on_epoch_end(self, epoch, logs):\n",
    "    if epoch % 100 == 0: print('')\n",
    "    print('.', end='')\n",
    "\n",
    "EPOCHS = 1000\n",
    "\n",
    "history = model.fit(\n",
    "  normed_train_data, train_labels,\n",
    "  epochs=EPOCHS, validation_split = 0.2, verbose=0,\n",
    "  callbacks=[PrintDot()])"
   ]
  },
  {
   "cell_type": "markdown",
   "metadata": {},
   "source": [
    "# hist.history"
   ]
  },
  {
   "cell_type": "code",
   "execution_count": 19,
   "metadata": {},
   "outputs": [
    {
     "data": {
      "text/plain": [
       "dict_keys(['loss', 'mae', 'mse', 'val_loss', 'val_mae', 'val_mse'])"
      ]
     },
     "execution_count": 19,
     "metadata": {},
     "output_type": "execute_result"
    }
   ],
   "source": [
    "history.history.keys()"
   ]
  },
  {
   "cell_type": "code",
   "execution_count": 20,
   "metadata": {},
   "outputs": [
    {
     "data": {
      "text/html": [
       "<div>\n",
       "<style scoped>\n",
       "    .dataframe tbody tr th:only-of-type {\n",
       "        vertical-align: middle;\n",
       "    }\n",
       "\n",
       "    .dataframe tbody tr th {\n",
       "        vertical-align: top;\n",
       "    }\n",
       "\n",
       "    .dataframe thead th {\n",
       "        text-align: right;\n",
       "    }\n",
       "</style>\n",
       "<table border=\"1\" class=\"dataframe\">\n",
       "  <thead>\n",
       "    <tr style=\"text-align: right;\">\n",
       "      <th></th>\n",
       "      <th>loss</th>\n",
       "      <th>mae</th>\n",
       "      <th>mse</th>\n",
       "      <th>val_loss</th>\n",
       "      <th>val_mae</th>\n",
       "      <th>val_mse</th>\n",
       "      <th>epoch</th>\n",
       "    </tr>\n",
       "  </thead>\n",
       "  <tbody>\n",
       "    <tr>\n",
       "      <th>995</th>\n",
       "      <td>2.101859</td>\n",
       "      <td>0.893643</td>\n",
       "      <td>2.101858</td>\n",
       "      <td>8.140446</td>\n",
       "      <td>2.230258</td>\n",
       "      <td>8.140447</td>\n",
       "      <td>995</td>\n",
       "    </tr>\n",
       "    <tr>\n",
       "      <th>996</th>\n",
       "      <td>2.057557</td>\n",
       "      <td>0.909155</td>\n",
       "      <td>2.057557</td>\n",
       "      <td>7.901653</td>\n",
       "      <td>2.225383</td>\n",
       "      <td>7.901653</td>\n",
       "      <td>996</td>\n",
       "    </tr>\n",
       "    <tr>\n",
       "      <th>997</th>\n",
       "      <td>2.129098</td>\n",
       "      <td>0.919527</td>\n",
       "      <td>2.129098</td>\n",
       "      <td>7.967730</td>\n",
       "      <td>2.239019</td>\n",
       "      <td>7.967730</td>\n",
       "      <td>997</td>\n",
       "    </tr>\n",
       "    <tr>\n",
       "      <th>998</th>\n",
       "      <td>2.450024</td>\n",
       "      <td>1.029925</td>\n",
       "      <td>2.450024</td>\n",
       "      <td>8.298455</td>\n",
       "      <td>2.261784</td>\n",
       "      <td>8.298454</td>\n",
       "      <td>998</td>\n",
       "    </tr>\n",
       "    <tr>\n",
       "      <th>999</th>\n",
       "      <td>2.192730</td>\n",
       "      <td>0.902279</td>\n",
       "      <td>2.192729</td>\n",
       "      <td>8.743384</td>\n",
       "      <td>2.317359</td>\n",
       "      <td>8.743384</td>\n",
       "      <td>999</td>\n",
       "    </tr>\n",
       "  </tbody>\n",
       "</table>\n",
       "</div>"
      ],
      "text/plain": [
       "         loss       mae       mse  val_loss   val_mae   val_mse  epoch\n",
       "995  2.101859  0.893643  2.101858  8.140446  2.230258  8.140447    995\n",
       "996  2.057557  0.909155  2.057557  7.901653  2.225383  7.901653    996\n",
       "997  2.129098  0.919527  2.129098  7.967730  2.239019  7.967730    997\n",
       "998  2.450024  1.029925  2.450024  8.298455  2.261784  8.298454    998\n",
       "999  2.192730  0.902279  2.192729  8.743384  2.317359  8.743384    999"
      ]
     },
     "execution_count": 20,
     "metadata": {},
     "output_type": "execute_result"
    }
   ],
   "source": [
    "hist = pd.DataFrame(history.history)\n",
    "hist['epoch'] = history.epoch\n",
    "hist.tail()"
   ]
  },
  {
   "cell_type": "code",
   "execution_count": 21,
   "metadata": {},
   "outputs": [
    {
     "data": {
      "image/png": "[encoded data removed]",
      "text/plain": [
       "<Figure size 432x288 with 1 Axes>"
      ]
     },
     "metadata": {
      "needs_background": "light"
     },
     "output_type": "display_data"
    },
    {
     "data": {
      "image/png": "[encoded data removed]",
      "text/plain": [
       "<Figure size 432x288 with 1 Axes>"
      ]
     },
     "metadata": {
      "needs_background": "light"
     },
     "output_type": "display_data"
    }
   ],
   "source": [
    "def plot_history(history):\n",
    "  hist = pd.DataFrame(history.history)\n",
    "  hist['epoch'] = history.epoch\n",
    "  \n",
    "  plt.figure()\n",
    "  plt.xlabel('Epoch')\n",
    "  plt.ylabel('Mean Abs Error [MPG]')\n",
    "  plt.plot(hist['epoch'], hist['mae'],\n",
    "           label='Train Error')\n",
    "  plt.plot(hist['epoch'], hist['val_mae'],\n",
    "           label = 'Val Error')\n",
    "  plt.ylim([0,5])\n",
    "  plt.legend()\n",
    "  \n",
    "  plt.figure()\n",
    "  plt.xlabel('Epoch')\n",
    "  plt.ylabel('Mean Square Error [$MPG^2$]')\n",
    "  plt.plot(hist['epoch'], hist['mse'],\n",
    "           label='Train Error')\n",
    "  plt.plot(hist['epoch'], hist['val_mse'],\n",
    "           label = 'Val Error')\n",
    "  plt.ylim([0,20])\n",
    "  plt.legend()\n",
    "  plt.show()\n",
    "\n",
    "\n",
    "plot_history(history)"
   ]
  },
  {
   "cell_type": "code",
   "execution_count": 22,
   "metadata": {},
   "outputs": [
    {
     "name": "stdout",
     "output_type": "stream",
     "text": [
      "\n",
      "....................................................................................................\n",
      "..............."
     ]
    },
    {
     "data": {
      "image/png": "[encoded data removed]",
      "text/plain": [
       "<Figure size 432x288 with 1 Axes>"
      ]
     },
     "metadata": {
      "needs_background": "light"
     },
     "output_type": "display_data"
    },
    {
     "data": {
      "image/png": "[encoded data removed]",
      "text/plain": [
       "<Figure size 432x288 with 1 Axes>"
      ]
     },
     "metadata": {
      "needs_background": "light"
     },
     "output_type": "display_data"
    }
   ],
   "source": [
    "model = build_model()\n",
    "\n",
    "# patience は改善が見られるかを監視するエポック数を表すパラメーター\n",
    "early_stop = keras.callbacks.EarlyStopping(monitor='val_loss', patience=10)\n",
    "\n",
    "history = model.fit(normed_train_data, train_labels, epochs=EPOCHS,\n",
    "                    validation_split = 0.2, verbose=0, callbacks=[early_stop, PrintDot()])\n",
    "\n",
    "plot_history(history)"
   ]
  },
  {
   "cell_type": "code",
   "execution_count": 23,
   "metadata": {},
   "outputs": [
    {
     "name": "stdout",
     "output_type": "stream",
     "text": [
      "78/78 - 0s - loss: 5.9446 - mae: 1.9258 - mse: 5.9446\n",
      "Testing set Mean Abs Error:  1.93 MPG\n"
     ]
    }
   ],
   "source": [
    "loss, mae, mse = model.evaluate(normed_test_data, test_labels, verbose=2)\n",
    "\n",
    "print(\"Testing set Mean Abs Error: {:5.2f} MPG\".format(mae))"
   ]
  },
  {
   "cell_type": "code",
   "execution_count": 24,
   "metadata": {},
   "outputs": [
    {
     "data": {
      "image/png": "[encoded data removed]",
      "text/plain": [
       "<Figure size 432x288 with 1 Axes>"
      ]
     },
     "metadata": {
      "needs_background": "light"
     },
     "output_type": "display_data"
    }
   ],
   "source": [
    "test_predictions = model.predict(normed_test_data).flatten()\n",
    "\n",
    "plt.scatter(test_labels, test_predictions)\n",
    "plt.xlabel('True Values [MPG]')\n",
    "plt.ylabel('Predictions [MPG]')\n",
    "plt.axis('equal')\n",
    "plt.axis('square')\n",
    "plt.xlim([0,plt.xlim()[1]])\n",
    "plt.ylim([0,plt.ylim()[1]])\n",
    "_ = plt.plot([-100, 100], [-100, 100])"
   ]
  },
  {
   "cell_type": "code",
   "execution_count": 25,
   "metadata": {},
   "outputs": [
    {
     "data": {
      "image/png": "[encoded data removed]",
      "text/plain": [
       "<Figure size 432x288 with 1 Axes>"
      ]
     },
     "metadata": {
      "needs_background": "light"
     },
     "output_type": "display_data"
    }
   ],
   "source": [
    "error = test_predictions - test_labels\n",
    "plt.hist(error, bins = 25)\n",
    "plt.xlabel(\"Prediction Error [MPG]\")\n",
    "_ = plt.ylabel(\"Count\")"
   ]
  },
  {
   "cell_type": "markdown",
   "metadata": {},
   "source": [
    "# 異なるフレームワークへの書き換え\n",
    "\n",
    "「ディープラーニングフレームワーク1」で作成した4種類のデータセットを扱うTensorFLowのコードを異なるフレームワークに変更していきます。\n",
    "\n",
    "\n",
    "* Iris（Iris-versicolorとIris-virginicaのみの2値分類）\n",
    "* Iris（3種類全ての目的変数を使用して多値分類）\n",
    "* House Prices\n",
    "* MNIST"
   ]
  },
  {
   "cell_type": "markdown",
   "metadata": {},
   "source": [
    "## Kerasへの書き換え\n",
    "KerasはTensorFLowに含まれるtf.kerasモジュールを使用してください。\n",
    "\n",
    "\n",
    "KerasにはSequentialモデルかFunctional APIかなど書き方に種類がありますが、これは指定しません。\n",
    "\n"
   ]
  },
  {
   "cell_type": "markdown",
   "metadata": {},
   "source": [
    "## 【問題3】Iris（2値分類）をKerasで学習\n",
    "TensorFlowによるIrisデータセットに対する2値分類をKerasに書き換えてください。"
   ]
  },
  {
   "cell_type": "code",
   "execution_count": 26,
   "metadata": {},
   "outputs": [
    {
     "name": "stdout",
     "output_type": "stream",
     "text": [
      "(100,)\n",
      "(100, 1)\n"
     ]
    }
   ],
   "source": [
    "# データセットの読み込み\n",
    "from sklearn.datasets import load_iris\n",
    "iris_data = load_iris()\n",
    "X = iris_data.data[50:]\n",
    "y = iris_data.target[50:] - 1\n",
    "print(y.shape)\n",
    "y = y.astype(np.int)[:, np.newaxis]\n",
    "print(y.shape)\n",
    "\n",
    "# trainとtestに分割\n",
    "X_train, X_test, y_train, y_test = train_test_split(X, y, test_size=0.2, random_state=0)\n",
    "# さらにtrainとvalに分割\n",
    "X_train, X_val, y_train, y_val = train_test_split(X_train, y_train, test_size=0.2, random_state=0)"
   ]
  },
  {
   "cell_type": "code",
   "execution_count": 27,
   "metadata": {},
   "outputs": [
    {
     "name": "stdout",
     "output_type": "stream",
     "text": [
      "Model: \"sequential_1\"\n",
      "_________________________________________________________________\n",
      "Layer (type)                 Output Shape              Param #   \n",
      "=================================================================\n",
      "dense_1 (Dense)              (None, 256)               1280      \n",
      "_________________________________________________________________\n",
      "dense_2 (Dense)              (None, 128)               32896     \n",
      "_________________________________________________________________\n",
      "dense_3 (Dense)              (None, 64)                8256      \n",
      "_________________________________________________________________\n",
      "dense_4 (Dense)              (None, 1)                 65        \n",
      "=================================================================\n",
      "Total params: 42,497\n",
      "Trainable params: 42,497\n",
      "Non-trainable params: 0\n",
      "_________________________________________________________________\n",
      "Train on 51 samples, validate on 13 samples\n",
      "Epoch 1/30\n",
      "51/51 [==============================] - 0s 3ms/step - loss: 0.6934 - accuracy: 0.4902 - val_loss: 0.6874 - val_accuracy: 0.7692\n",
      "Epoch 2/30\n",
      "51/51 [==============================] - 0s 200us/step - loss: 0.6916 - accuracy: 0.4706 - val_loss: 0.6746 - val_accuracy: 0.7692\n",
      "Epoch 3/30\n",
      "51/51 [==============================] - 0s 169us/step - loss: 0.6910 - accuracy: 0.4706 - val_loss: 0.6581 - val_accuracy: 0.7692\n",
      "Epoch 4/30\n",
      "51/51 [==============================] - 0s 172us/step - loss: 0.6901 - accuracy: 0.4706 - val_loss: 0.6372 - val_accuracy: 0.7692\n",
      "Epoch 5/30\n",
      "51/51 [==============================] - 0s 213us/step - loss: 0.6915 - accuracy: 0.4706 - val_loss: 0.6246 - val_accuracy: 0.7692\n",
      "Epoch 6/30\n",
      "51/51 [==============================] - 0s 175us/step - loss: 0.6902 - accuracy: 0.4706 - val_loss: 0.6546 - val_accuracy: 0.7692\n",
      "Epoch 7/30\n",
      "51/51 [==============================] - 0s 232us/step - loss: 0.6835 - accuracy: 0.4706 - val_loss: 0.6806 - val_accuracy: 1.0000\n",
      "Epoch 8/30\n",
      "51/51 [==============================] - 0s 192us/step - loss: 0.6862 - accuracy: 0.6471 - val_loss: 0.6971 - val_accuracy: 0.2308\n",
      "Epoch 9/30\n",
      "51/51 [==============================] - 0s 169us/step - loss: 0.6820 - accuracy: 0.7451 - val_loss: 0.6696 - val_accuracy: 0.8462\n",
      "Epoch 10/30\n",
      "51/51 [==============================] - 0s 207us/step - loss: 0.6778 - accuracy: 0.7255 - val_loss: 0.6605 - val_accuracy: 0.8462\n",
      "Epoch 11/30\n",
      "51/51 [==============================] - 0s 185us/step - loss: 0.6750 - accuracy: 0.5490 - val_loss: 0.6304 - val_accuracy: 0.7692\n",
      "Epoch 12/30\n",
      "51/51 [==============================] - 0s 216us/step - loss: 0.6684 - accuracy: 0.4706 - val_loss: 0.6028 - val_accuracy: 0.7692\n",
      "Epoch 13/30\n",
      "51/51 [==============================] - 0s 199us/step - loss: 0.6656 - accuracy: 0.4706 - val_loss: 0.5721 - val_accuracy: 0.7692\n",
      "Epoch 14/30\n",
      "51/51 [==============================] - 0s 194us/step - loss: 0.6582 - accuracy: 0.4706 - val_loss: 0.5452 - val_accuracy: 0.7692\n",
      "Epoch 15/30\n",
      "51/51 [==============================] - 0s 213us/step - loss: 0.6474 - accuracy: 0.4706 - val_loss: 0.5232 - val_accuracy: 0.7692\n",
      "Epoch 16/30\n",
      "51/51 [==============================] - 0s 181us/step - loss: 0.6170 - accuracy: 0.6275 - val_loss: 0.5309 - val_accuracy: 0.9231\n",
      "Epoch 17/30\n",
      "51/51 [==============================] - 0s 208us/step - loss: 0.5835 - accuracy: 0.6863 - val_loss: 0.5184 - val_accuracy: 1.0000\n",
      "Epoch 18/30\n",
      "51/51 [==============================] - 0s 202us/step - loss: 0.5820 - accuracy: 0.7843 - val_loss: 0.5276 - val_accuracy: 0.9231\n",
      "Epoch 19/30\n",
      "51/51 [==============================] - 0s 188us/step - loss: 0.5071 - accuracy: 0.8824 - val_loss: 0.3592 - val_accuracy: 0.8462\n",
      "Epoch 20/30\n",
      "51/51 [==============================] - 0s 231us/step - loss: 0.4702 - accuracy: 0.8431 - val_loss: 0.4049 - val_accuracy: 1.0000\n",
      "Epoch 21/30\n",
      "51/51 [==============================] - 0s 187us/step - loss: 0.3905 - accuracy: 0.9608 - val_loss: 0.3070 - val_accuracy: 1.0000\n",
      "Epoch 22/30\n",
      "51/51 [==============================] - 0s 223us/step - loss: 0.3304 - accuracy: 0.9608 - val_loss: 0.3287 - val_accuracy: 0.9231\n",
      "Epoch 23/30\n",
      "51/51 [==============================] - 0s 178us/step - loss: 0.2665 - accuracy: 0.9608 - val_loss: 0.1829 - val_accuracy: 1.0000\n",
      "Epoch 24/30\n",
      "51/51 [==============================] - 0s 161us/step - loss: 0.2158 - accuracy: 0.9608 - val_loss: 0.5308 - val_accuracy: 0.6923\n",
      "Epoch 25/30\n",
      "51/51 [==============================] - 0s 208us/step - loss: 0.2765 - accuracy: 0.8824 - val_loss: 0.1014 - val_accuracy: 1.0000\n",
      "Epoch 26/30\n",
      "51/51 [==============================] - 0s 170us/step - loss: 0.2524 - accuracy: 0.8824 - val_loss: 0.0920 - val_accuracy: 1.0000\n",
      "Epoch 27/30\n",
      "51/51 [==============================] - 0s 176us/step - loss: 0.4734 - accuracy: 0.8039 - val_loss: 0.0979 - val_accuracy: 1.0000\n",
      "Epoch 28/30\n",
      "51/51 [==============================] - 0s 210us/step - loss: 0.1879 - accuracy: 0.9608 - val_loss: 0.7434 - val_accuracy: 0.6154\n",
      "Epoch 29/30\n",
      "51/51 [==============================] - 0s 185us/step - loss: 0.2973 - accuracy: 0.8824 - val_loss: 0.0895 - val_accuracy: 1.0000\n",
      "Epoch 30/30\n",
      "51/51 [==============================] - 0s 216us/step - loss: 0.2464 - accuracy: 0.9216 - val_loss: 0.1437 - val_accuracy: 1.0000\n",
      "dict_keys(['val_loss', 'val_accuracy', 'loss', 'accuracy'])\n",
      "20/20 [==============================] - 0s 30us/step\n",
      "evaluate loss: 0.1801537275314331\n",
      "evaluate acc: 0.949999988079071\n"
     ]
    }
   ],
   "source": [
    "model = Sequential()\n",
    "# 入力ユニット数は4（特徴量）, 1つ目の全結合層の出力ユニット数は256\n",
    "model.add(Dense(256, input_dim=4, activation=\"relu\", kernel_initializer=\"uniform\"))\n",
    "\n",
    "# 2つ目の全結合層（隠れ層）の出力ユニット数は128。活性化関数はrelu。\n",
    "model.add(Dense(128, activation=\"relu\", kernel_initializer=\"uniform\"))\n",
    "\n",
    "# 3つ目の全結合層（隠れ層）の出力ユニット数は64。活性化関数はrelu。\n",
    "model.add(Dense(64, activation=\"relu\", kernel_initializer=\"uniform\"))\n",
    "\n",
    "# 4つ目の全結合層（出力層）の出力ユニット数は1\n",
    "model.add(Dense(1, activation=\"sigmoid\", kernel_initializer=\"normal\"))\n",
    "\n",
    "\n",
    "# 学習処理設定\n",
    "## 損失関数(誤差関数)：多クラス多ラベル分類, 最適化アルゴリズム：確率的勾配降下法, 評価関数：正解率\n",
    "model.compile(loss='binary_crossentropy',\n",
    "              optimizer='adam',\n",
    "              metrics=['accuracy'])\n",
    "\n",
    "\n",
    "model.summary()\n",
    "\n",
    "# モデルの学習\n",
    "## batch_size:サブセットに含まれるデータの数\n",
    "## verbose:学習進捗度合いを出力 0 = silent, 1 = progress bar, 2 = one line per epoch\n",
    "## epochs:データセットで行う学習の回数\n",
    "history = model.fit(X_train, y_train, validation_split = 0.2, batch_size=10, verbose=1, epochs=30)\n",
    "\n",
    "print(history.history.keys())\n",
    "\n",
    "# モデルの評価\n",
    "score = model.evaluate(X_test, y_test, verbose=True)\n",
    "print(\"evaluate loss: {0[0]}\\nevaluate acc: {0[1]}\".format(score))\n"
   ]
  },
  {
   "cell_type": "markdown",
   "metadata": {},
   "source": [
    "## 【問題4】Iris（多値分類）をKerasで学習\n",
    "TensorFlowによるIrisデータセットに対する3値分類をKerasに書き換えてください。"
   ]
  },
  {
   "cell_type": "code",
   "execution_count": 28,
   "metadata": {},
   "outputs": [],
   "source": [
    "# データセットの読み込み\n",
    "from sklearn.datasets import load_iris\n",
    "iris_data = load_iris()\n",
    "X = iris_data.data\n",
    "y = iris_data.target\n",
    "\n",
    "from sklearn.preprocessing import OneHotEncoder\n",
    "enc = OneHotEncoder(handle_unknown='ignore', sparse=False)\n",
    "y = enc.fit_transform(y[:, np.newaxis])\n",
    "\n",
    "# trainとtestに分割\n",
    "X_train, X_test, y_train, y_test = train_test_split(X, y, test_size=0.2, random_state=0)\n",
    "# さらにtrainとvalに分割\n",
    "X_train, X_val, y_train, y_val = train_test_split(X_train, y_train, test_size=0.2, random_state=0)"
   ]
  },
  {
   "cell_type": "code",
   "execution_count": 29,
   "metadata": {},
   "outputs": [
    {
     "name": "stdout",
     "output_type": "stream",
     "text": [
      "dict_keys(['val_loss', 'val_accuracy', 'loss', 'accuracy'])\n",
      "Train on 76 samples, validate on 20 samples\n",
      "Epoch 1/30\n",
      "76/76 [==============================] - 0s 2ms/step - loss: 1.0960 - accuracy: 0.3289 - val_loss: 1.0902 - val_accuracy: 0.2500\n",
      "Epoch 2/30\n",
      "76/76 [==============================] - 0s 211us/step - loss: 1.0719 - accuracy: 0.4605 - val_loss: 1.0613 - val_accuracy: 0.6500\n",
      "Epoch 3/30\n",
      "76/76 [==============================] - 0s 151us/step - loss: 1.0155 - accuracy: 0.6974 - val_loss: 0.9922 - val_accuracy: 0.6500\n",
      "Epoch 4/30\n",
      "76/76 [==============================] - 0s 146us/step - loss: 0.9012 - accuracy: 0.6974 - val_loss: 0.8544 - val_accuracy: 0.6500\n",
      "Epoch 5/30\n",
      "76/76 [==============================] - 0s 153us/step - loss: 0.7261 - accuracy: 0.6974 - val_loss: 0.6836 - val_accuracy: 0.6500\n",
      "Epoch 6/30\n",
      "76/76 [==============================] - 0s 164us/step - loss: 0.5654 - accuracy: 0.6974 - val_loss: 0.5129 - val_accuracy: 0.6500\n",
      "Epoch 7/30\n",
      "76/76 [==============================] - 0s 153us/step - loss: 0.4750 - accuracy: 0.6974 - val_loss: 0.4026 - val_accuracy: 0.7000\n",
      "Epoch 8/30\n",
      "76/76 [==============================] - 0s 151us/step - loss: 0.4152 - accuracy: 0.8816 - val_loss: 0.3440 - val_accuracy: 0.8500\n",
      "Epoch 9/30\n",
      "76/76 [==============================] - 0s 171us/step - loss: 0.3828 - accuracy: 0.7368 - val_loss: 0.3008 - val_accuracy: 0.8500\n",
      "Epoch 10/30\n",
      "76/76 [==============================] - 0s 149us/step - loss: 0.3259 - accuracy: 0.9342 - val_loss: 0.2598 - val_accuracy: 0.9500\n",
      "Epoch 11/30\n",
      "76/76 [==============================] - 0s 182us/step - loss: 0.2837 - accuracy: 0.9079 - val_loss: 0.2170 - val_accuracy: 1.0000\n",
      "Epoch 12/30\n",
      "76/76 [==============================] - 0s 161us/step - loss: 0.2460 - accuracy: 0.9474 - val_loss: 0.2000 - val_accuracy: 0.9500\n",
      "Epoch 13/30\n",
      "76/76 [==============================] - 0s 184us/step - loss: 0.2220 - accuracy: 0.9474 - val_loss: 0.1524 - val_accuracy: 1.0000\n",
      "Epoch 14/30\n",
      "76/76 [==============================] - 0s 134us/step - loss: 0.1799 - accuracy: 0.9737 - val_loss: 0.1263 - val_accuracy: 1.0000\n",
      "Epoch 15/30\n",
      "76/76 [==============================] - 0s 169us/step - loss: 0.1503 - accuracy: 0.9737 - val_loss: 0.1198 - val_accuracy: 0.9500\n",
      "Epoch 16/30\n",
      "76/76 [==============================] - 0s 140us/step - loss: 0.1345 - accuracy: 0.9737 - val_loss: 0.0896 - val_accuracy: 1.0000\n",
      "Epoch 17/30\n",
      "76/76 [==============================] - 0s 163us/step - loss: 0.1037 - accuracy: 0.9737 - val_loss: 0.2231 - val_accuracy: 0.8500\n",
      "Epoch 18/30\n",
      "76/76 [==============================] - 0s 134us/step - loss: 0.2249 - accuracy: 0.9079 - val_loss: 0.1372 - val_accuracy: 0.9000\n",
      "Epoch 19/30\n",
      "76/76 [==============================] - 0s 161us/step - loss: 0.1416 - accuracy: 0.9342 - val_loss: 0.1415 - val_accuracy: 0.9500\n",
      "Epoch 20/30\n",
      "76/76 [==============================] - 0s 136us/step - loss: 0.1682 - accuracy: 0.9079 - val_loss: 0.0598 - val_accuracy: 1.0000\n",
      "Epoch 21/30\n",
      "76/76 [==============================] - 0s 144us/step - loss: 0.1361 - accuracy: 0.9342 - val_loss: 0.0527 - val_accuracy: 1.0000\n",
      "Epoch 22/30\n",
      "76/76 [==============================] - 0s 144us/step - loss: 0.0901 - accuracy: 0.9737 - val_loss: 0.0488 - val_accuracy: 1.0000\n",
      "Epoch 23/30\n",
      "76/76 [==============================] - 0s 131us/step - loss: 0.1101 - accuracy: 0.9605 - val_loss: 0.0485 - val_accuracy: 1.0000\n",
      "Epoch 24/30\n",
      "76/76 [==============================] - 0s 160us/step - loss: 0.0918 - accuracy: 0.9605 - val_loss: 0.0456 - val_accuracy: 1.0000\n",
      "Epoch 25/30\n",
      "76/76 [==============================] - 0s 135us/step - loss: 0.0753 - accuracy: 0.9605 - val_loss: 0.0410 - val_accuracy: 1.0000\n",
      "Epoch 26/30\n",
      "76/76 [==============================] - 0s 154us/step - loss: 0.0710 - accuracy: 0.9868 - val_loss: 0.0506 - val_accuracy: 1.0000\n",
      "Epoch 27/30\n",
      "76/76 [==============================] - 0s 133us/step - loss: 0.0817 - accuracy: 0.9605 - val_loss: 0.0400 - val_accuracy: 1.0000\n",
      "Epoch 28/30\n",
      "76/76 [==============================] - 0s 131us/step - loss: 0.1123 - accuracy: 0.9737 - val_loss: 0.0734 - val_accuracy: 0.9500\n",
      "Epoch 29/30\n",
      "76/76 [==============================] - 0s 161us/step - loss: 0.0841 - accuracy: 0.9605 - val_loss: 0.0561 - val_accuracy: 1.0000\n",
      "Epoch 30/30\n",
      "76/76 [==============================] - 0s 130us/step - loss: 0.0857 - accuracy: 0.9605 - val_loss: 0.0566 - val_accuracy: 0.9500\n",
      "30/30 [==============================] - 0s 15us/step\n",
      "evaluate loss: 0.07216194272041321\n",
      "evaluate acc: 1.0\n"
     ]
    }
   ],
   "source": [
    "# サマリーグラフのクリア\n",
    "K.clear_session()\n",
    "\n",
    "model = Sequential()\n",
    "# 入力ユニット数は4（特徴量）, 1つ目の全結合層の出力ユニット数は256\n",
    "model.add(Dense(256, input_dim=4, activation=\"relu\", kernel_initializer=\"uniform\"))\n",
    "\n",
    "# 2つ目の全結合層（隠れ層）の出力ユニット数は128。活性化関数はrelu。\n",
    "model.add(Dense(128, activation=\"relu\", kernel_initializer=\"uniform\"))\n",
    "\n",
    "# 3つ目の全結合層（隠れ層）の出力ユニット数は64。活性化関数はrelu。\n",
    "model.add(Dense(64, activation=\"relu\", kernel_initializer=\"uniform\"))\n",
    "\n",
    "# 4つ目の全結合層（出力層）の出力ユニット数は1\n",
    "model.add(Dense(3, activation=\"softmax\", kernel_initializer=\"normal\"))\n",
    "\n",
    "\n",
    "# 学習処理設定\n",
    "## 損失関数(誤差関数)：多クラス多ラベル分類, 最適化アルゴリズム：確率的勾配降下法, 評価関数：正解率\n",
    "model.compile(loss='categorical_crossentropy',\n",
    "              optimizer='adam',\n",
    "              metrics=['accuracy'])\n",
    "\n",
    "print(history.history.keys())\n",
    "\n",
    "\n",
    "# モデルの学習\n",
    "## batch_size:サブセットに含まれるデータの数\n",
    "## verbose:学習進捗度合いを出力 0 = silent, 1 = progress bar, 2 = one line per epoch\n",
    "## epochs:データセットで行う学習の回数\n",
    "history = model.fit(X_train, y_train, validation_split = 0.2, batch_size=10, verbose=1, epochs=30)\n",
    "\n",
    "history.history.keys()\n",
    "\n",
    "# モデルの評価\n",
    "score = model.evaluate(X_test, y_test, verbose=True)\n",
    "print(\"evaluate loss: {0[0]}\\nevaluate acc: {0[1]}\".format(score))"
   ]
  },
  {
   "cell_type": "markdown",
   "metadata": {},
   "source": [
    "## 【問題5】House PricesをKerasで学習\n",
    "TensorFlowによるHouse Pricesデータセットに対する回帰をKerasに書き換えてください。"
   ]
  },
  {
   "cell_type": "code",
   "execution_count": 30,
   "metadata": {},
   "outputs": [
    {
     "data": {
      "text/plain": [
       "(934, 2)"
      ]
     },
     "execution_count": 30,
     "metadata": {},
     "output_type": "execute_result"
    }
   ],
   "source": [
    "df= pd.read_csv('../house-prices-advanced-regression-techniques/train.csv')\n",
    "X = df[['GrLivArea', 'YearBuilt']]\n",
    "y = df.SalePrice[:, np.newaxis]\n",
    "\n",
    "# trainとtestに分割\n",
    "X_train, X_test, y_train, y_test = train_test_split(X, y, test_size=0.2, random_state=0)\n",
    "\n",
    "# 正規化\n",
    "mean = X_train.mean(axis=0)\n",
    "std = X_train.std(axis=0)\n",
    "X_train = (X_train - mean) / std\n",
    "X_test = (X_test - mean) / std\n",
    "\n",
    "\n",
    "\n",
    "# さらにtrainとvalに分割\n",
    "X_train, X_val, y_train, y_val = train_test_split(X_train, y_train, test_size=0.2, random_state=0)\n",
    "\n",
    "X_train.shape"
   ]
  },
  {
   "cell_type": "code",
   "execution_count": 31,
   "metadata": {},
   "outputs": [
    {
     "name": "stdout",
     "output_type": "stream",
     "text": [
      "Model: \"sequential_1\"\n",
      "_________________________________________________________________\n",
      "Layer (type)                 Output Shape              Param #   \n",
      "=================================================================\n",
      "dense_1 (Dense)              (None, 256)               768       \n",
      "_________________________________________________________________\n",
      "dense_2 (Dense)              (None, 128)               32896     \n",
      "_________________________________________________________________\n",
      "dense_3 (Dense)              (None, 64)                8256      \n",
      "_________________________________________________________________\n",
      "dense_4 (Dense)              (None, 1)                 65        \n",
      "=================================================================\n",
      "Total params: 41,985\n",
      "Trainable params: 41,985\n",
      "Non-trainable params: 0\n",
      "_________________________________________________________________\n",
      "Train on 747 samples, validate on 187 samples\n",
      "Epoch 1/30\n",
      "747/747 [==============================] - 0s 285us/step - loss: 39879596544.6854 - mae: 182820.5469 - val_loss: 36716869467.7219 - val_mae: 176018.6875\n",
      "Epoch 2/30\n",
      "747/747 [==============================] - 0s 108us/step - loss: 39205072002.2276 - mae: 181147.8906 - val_loss: 34795774379.1230 - val_mae: 171236.9531\n",
      "Epoch 3/30\n",
      "747/747 [==============================] - 0s 107us/step - loss: 33685977458.1205 - mae: 167486.0938 - val_loss: 24870436261.6471 - val_mae: 144889.8906\n",
      "Epoch 4/30\n",
      "747/747 [==============================] - 0s 96us/step - loss: 18170397959.1968 - mae: 120374.1562 - val_loss: 7513097848.4706 - val_mae: 77846.7266\n",
      "Epoch 5/30\n",
      "747/747 [==============================] - 0s 101us/step - loss: 4971185865.0817 - mae: 54855.7070 - val_loss: 1822625490.1390 - val_mae: 35262.4883\n",
      "Epoch 6/30\n",
      "747/747 [==============================] - 0s 103us/step - loss: 2650869906.6774 - mae: 37717.8867 - val_loss: 1332680409.6684 - val_mae: 29515.0859\n",
      "Epoch 7/30\n",
      "747/747 [==============================] - 0s 99us/step - loss: 2361684855.1754 - mae: 34519.4766 - val_loss: 1195899516.9198 - val_mae: 26962.8105\n",
      "Epoch 8/30\n",
      "747/747 [==============================] - 0s 106us/step - loss: 2295959479.2610 - mae: 32915.7227 - val_loss: 1198049898.4385 - val_mae: 26554.2910\n",
      "Epoch 9/30\n",
      "747/747 [==============================] - 0s 98us/step - loss: 2279288270.2222 - mae: 32556.9688 - val_loss: 1235500838.6738 - val_mae: 26798.1211\n",
      "Epoch 10/30\n",
      "747/747 [==============================] - 0s 94us/step - loss: 2286350283.3949 - mae: 32948.5977 - val_loss: 1192626314.9519 - val_mae: 26364.7539\n",
      "Epoch 11/30\n",
      "747/747 [==============================] - 0s 110us/step - loss: 2273905172.3052 - mae: 32369.2109 - val_loss: 1223078638.2032 - val_mae: 26493.8203\n",
      "Epoch 12/30\n",
      "747/747 [==============================] - 0s 111us/step - loss: 2273556594.3775 - mae: 32483.1211 - val_loss: 1225765207.6150 - val_mae: 26564.2949\n",
      "Epoch 13/30\n",
      "747/747 [==============================] - 0s 101us/step - loss: 2248351005.4726 - mae: 32826.9531 - val_loss: 1175420661.7326 - val_mae: 26091.8242\n",
      "Epoch 14/30\n",
      "747/747 [==============================] - 0s 112us/step - loss: 2248557526.7041 - mae: 32283.7344 - val_loss: 1163971035.0374 - val_mae: 25888.5488\n",
      "Epoch 15/30\n",
      "747/747 [==============================] - 0s 104us/step - loss: 2248780971.6948 - mae: 32196.1738 - val_loss: 1216339300.6203 - val_mae: 26312.9785\n",
      "Epoch 16/30\n",
      "747/747 [==============================] - 0s 104us/step - loss: 2247910233.9598 - mae: 32577.6699 - val_loss: 1158056094.1176 - val_mae: 25828.6543\n",
      "Epoch 17/30\n",
      "747/747 [==============================] - 0s 105us/step - loss: 2235244331.1807 - mae: 31641.7773 - val_loss: 1188419018.9519 - val_mae: 25861.9727\n",
      "Epoch 18/30\n",
      "747/747 [==============================] - 0s 110us/step - loss: 2240248781.1941 - mae: 32168.7812 - val_loss: 1163521771.4652 - val_mae: 25725.3496\n",
      "Epoch 19/30\n",
      "747/747 [==============================] - 0s 101us/step - loss: 2235598261.4618 - mae: 32198.7559 - val_loss: 1149001093.8182 - val_mae: 25628.9473\n",
      "Epoch 20/30\n",
      "747/747 [==============================] - 0s 102us/step - loss: 2231021815.0040 - mae: 32118.8066 - val_loss: 1155049649.2834 - val_mae: 25569.2852\n",
      "Epoch 21/30\n",
      "747/747 [==============================] - 0s 95us/step - loss: 2226597629.4297 - mae: 31917.5215 - val_loss: 1166048341.5615 - val_mae: 25673.2441\n",
      "Epoch 22/30\n",
      "747/747 [==============================] - 0s 103us/step - loss: 2217049002.0669 - mae: 32053.4922 - val_loss: 1141632233.4118 - val_mae: 25420.2383\n",
      "Epoch 23/30\n",
      "747/747 [==============================] - 0s 106us/step - loss: 2220273179.2236 - mae: 31781.7676 - val_loss: 1154345901.5187 - val_mae: 25458.2969\n",
      "Epoch 24/30\n",
      "747/747 [==============================] - 0s 104us/step - loss: 2208335479.9465 - mae: 31633.5371 - val_loss: 1172076337.2834 - val_mae: 25592.5820\n",
      "Epoch 25/30\n",
      "747/747 [==============================] - 0s 94us/step - loss: 2229249100.4230 - mae: 31831.4883 - val_loss: 1187392686.5455 - val_mae: 25762.0098\n",
      "Epoch 26/30\n",
      "747/747 [==============================] - 0s 108us/step - loss: 2210425080.9317 - mae: 31673.0703 - val_loss: 1165637032.3850 - val_mae: 25530.9863\n",
      "Epoch 27/30\n",
      "747/747 [==============================] - 0s 111us/step - loss: 2224102923.4806 - mae: 31807.4062 - val_loss: 1196144849.1123 - val_mae: 25908.6289\n",
      "Epoch 28/30\n",
      "747/747 [==============================] - 0s 101us/step - loss: 2205735818.3668 - mae: 32041.7480 - val_loss: 1144965531.0374 - val_mae: 25459.7461\n",
      "Epoch 29/30\n",
      "747/747 [==============================] - 0s 107us/step - loss: 2207176556.1232 - mae: 31555.9570 - val_loss: 1166603885.8610 - val_mae: 25519.7090\n",
      "Epoch 30/30\n",
      "747/747 [==============================] - 0s 115us/step - loss: 2197273472.1714 - mae: 31761.4590 - val_loss: 1143525214.1176 - val_mae: 25265.7051\n",
      "dict_keys(['val_loss', 'val_mae', 'loss', 'mae'])\n",
      "292/292 [==============================] - 0s 20us/step\n",
      "evaluate loss: 2950635660.2739725\n",
      "evaluate acc: 30914.068359375\n"
     ]
    }
   ],
   "source": [
    "# サマリーグラフのクリア\n",
    "K.clear_session()\n",
    "\n",
    "model = Sequential()\n",
    "# 入力ユニット数は4（特徴量）, 1つ目の全結合層の出力ユニット数は256\n",
    "model.add(Dense(256, input_dim=2, activation=\"relu\", kernel_initializer=\"uniform\"))\n",
    "\n",
    "# 2つ目の全結合層（隠れ層）の出力ユニット数は128。活性化関数はrelu。\n",
    "model.add(Dense(128, activation=\"relu\", kernel_initializer=\"uniform\"))\n",
    "\n",
    "# 3つ目の全結合層（隠れ層）の出力ユニット数は64。活性化関数はrelu。\n",
    "model.add(Dense(64, activation=\"relu\", kernel_initializer=\"uniform\"))\n",
    "\n",
    "# 4つ目の全結合層（出力層）の出力ユニット数は1\n",
    "model.add(Dense(1))\n",
    "\n",
    "\n",
    "# 学習処理設定\n",
    "## 損失関数(誤差関数)：多クラス多ラベル分類, 最適化アルゴリズム：確率的勾配降下法, 評価関数：正解率\n",
    "model.compile(loss='mean_squared_error',\n",
    "              optimizer='adam',\n",
    "              metrics=['mae'])\n",
    "\n",
    "model.summary()\n",
    "\n",
    "# モデルの学習\n",
    "## batch_size:サブセットに含まれるデータの数\n",
    "## verbose:学習進捗度合いを出力 0 = silent, 1 = progress bar, 2 = one line per epoch\n",
    "## epochs:データセットで行う学習の回数\n",
    "history = model.fit(X_train, y_train, validation_split = 0.2, batch_size=10, verbose=1, epochs=30)\n",
    "\n",
    "print(history.history.keys())\n",
    "\n",
    "# モデルの評価\n",
    "score = model.evaluate(X_test, y_test, verbose=True)\n",
    "print(\"evaluate loss: {0[0]}\\nevaluate acc: {0[1]}\".format(score))"
   ]
  },
  {
   "cell_type": "markdown",
   "metadata": {},
   "source": [
    "## 【問題6】MNISTをKerasで学習\n",
    "TensorFlowによるMNISTデータセットによる画像の多値分類をKerasに書き換えてください。"
   ]
  },
  {
   "cell_type": "code",
   "execution_count": 32,
   "metadata": {},
   "outputs": [
    {
     "data": {
      "text/plain": [
       "(48000, 28, 28, 1)"
      ]
     },
     "execution_count": 32,
     "metadata": {},
     "output_type": "execute_result"
    }
   ],
   "source": [
    "(X_train, y_train), (X_test, y_test) = mnist.load_data()\n",
    "\n",
    "X_train = X_train[:,:,:,np.newaxis]\n",
    "X_test = X_test[:,:,:,np.newaxis]\n",
    "\n",
    "X_train = X_train.astype(np.float)\n",
    "X_test = X_test.astype(np.float)\n",
    "X_train /= 255\n",
    "X_test /= 255\n",
    "\n",
    "from sklearn.preprocessing import OneHotEncoder\n",
    "enc = OneHotEncoder(handle_unknown='ignore', sparse=False)\n",
    "y_train = enc.fit_transform(y_train[:, np.newaxis])\n",
    "y_test = enc.transform(y_test[:, np.newaxis])\n",
    "\n",
    "from sklearn.model_selection import train_test_split\n",
    "X_train, X_val, y_train, y_val = train_test_split(X_train, y_train, test_size=0.2)\n",
    "\n",
    "X_train.shape"
   ]
  },
  {
   "cell_type": "code",
   "execution_count": 33,
   "metadata": {},
   "outputs": [
    {
     "name": "stdout",
     "output_type": "stream",
     "text": [
      "Model: \"sequential_1\"\n",
      "_________________________________________________________________\n",
      "Layer (type)                 Output Shape              Param #   \n",
      "=================================================================\n",
      "conv2d_1 (Conv2D)            (None, 26, 26, 128)       1280      \n",
      "_________________________________________________________________\n",
      "max_pooling2d_1 (MaxPooling2 (None, 13, 13, 128)       0         \n",
      "_________________________________________________________________\n",
      "flatten_1 (Flatten)          (None, 21632)             0         \n",
      "_________________________________________________________________\n",
      "dense_1 (Dense)              (None, 10)                216330    \n",
      "=================================================================\n",
      "Total params: 217,610\n",
      "Trainable params: 217,610\n",
      "Non-trainable params: 0\n",
      "_________________________________________________________________\n",
      "Train on 38400 samples, validate on 9600 samples\n",
      "Epoch 1/5\n",
      "38400/38400 [==============================] - 15s 398us/step - loss: 0.1945 - accuracy: 0.9413 - val_loss: 0.0915 - val_accuracy: 0.9724\n",
      "Epoch 2/5\n",
      "38400/38400 [==============================] - 14s 375us/step - loss: 0.0738 - accuracy: 0.9785 - val_loss: 0.0747 - val_accuracy: 0.9768\n",
      "Epoch 3/5\n",
      "38400/38400 [==============================] - 15s 385us/step - loss: 0.0527 - accuracy: 0.9838 - val_loss: 0.0736 - val_accuracy: 0.9790\n",
      "Epoch 4/5\n",
      "38400/38400 [==============================] - 15s 396us/step - loss: 0.0399 - accuracy: 0.9876 - val_loss: 0.0734 - val_accuracy: 0.9781\n",
      "Epoch 5/5\n",
      "38400/38400 [==============================] - 16s 407us/step - loss: 0.0305 - accuracy: 0.9909 - val_loss: 0.0701 - val_accuracy: 0.9810\n",
      "dict_keys(['val_loss', 'val_accuracy', 'loss', 'accuracy'])\n",
      "10000/10000 [==============================] - 1s 88us/step\n",
      "evaluate loss: 0.059351562850689515\n",
      "evaluate acc: 0.9828000068664551\n"
     ]
    }
   ],
   "source": [
    "# サマリーグラフのクリア\n",
    "K.clear_session()\n",
    "\n",
    "model = Sequential()\n",
    "# 入力ユニット数は4（特徴量）, 1つ目の全結合層の出力ユニット数は256\n",
    "model.add(Conv2D(128, input_shape=(28, 28, 1), kernel_size=(3, 3), activation=\"relu\", kernel_initializer=\"uniform\"))\n",
    "\n",
    "# 2つ目の全結合層（隠れ層）の出力ユニット数は128。活性化関数はrelu。\n",
    "model.add(MaxPool2D(pool_size=(2, 2)))\n",
    "\n",
    "# 3つ目の全結合層（隠れ層）の出力ユニット数は64。活性化関数はrelu。\n",
    "model.add(Flatten())\n",
    "\n",
    "# 4つ目の全結合層（出力層）の出力ユニット数は1\n",
    "model.add(Dense(10, activation=\"softmax\", kernel_initializer=\"normal\"))\n",
    "\n",
    "\n",
    "# 学習処理設定\n",
    "## 損失関数(誤差関数)：多クラス多ラベル分類, 最適化アルゴリズム：確率的勾配降下法, 評価関数：正解率\n",
    "model.compile(loss='categorical_crossentropy',\n",
    "              optimizer='adam',\n",
    "              metrics=['accuracy'])\n",
    "\n",
    "\n",
    "model.summary()\n",
    "\n",
    "# モデルの学習\n",
    "## batch_size:サブセットに含まれるデータの数\n",
    "## verbose:学習進捗度合いを出力 0 = silent, 1 = progress bar, 2 = one line per epoch\n",
    "## epochs:データセットで行う学習の回数\n",
    "history = model.fit(X_train, y_train, validation_split = 0.2, batch_size=20, verbose=1, epochs=5)\n",
    "\n",
    "print(history.history.keys())\n",
    "\n",
    "# モデルの評価\n",
    "score = model.evaluate(X_test, y_test, verbose=True)\n",
    "print(\"evaluate loss: {0[0]}\\nevaluate acc: {0[1]}\".format(score))"
   ]
  }
 ],
 "metadata": {
  "kernelspec": {
   "display_name": "Python 3",
   "language": "python",
   "name": "python3"
  },
  "language_info": {
   "codemirror_mode": {
    "name": "ipython",
    "version": 3
   },
   "file_extension": ".py",
   "mimetype": "text/x-python",
   "name": "python",
   "nbconvert_exporter": "python",
   "pygments_lexer": "ipython3",
   "version": "3.7.4"
  },
  "toc": {
   "base_numbering": 1,
   "nav_menu": {},
   "number_sections": true,
   "sideBar": true,
   "skip_h1_title": false,
   "title_cell": "Table of Contents",
   "title_sidebar": "Contents",
   "toc_cell": false,
   "toc_position": {},
   "toc_section_display": true,
   "toc_window_display": true
  }
 },
 "nbformat": 4,
 "nbformat_minor": 2
}
