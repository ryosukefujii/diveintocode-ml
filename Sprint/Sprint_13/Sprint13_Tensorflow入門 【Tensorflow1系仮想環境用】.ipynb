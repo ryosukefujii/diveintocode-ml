{
 "cells": [
  {
   "cell_type": "markdown",
   "metadata": {},
   "source": [
    "データフローグラフでは、ノードは計算の単位を表し、エッジは計算によって消費または生成されるデータを表す。"
   ]
  },
  {
   "cell_type": "code",
   "execution_count": 2,
   "metadata": {
    "ExecuteTime": {
     "end_time": "2020-03-06T01:09:53.823946Z",
     "start_time": "2020-03-06T01:09:19.618635Z"
    },
    "scrolled": true
   },
   "outputs": [
    {
     "name": "stdout",
     "output_type": "stream",
     "text": [
      "Collecting tensorflow==1.14.0\n",
      "\u001b[?25l  Downloading https://files.pythonhosted.org/packages/ed/11/037887c5cbac5af3124050fb6348e67caa038734cc9673b11c31c8939072/tensorflow-1.14.0-cp37-cp37m-macosx_10_11_x86_64.whl (105.8MB)\n",
      "\u001b[K    100% |████████████████████████████████| 105.8MB 273kB/s eta 0:00:01   22% |███████▎                        | 23.9MB 13.9MB/s eta 0:00:06    88% |████████████████████████████▍   | 93.7MB 75.2MB/s eta 0:00:01\n",
      "\u001b[?25hRequirement already satisfied: wrapt>=1.11.1 in /Users/yoshiko/.pyenv/versions/anaconda3-5.3.1/envs/py37/lib/python3.7/site-packages (from tensorflow==1.14.0) (1.11.1)\n",
      "Requirement already satisfied: absl-py>=0.7.0 in /Users/yoshiko/.pyenv/versions/anaconda3-5.3.1/envs/py37/lib/python3.7/site-packages (from tensorflow==1.14.0) (0.7.1)\n",
      "Requirement already satisfied: termcolor>=1.1.0 in /Users/yoshiko/.pyenv/versions/anaconda3-5.3.1/envs/py37/lib/python3.7/site-packages (from tensorflow==1.14.0) (1.1.0)\n",
      "Collecting tensorboard<1.15.0,>=1.14.0 (from tensorflow==1.14.0)\n",
      "  Using cached https://files.pythonhosted.org/packages/91/2d/2ed263449a078cd9c8a9ba50ebd50123adf1f8cfbea1492f9084169b89d9/tensorboard-1.14.0-py3-none-any.whl\n",
      "Collecting tensorflow-estimator<1.15.0rc0,>=1.14.0rc0 (from tensorflow==1.14.0)\n",
      "  Using cached https://files.pythonhosted.org/packages/3c/d5/21860a5b11caf0678fbc8319341b0ae21a07156911132e0e71bffed0510d/tensorflow_estimator-1.14.0-py2.py3-none-any.whl\n",
      "Requirement already satisfied: grpcio>=1.8.6 in /Users/yoshiko/.pyenv/versions/anaconda3-5.3.1/envs/py37/lib/python3.7/site-packages (from tensorflow==1.14.0) (1.20.1)\n",
      "Requirement already satisfied: astor>=0.6.0 in /Users/yoshiko/.pyenv/versions/anaconda3-5.3.1/envs/py37/lib/python3.7/site-packages (from tensorflow==1.14.0) (0.7.1)\n",
      "Collecting google-pasta>=0.1.6 (from tensorflow==1.14.0)\n",
      "  Using cached https://files.pythonhosted.org/packages/c3/fd/1e86bc4837cc9a3a5faf3db9b1854aa04ad35b5f381f9648fbe81a6f94e4/google_pasta-0.1.8-py3-none-any.whl\n",
      "Requirement already satisfied: six>=1.10.0 in /Users/yoshiko/.pyenv/versions/anaconda3-5.3.1/envs/py37/lib/python3.7/site-packages (from tensorflow==1.14.0) (1.12.0)\n",
      "Requirement already satisfied: keras-applications>=1.0.6 in /Users/yoshiko/.pyenv/versions/anaconda3-5.3.1/envs/py37/lib/python3.7/site-packages (from tensorflow==1.14.0) (1.0.7)\n",
      "Requirement already satisfied: gast>=0.2.0 in /Users/yoshiko/.pyenv/versions/anaconda3-5.3.1/envs/py37/lib/python3.7/site-packages (from tensorflow==1.14.0) (0.2.2)\n",
      "Requirement already satisfied: numpy<2.0,>=1.14.5 in /Users/yoshiko/.pyenv/versions/anaconda3-5.3.1/envs/py37/lib/python3.7/site-packages (from tensorflow==1.14.0) (1.16.2)\n",
      "Requirement already satisfied: protobuf>=3.6.1 in /Users/yoshiko/.pyenv/versions/anaconda3-5.3.1/envs/py37/lib/python3.7/site-packages (from tensorflow==1.14.0) (3.7.1)\n",
      "Requirement already satisfied: wheel>=0.26 in /Users/yoshiko/.pyenv/versions/anaconda3-5.3.1/envs/py37/lib/python3.7/site-packages (from tensorflow==1.14.0) (0.33.1)\n",
      "Requirement already satisfied: keras-preprocessing>=1.0.5 in /Users/yoshiko/.pyenv/versions/anaconda3-5.3.1/envs/py37/lib/python3.7/site-packages (from tensorflow==1.14.0) (1.0.9)\n",
      "Requirement already satisfied: markdown>=2.6.8 in /Users/yoshiko/.pyenv/versions/anaconda3-5.3.1/envs/py37/lib/python3.7/site-packages (from tensorboard<1.15.0,>=1.14.0->tensorflow==1.14.0) (3.1)\n",
      "Collecting setuptools>=41.0.0 (from tensorboard<1.15.0,>=1.14.0->tensorflow==1.14.0)\n",
      "\u001b[?25l  Downloading https://files.pythonhosted.org/packages/3d/72/1c1498c1e908e0562b1e1cd30012580baa7d33b5b0ffdbeb5fde2462cc71/setuptools-45.2.0-py3-none-any.whl (584kB)\n",
      "\u001b[K    100% |████████████████████████████████| 593kB 27.1MB/s ta 0:00:01\n",
      "\u001b[?25hRequirement already satisfied: werkzeug>=0.11.15 in /Users/yoshiko/.pyenv/versions/anaconda3-5.3.1/envs/py37/lib/python3.7/site-packages (from tensorboard<1.15.0,>=1.14.0->tensorflow==1.14.0) (0.14.1)\n",
      "Requirement already satisfied: h5py in /Users/yoshiko/.pyenv/versions/anaconda3-5.3.1/envs/py37/lib/python3.7/site-packages (from keras-applications>=1.0.6->tensorflow==1.14.0) (2.9.0)\n",
      "Installing collected packages: setuptools, tensorboard, tensorflow-estimator, google-pasta, tensorflow\n",
      "  Found existing installation: setuptools 40.8.0\n",
      "    Uninstalling setuptools-40.8.0:\n",
      "      Successfully uninstalled setuptools-40.8.0\n",
      "  Found existing installation: tensorboard 1.13.1\n",
      "    Uninstalling tensorboard-1.13.1:\n",
      "      Successfully uninstalled tensorboard-1.13.1\n",
      "  Found existing installation: tensorflow-estimator 1.13.0\n",
      "    Uninstalling tensorflow-estimator-1.13.0:\n",
      "      Successfully uninstalled tensorflow-estimator-1.13.0\n",
      "  Found existing installation: tensorflow 1.13.1\n",
      "    Uninstalling tensorflow-1.13.1:\n",
      "      Successfully uninstalled tensorflow-1.13.1\n",
      "Successfully installed google-pasta-0.1.8 setuptools-45.2.0 tensorboard-1.14.0 tensorflow-1.14.0 tensorflow-estimator-1.14.0\n"
     ]
    }
   ],
   "source": [
    "!pip install tensorflow==1.14.0"
   ]
  },
  {
   "cell_type": "code",
   "execution_count": 3,
   "metadata": {
    "ExecuteTime": {
     "end_time": "2020-03-06T01:10:31.376899Z",
     "start_time": "2020-03-06T01:10:27.150286Z"
    }
   },
   "outputs": [
    {
     "name": "stderr",
     "output_type": "stream",
     "text": [
      "Using TensorFlow backend.\n"
     ]
    },
    {
     "data": {
      "image/png": "[encoded data removed]",
      "text/plain": [
       "<PIL.PngImagePlugin.PngImageFile image mode=RGBA size=198x300 at 0x109967B38>"
      ]
     },
     "metadata": {},
     "output_type": "display_data"
    }
   ],
   "source": [
    "import os\n",
    "import os.path\n",
    "from IPython.display import display\n",
    "from PIL import Image\n",
    "from keras import backend as K \n",
    "\n",
    "img = \"Dataflow.png\"\n",
    "display(Image.open(img))"
   ]
  },
  {
   "cell_type": "markdown",
   "metadata": {},
   "source": [
    "円（定数）と楕円(数学的な操作)をノード(オペレーション)、ノードを結ぶ線のことをエッジ（tensor：多次元データ配列)と呼ぶ。\n",
    "\n",
    "(円（定数）はプログラム上では定数を表しているように見えるが、Tensorflowでは値を出力するオペレーションに当たる)"
   ]
  },
  {
   "cell_type": "code",
   "execution_count": 4,
   "metadata": {
    "ExecuteTime": {
     "end_time": "2020-03-06T01:10:55.849295Z",
     "start_time": "2020-03-06T01:10:55.845670Z"
    }
   },
   "outputs": [
    {
     "name": "stdout",
     "output_type": "stream",
     "text": [
      "1.14.0\n"
     ]
    }
   ],
   "source": [
    "import tensorflow as tf\n",
    "\n",
    "print(tf.VERSION)  # tf.__version__でもよい"
   ]
  },
  {
   "cell_type": "code",
   "execution_count": 5,
   "metadata": {
    "ExecuteTime": {
     "end_time": "2020-03-06T01:10:57.971768Z",
     "start_time": "2020-03-06T01:10:57.934517Z"
    }
   },
   "outputs": [
    {
     "name": "stdout",
     "output_type": "stream",
     "text": [
      "ワン Tensor(\"one:0\", shape=(), dtype=int32)\n",
      "============================\n",
      "1\n"
     ]
    }
   ],
   "source": [
    "one = tf.constant(1, name='one')\n",
    "print('ワン',one) # Tensor(\"one:0\", shape=(), dtype=int32)\n",
    "\n",
    "print('============================')\n",
    "\n",
    "sess = tf.Session()\n",
    "result = sess.run(one)\n",
    "print(result) # 1"
   ]
  },
  {
   "cell_type": "code",
   "execution_count": 6,
   "metadata": {
    "ExecuteTime": {
     "end_time": "2020-03-06T01:11:00.152166Z",
     "start_time": "2020-03-06T01:11:00.125581Z"
    }
   },
   "outputs": [
    {
     "data": {
      "image/png": "[encoded data removed]",
      "text/plain": [
       "<PIL.PngImagePlugin.PngImageFile image mode=RGBA size=594x586 at 0xB2ED276D8>"
      ]
     },
     "metadata": {},
     "output_type": "display_data"
    }
   ],
   "source": [
    "img = \"my_graph.png\"\n",
    "display(Image.open(img))"
   ]
  },
  {
   "cell_type": "code",
   "execution_count": 7,
   "metadata": {
    "ExecuteTime": {
     "end_time": "2020-03-06T01:11:02.607754Z",
     "start_time": "2020-03-06T01:11:02.580634Z"
    },
    "scrolled": true
   },
   "outputs": [
    {
     "name": "stdout",
     "output_type": "stream",
     "text": [
      "Tensor(\"add:0\", shape=(), dtype=int32)\n",
      "Tensor(\"three_1:0\", shape=(), dtype=int32)\n",
      "計算結果： [10, 100]\n"
     ]
    }
   ],
   "source": [
    "tf.reset_default_graph() # To clear the defined variables and operations of the previous cell\n",
    "\n",
    "sess = tf.Session()\n",
    "\n",
    "# create graph\n",
    "five_np = 5\n",
    "four_np = 4\n",
    "one = tf.constant(1, name='one')            # 定数を定義(nameはTensorboard用)\n",
    "two = tf.constant(2, name='two')\n",
    "three = tf.constant(3, name='three')\n",
    "add = four_np + five_np + one\n",
    "print(add)\n",
    "three = tf.constant(10, name='three')\n",
    "print(three)\n",
    "#add = tf.add(one, two, name=\"add\")\n",
    "mul = add*three\n",
    "# 足し算を定義\n",
    "#mul = tf.multiply(add, three, name=\"multiply\") # 掛け算を定義\n",
    "\n",
    "with tf.Session() as sess:\n",
    "    print('計算結果：',sess.run([add, mul]))\n",
    "    writer = tf.summary.FileWriter ( 'my_graph' , sess.graph ) # グラフの可視化用"
   ]
  },
  {
   "cell_type": "code",
   "execution_count": 8,
   "metadata": {
    "ExecuteTime": {
     "end_time": "2020-03-06T01:12:26.338018Z",
     "start_time": "2020-03-06T01:11:04.668191Z"
    },
    "scrolled": true
   },
   "outputs": [
    {
     "name": "stdout",
     "output_type": "stream",
     "text": [
      "W0306 10:11:06.762234 123145349771264 plugin_event_accumulator.py:294] Found more than one graph event per run, or there was a metagraph containing a graph_def, as well as one or more graph events.  Overwriting the graph with the newest event.\n",
      "W0306 10:11:06.768702 123145349771264 plugin_event_accumulator.py:294] Found more than one graph event per run, or there was a metagraph containing a graph_def, as well as one or more graph events.  Overwriting the graph with the newest event.\n",
      "W0306 10:11:06.774024 123145349771264 plugin_event_accumulator.py:294] Found more than one graph event per run, or there was a metagraph containing a graph_def, as well as one or more graph events.  Overwriting the graph with the newest event.\n",
      "W0306 10:11:06.780601 123145349771264 plugin_event_accumulator.py:294] Found more than one graph event per run, or there was a metagraph containing a graph_def, as well as one or more graph events.  Overwriting the graph with the newest event.\n",
      "W0306 10:11:06.787515 123145349771264 plugin_event_accumulator.py:294] Found more than one graph event per run, or there was a metagraph containing a graph_def, as well as one or more graph events.  Overwriting the graph with the newest event.\n",
      "W0306 10:11:06.793830 123145349771264 plugin_event_accumulator.py:294] Found more than one graph event per run, or there was a metagraph containing a graph_def, as well as one or more graph events.  Overwriting the graph with the newest event.\n",
      "W0306 10:11:06.794146 123145349771264 plugin_event_accumulator.py:302] Found more than one metagraph event per run. Overwriting the metagraph with the newest event.\n",
      "W0306 10:11:06.801027 123145349771264 plugin_event_accumulator.py:294] Found more than one graph event per run, or there was a metagraph containing a graph_def, as well as one or more graph events.  Overwriting the graph with the newest event.\n",
      "W0306 10:11:06.801224 123145349771264 plugin_event_accumulator.py:302] Found more than one metagraph event per run. Overwriting the metagraph with the newest event.\n",
      "W0306 10:11:06.807705 123145349771264 plugin_event_accumulator.py:294] Found more than one graph event per run, or there was a metagraph containing a graph_def, as well as one or more graph events.  Overwriting the graph with the newest event.\n",
      "W0306 10:11:06.807910 123145349771264 plugin_event_accumulator.py:302] Found more than one metagraph event per run. Overwriting the metagraph with the newest event.\n",
      "W0306 10:11:06.815428 123145349771264 plugin_event_accumulator.py:294] Found more than one graph event per run, or there was a metagraph containing a graph_def, as well as one or more graph events.  Overwriting the graph with the newest event.\n",
      "W0306 10:11:06.815638 123145349771264 plugin_event_accumulator.py:302] Found more than one metagraph event per run. Overwriting the metagraph with the newest event.\n",
      "W0306 10:11:06.822275 123145349771264 plugin_event_accumulator.py:294] Found more than one graph event per run, or there was a metagraph containing a graph_def, as well as one or more graph events.  Overwriting the graph with the newest event.\n",
      "W0306 10:11:06.822432 123145349771264 plugin_event_accumulator.py:302] Found more than one metagraph event per run. Overwriting the metagraph with the newest event.\n",
      "W0306 10:11:06.829494 123145349771264 plugin_event_accumulator.py:294] Found more than one graph event per run, or there was a metagraph containing a graph_def, as well as one or more graph events.  Overwriting the graph with the newest event.\n",
      "W0306 10:11:06.829726 123145349771264 plugin_event_accumulator.py:302] Found more than one metagraph event per run. Overwriting the metagraph with the newest event.\n",
      "W0306 10:11:06.837655 123145349771264 plugin_event_accumulator.py:294] Found more than one graph event per run, or there was a metagraph containing a graph_def, as well as one or more graph events.  Overwriting the graph with the newest event.\n",
      "W0306 10:11:06.837808 123145349771264 plugin_event_accumulator.py:302] Found more than one metagraph event per run. Overwriting the metagraph with the newest event.\n",
      "W0306 10:11:06.843511 123145349771264 plugin_event_accumulator.py:294] Found more than one graph event per run, or there was a metagraph containing a graph_def, as well as one or more graph events.  Overwriting the graph with the newest event.\n",
      "W0306 10:11:06.843691 123145349771264 plugin_event_accumulator.py:302] Found more than one metagraph event per run. Overwriting the metagraph with the newest event.\n",
      "W0306 10:11:06.851685 123145349771264 plugin_event_accumulator.py:294] Found more than one graph event per run, or there was a metagraph containing a graph_def, as well as one or more graph events.  Overwriting the graph with the newest event.\n",
      "W0306 10:11:06.852145 123145349771264 plugin_event_accumulator.py:302] Found more than one metagraph event per run. Overwriting the metagraph with the newest event.\n",
      "W0306 10:11:06.862821 123145349771264 plugin_event_accumulator.py:294] Found more than one graph event per run, or there was a metagraph containing a graph_def, as well as one or more graph events.  Overwriting the graph with the newest event.\n",
      "W0306 10:11:06.863008 123145349771264 plugin_event_accumulator.py:302] Found more than one metagraph event per run. Overwriting the metagraph with the newest event.\n",
      "W0306 10:11:06.872946 123145349771264 plugin_event_accumulator.py:294] Found more than one graph event per run, or there was a metagraph containing a graph_def, as well as one or more graph events.  Overwriting the graph with the newest event.\n",
      "W0306 10:11:06.873193 123145349771264 plugin_event_accumulator.py:302] Found more than one metagraph event per run. Overwriting the metagraph with the newest event.\n",
      "W0306 10:11:06.880004 123145349771264 plugin_event_accumulator.py:294] Found more than one graph event per run, or there was a metagraph containing a graph_def, as well as one or more graph events.  Overwriting the graph with the newest event.\n",
      "W0306 10:11:06.880179 123145349771264 plugin_event_accumulator.py:302] Found more than one metagraph event per run. Overwriting the metagraph with the newest event.\n",
      "W0306 10:11:06.886884 123145349771264 plugin_event_accumulator.py:294] Found more than one graph event per run, or there was a metagraph containing a graph_def, as well as one or more graph events.  Overwriting the graph with the newest event.\n",
      "W0306 10:11:06.887034 123145349771264 plugin_event_accumulator.py:302] Found more than one metagraph event per run. Overwriting the metagraph with the newest event.\n",
      "W0306 10:11:06.892812 123145349771264 plugin_event_accumulator.py:294] Found more than one graph event per run, or there was a metagraph containing a graph_def, as well as one or more graph events.  Overwriting the graph with the newest event.\n",
      "W0306 10:11:06.892989 123145349771264 plugin_event_accumulator.py:302] Found more than one metagraph event per run. Overwriting the metagraph with the newest event.\n",
      "W0306 10:11:06.899546 123145349771264 plugin_event_accumulator.py:294] Found more than one graph event per run, or there was a metagraph containing a graph_def, as well as one or more graph events.  Overwriting the graph with the newest event.\n",
      "W0306 10:11:06.900316 123145349771264 plugin_event_accumulator.py:302] Found more than one metagraph event per run. Overwriting the metagraph with the newest event.\n",
      "W0306 10:11:06.909090 123145349771264 plugin_event_accumulator.py:294] Found more than one graph event per run, or there was a metagraph containing a graph_def, as well as one or more graph events.  Overwriting the graph with the newest event.\n",
      "W0306 10:11:06.909250 123145349771264 plugin_event_accumulator.py:302] Found more than one metagraph event per run. Overwriting the metagraph with the newest event.\n",
      "W0306 10:11:06.915502 123145349771264 plugin_event_accumulator.py:294] Found more than one graph event per run, or there was a metagraph containing a graph_def, as well as one or more graph events.  Overwriting the graph with the newest event.\n",
      "W0306 10:11:06.915675 123145349771264 plugin_event_accumulator.py:302] Found more than one metagraph event per run. Overwriting the metagraph with the newest event.\n",
      "W0306 10:11:06.921458 123145349771264 plugin_event_accumulator.py:294] Found more than one graph event per run, or there was a metagraph containing a graph_def, as well as one or more graph events.  Overwriting the graph with the newest event.\n",
      "W0306 10:11:06.921639 123145349771264 plugin_event_accumulator.py:302] Found more than one metagraph event per run. Overwriting the metagraph with the newest event.\n",
      "W0306 10:11:06.930326 123145349771264 plugin_event_accumulator.py:294] Found more than one graph event per run, or there was a metagraph containing a graph_def, as well as one or more graph events.  Overwriting the graph with the newest event.\n",
      "W0306 10:11:06.930546 123145349771264 plugin_event_accumulator.py:302] Found more than one metagraph event per run. Overwriting the metagraph with the newest event.\n"
     ]
    },
    {
     "name": "stdout",
     "output_type": "stream",
     "text": [
      "W0306 10:11:06.938401 123145349771264 plugin_event_accumulator.py:294] Found more than one graph event per run, or there was a metagraph containing a graph_def, as well as one or more graph events.  Overwriting the graph with the newest event.\n",
      "TensorBoard 1.14.0 at http://yoshikos-MacBook-Pro.local:8010/ (Press CTRL+C to quit)\n",
      "^C\n"
     ]
    }
   ],
   "source": [
    "!tensorboard --logdir=my_graph --port=8010"
   ]
  },
  {
   "cell_type": "code",
   "execution_count": 9,
   "metadata": {
    "ExecuteTime": {
     "end_time": "2020-03-06T01:12:30.313681Z",
     "start_time": "2020-03-06T01:12:30.295900Z"
    }
   },
   "outputs": [
    {
     "name": "stdout",
     "output_type": "stream",
     "text": [
      "Tensor(\"three:0\", shape=(), dtype=int32)\n",
      "計算結果： [3, 9]\n"
     ]
    }
   ],
   "source": [
    "tf.reset_default_graph() # To clear the defined variables and operations of the previous cell\n",
    "\n",
    "sess = tf.Session()\n",
    "\n",
    "# create graph\n",
    "one = tf.constant(1, name='one')            # 定数を定義(nameはTensorboard用)\n",
    "two = tf.constant(2, name='two')\n",
    "three = tf.constant(3, name='three')\n",
    "add = tf.add(one, two, name=\"add_add\") # 足し算を定義\n",
    "mul = tf.multiply(add, three, name=\"multiply\") # 掛け算を定義\n",
    "print(three)\n",
    "with tf.Session() as sess:\n",
    "    print('計算結果：',sess.run([add, mul]))\n",
    "    writer = tf.summary.FileWriter ( 'our_graph' , sess.graph ) # グラフの可視化用"
   ]
  },
  {
   "cell_type": "code",
   "execution_count": 10,
   "metadata": {
    "ExecuteTime": {
     "end_time": "2020-03-06T01:15:56.778693Z",
     "start_time": "2020-03-06T01:12:44.667897Z"
    }
   },
   "outputs": [
    {
     "name": "stdout",
     "output_type": "stream",
     "text": [
      "W0306 10:12:48.650498 123145476804608 plugin_event_accumulator.py:294] Found more than one graph event per run, or there was a metagraph containing a graph_def, as well as one or more graph events.  Overwriting the graph with the newest event.\n",
      "W0306 10:12:48.651218 123145476804608 plugin_event_accumulator.py:302] Found more than one metagraph event per run. Overwriting the metagraph with the newest event.\n",
      "W0306 10:12:48.659028 123145476804608 plugin_event_accumulator.py:294] Found more than one graph event per run, or there was a metagraph containing a graph_def, as well as one or more graph events.  Overwriting the graph with the newest event.\n",
      "W0306 10:12:48.659217 123145476804608 plugin_event_accumulator.py:302] Found more than one metagraph event per run. Overwriting the metagraph with the newest event.\n",
      "W0306 10:12:48.669034 123145476804608 plugin_event_accumulator.py:294] Found more than one graph event per run, or there was a metagraph containing a graph_def, as well as one or more graph events.  Overwriting the graph with the newest event.\n",
      "W0306 10:12:48.669193 123145476804608 plugin_event_accumulator.py:302] Found more than one metagraph event per run. Overwriting the metagraph with the newest event.\n",
      "W0306 10:12:48.676466 123145476804608 plugin_event_accumulator.py:294] Found more than one graph event per run, or there was a metagraph containing a graph_def, as well as one or more graph events.  Overwriting the graph with the newest event.\n",
      "W0306 10:12:48.677036 123145476804608 plugin_event_accumulator.py:302] Found more than one metagraph event per run. Overwriting the metagraph with the newest event.\n",
      "W0306 10:12:48.685801 123145476804608 plugin_event_accumulator.py:294] Found more than one graph event per run, or there was a metagraph containing a graph_def, as well as one or more graph events.  Overwriting the graph with the newest event.\n",
      "TensorBoard 1.14.0 at http://yoshikos-MacBook-Pro.local:8011/ (Press CTRL+C to quit)\n",
      "^C\n"
     ]
    }
   ],
   "source": [
    "!tensorboard --logdir=our_graph --port=8011"
   ]
  },
  {
   "cell_type": "code",
   "execution_count": 11,
   "metadata": {
    "ExecuteTime": {
     "end_time": "2020-03-06T01:16:06.978863Z",
     "start_time": "2020-03-06T01:16:06.960878Z"
    }
   },
   "outputs": [
    {
     "name": "stdout",
     "output_type": "stream",
     "text": [
      "計算結果 23\n"
     ]
    }
   ],
   "source": [
    "#K.clear_session()\n",
    "tf.reset_default_graph() # To clear the defined variables and operations of the previous cell\n",
    "\n",
    "sess = tf.Session()\n",
    "\n",
    "# create graph\n",
    "four = tf.constant ( 5 , name = \"four\" ) \n",
    "five = tf.constant ( 3 , name = \"five\" ) \n",
    "six = tf.multiply ( four , five , name = \"six\" )\n",
    "add1 = tf.add ( four , five , name = \"add1\" ) \n",
    "add2 = tf.add ( six , add1 , name = \"add2\" ) \n",
    "\n",
    "# creating the writer out of the session\n",
    "# writer = tf.summary.FileWriter('./graphs', tf.get_default_graph())\n",
    "with tf.Session() as sess:\n",
    "    print('計算結果',sess.run(add2))\n",
    "    writer = tf.summary.FileWriter ( 'your_graph' , sess.graph ) # tf.train.SummaryWriterを置換\n"
   ]
  },
  {
   "cell_type": "code",
   "execution_count": null,
   "metadata": {
    "ExecuteTime": {
     "start_time": "2020-03-06T01:16:14.582Z"
    },
    "scrolled": true
   },
   "outputs": [
    {
     "name": "stdout",
     "output_type": "stream",
     "text": [
      "W0306 10:16:18.600787 123145429213184 plugin_event_accumulator.py:294] Found more than one graph event per run, or there was a metagraph containing a graph_def, as well as one or more graph events.  Overwriting the graph with the newest event.\n",
      "W0306 10:16:18.606439 123145429213184 plugin_event_accumulator.py:294] Found more than one graph event per run, or there was a metagraph containing a graph_def, as well as one or more graph events.  Overwriting the graph with the newest event.\n",
      "W0306 10:16:18.611747 123145429213184 plugin_event_accumulator.py:294] Found more than one graph event per run, or there was a metagraph containing a graph_def, as well as one or more graph events.  Overwriting the graph with the newest event.\n",
      "W0306 10:16:18.616900 123145429213184 plugin_event_accumulator.py:294] Found more than one graph event per run, or there was a metagraph containing a graph_def, as well as one or more graph events.  Overwriting the graph with the newest event.\n",
      "W0306 10:16:18.622031 123145429213184 plugin_event_accumulator.py:294] Found more than one graph event per run, or there was a metagraph containing a graph_def, as well as one or more graph events.  Overwriting the graph with the newest event.\n",
      "W0306 10:16:18.627205 123145429213184 plugin_event_accumulator.py:294] Found more than one graph event per run, or there was a metagraph containing a graph_def, as well as one or more graph events.  Overwriting the graph with the newest event.\n",
      "TensorBoard 1.14.0 at http://yoshikos-MacBook-Pro.local:8012/ (Press CTRL+C to quit)\n"
     ]
    }
   ],
   "source": [
    "!tensorboard --logdir=your_graph --port=8012"
   ]
  },
  {
   "cell_type": "code",
   "execution_count": 8,
   "metadata": {
    "ExecuteTime": {
     "end_time": "2019-12-05T01:49:51.742778Z",
     "start_time": "2019-12-05T01:49:51.709981Z"
    }
   },
   "outputs": [
    {
     "name": "stdout",
     "output_type": "stream",
     "text": [
      "Tensor(\"Sqrt:0\", shape=(), dtype=float32)\n",
      "3.0\n"
     ]
    }
   ],
   "source": [
    "tf.reset_default_graph()\n",
    "\n",
    "def f(x):\n",
    "    x = x + 5\n",
    "    x = tf.sqrt(x)\n",
    "    return x\n",
    "\n",
    "X = tf.placeholder(dtype=tf.float32, shape=(None), name='x_input')\n",
    "\n",
    "v2 = tf.Variable(4.0)\n",
    "print(f(v2))\n",
    "init = tf.global_variables_initializer()\n",
    "\n",
    "# Graph Modeで実行される\n",
    "with tf.Session() as sess:\n",
    "    sess.run(init)\n",
    "\n",
    "    print(sess.run(f(v2)))"
   ]
  },
  {
   "cell_type": "code",
   "execution_count": null,
   "metadata": {
    "ExecuteTime": {
     "start_time": "2019-12-05T06:54:45.575Z"
    },
    "scrolled": true
   },
   "outputs": [],
   "source": [
    "import sys\n",
    "\n",
    "print(\"{}{: >25}{}{: >10}{}\".format('|','Variable Name','|','Memory','|'))\n",
    "print(\" ------------------------------------ \")\n",
    "for var_name in dir():\n",
    "    if not var_name.startswith(\"_\"):\n",
    "        print(\"{}{: >25}{}{: >10}{}\".format('|',var_name,'|',sys.getsizeof(eval(var_name)),'|'))"
   ]
  },
  {
   "cell_type": "code",
   "execution_count": null,
   "metadata": {},
   "outputs": [],
   "source": []
  }
 ],
 "metadata": {
  "kernelspec": {
   "display_name": "Python 3",
   "language": "python",
   "name": "python3"
  },
  "language_info": {
   "codemirror_mode": {
    "name": "ipython",
    "version": 3
   },
   "file_extension": ".py",
   "mimetype": "text/x-python",
   "name": "python",
   "nbconvert_exporter": "python",
   "pygments_lexer": "ipython3",
   "version": "3.7.6"
  },
  "latex_envs": {
   "LaTeX_envs_menu_present": true,
   "autoclose": false,
   "autocomplete": true,
   "bibliofile": "biblio.bib",
   "cite_by": "apalike",
   "current_citInitial": 1,
   "eqLabelWithNumbers": true,
   "eqNumInitial": 1,
   "hotkeys": {
    "equation": "Ctrl-E",
    "itemize": "Ctrl-I"
   },
   "labels_anchors": false,
   "latex_user_defs": false,
   "report_style_numbering": false,
   "user_envs_cfg": false
  },
  "toc": {
   "base_numbering": 1,
   "nav_menu": {},
   "number_sections": true,
   "sideBar": true,
   "skip_h1_title": false,
   "title_cell": "Table of Contents",
   "title_sidebar": "Contents",
   "toc_cell": false,
   "toc_position": {},
   "toc_section_display": true,
   "toc_window_display": false
  }
 },
 "nbformat": 4,
 "nbformat_minor": 2
}
