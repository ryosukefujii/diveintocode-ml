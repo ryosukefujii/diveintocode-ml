{
 "cells": [
  {
   "cell_type": "markdown",
   "metadata": {},
   "source": [
    "### importライブラリ"
   ]
  },
  {
   "cell_type": "code",
   "execution_count": 1,
   "metadata": {
    "colab": {},
    "colab_type": "code",
    "id": "mfGJA79yue7j"
   },
   "outputs": [],
   "source": [
    "import numpy as np\n",
    "import matplotlib.pyplot as plt\n",
    "%matplotlib inline"
   ]
  },
  {
   "cell_type": "markdown",
   "metadata": {},
   "source": [
    "# 二次元配列と勾配問題\n",
    "\n",
    "機械学習においては関数の最小値を見つけることが重要になってきます。そのために使われるのが勾配降下法です。\n",
    "\n",
    "\n",
    "この課題では勾配降下法を理解する準備として、NumPyを用いて関数の勾配を考えていきます。"
   ]
  },
  {
   "cell_type": "markdown",
   "metadata": {
    "colab_type": "text",
    "id": "ytgUHs-8ue7n"
   },
   "source": [
    "## 【問題1】1次配列\n",
    "$ x $が-50から50の範囲で次の式を考えます。  \n",
    "$$\n",
    "y = \\frac{1}{2}x + 1\n",
    "$$ \n",
    "\n",
    "-50から50まで0.1間隔の$x$を表すndarrayと、各要素に対する$y$を表すndarrayを作成してください。"
   ]
  },
  {
   "cell_type": "markdown",
   "metadata": {},
   "source": [
    "### 【問題1】解答"
   ]
  },
  {
   "cell_type": "code",
   "execution_count": 35,
   "metadata": {
    "colab": {},
    "colab_type": "code",
    "id": "3jEGTiOUue7o"
   },
   "outputs": [
    {
     "data": {
      "text/plain": [
       "array([-50. , -49.9, -49.8, ...,  49.8,  49.9,  50. ])"
      ]
     },
     "execution_count": 35,
     "metadata": {},
     "output_type": "execute_result"
    }
   ],
   "source": [
    "x = np.arange(-50, 50.1, 0.1)\n",
    "y = 0.5*x + 1\n",
    "x"
   ]
  },
  {
   "cell_type": "markdown",
   "metadata": {
    "colab_type": "text",
    "id": "1-qT0fX-ue7q"
   },
   "source": [
    "## 【問題2】配列の結合\n",
    "問題1で作成したndarrayを結合し、(1001, 2)の形の配列にしてください。0列目にx、1列目にyが来るようにします。"
   ]
  },
  {
   "cell_type": "markdown",
   "metadata": {},
   "source": [
    "### 【問題2】解答"
   ]
  },
  {
   "cell_type": "code",
   "execution_count": 29,
   "metadata": {
    "colab": {},
    "colab_type": "code",
    "id": "Ngov5A12ue7r",
    "outputId": "cec95239-95d0-4568-cdfc-e9b1d5218121"
   },
   "outputs": [],
   "source": [
    "array = np.hstack((x[:,np.newaxis], y[:,np.newaxis]))"
   ]
  },
  {
   "cell_type": "markdown",
   "metadata": {
    "colab_type": "text",
    "id": "gesgC2lPue7t"
   },
   "source": [
    "## 【問題3】勾配を求める\n",
    "各x座標における勾配を求めます。ここで勾配はyの変化量をxの変化量で割ることで計算します。\n",
    "\n",
    "![](https://t.gyazo.com/teams/diveintocode/7fd04c4808b8a0150a49c908e21f3cd2.png)\n",
    "\n",
    "\n",
    "各変化量は以下の図のように隣同士の要素の差から近似的に求めます。\n",
    "\n",
    "\n",
    "![](https://t.gyazo.com/teams/diveintocode/398d8c5b4b1bd4151dea6488059226a1.png)\n",
    "\n",
    "\n",
    "**《注意》**\n",
    "\n",
    "\n",
    "* 厳密に各点における勾配を求めるには極限（微分）を利用する必要があります\n",
    "* 勾配はx座標の間隔を使うので、xの要素数に対して一つ少なくなります"
   ]
  },
  {
   "cell_type": "markdown",
   "metadata": {},
   "source": [
    "### 【問題3】解答"
   ]
  },
  {
   "cell_type": "code",
   "execution_count": 4,
   "metadata": {
    "colab": {},
    "colab_type": "code",
    "id": "fGdInjRGue7u"
   },
   "outputs": [],
   "source": [
    "d_x = x[1:] - x[:-1]\n",
    "d_y = y[1:] - y[:-1]"
   ]
  },
  {
   "cell_type": "code",
   "execution_count": 33,
   "metadata": {
    "colab": {},
    "colab_type": "code",
    "id": "iNBcBiX4ue7v",
    "outputId": "200c8dd4-9908-4c43-9f4f-c39b74eca0b5",
    "scrolled": true
   },
   "outputs": [
    {
     "data": {
      "text/plain": [
       "(1000,)"
      ]
     },
     "execution_count": 33,
     "metadata": {},
     "output_type": "execute_result"
    }
   ],
   "source": [
    "grad = d_y / d_x\n",
    "grad.shape"
   ]
  },
  {
   "cell_type": "markdown",
   "metadata": {
    "colab_type": "text",
    "id": "otGBVXT8ue7x"
   },
   "source": [
    "## 【問題4】グラフを描く\n",
    "1次関数のグラフをMatplotlibを用いて描いてください。また、それとは別に横軸をx、縦軸を勾配としたグラフも描いてください。"
   ]
  },
  {
   "cell_type": "markdown",
   "metadata": {},
   "source": [
    "### 【問題4】解答"
   ]
  },
  {
   "cell_type": "code",
   "execution_count": 6,
   "metadata": {
    "colab": {},
    "colab_type": "code",
    "id": "UIN8uYN8ue7y",
    "outputId": "58233530-e0ef-4ff5-ec7d-fc4446aa80b6"
   },
   "outputs": [
    {
     "data": {
      "image/png": "[encoded data removed]",
      "text/plain": [
       "<Figure size 432x288 with 1 Axes>"
      ]
     },
     "metadata": {
      "needs_background": "light"
     },
     "output_type": "display_data"
    }
   ],
   "source": [
    "plt.plot(x, y, label='y')\n",
    "plt.plot(x[:-1], grad, label='grad')\n",
    "plt.legend();"
   ]
  },
  {
   "cell_type": "markdown",
   "metadata": {
    "colab_type": "text",
    "id": "n9iEDy8Xue7z"
   },
   "source": [
    "## 【問題5】pythonの関数化\n",
    "問題1から問題3までの範囲をまとめて行うPythonの関数を雛形を参考に作成してください。  \n",
    "そして、以下の3式の勾配を0.1間隔で求めてndarrayで出力してください。\n",
    "$$\n",
    "y = x^{2} \\quad (-50\\leq x \\leq 50)\\\\\n",
    "y = 2x^{2}+2^{x} \\quad (-50\\leq x \\leq 50)\\\\\n",
    "y = sin(x^{\\frac{1}{2}}) \\quad (0\\leq x \\leq 50)\n",
    "$$\n",
    "また、問題4と同様にグラフを描いてください。  \n",
    "ndarrayに対して三角関数のsinの計算を行うには `np.sin()`を用います。"
   ]
  },
  {
   "cell_type": "markdown",
   "metadata": {},
   "source": [
    "### 【問題5】解答"
   ]
  },
  {
   "cell_type": "code",
   "execution_count": 7,
   "metadata": {
    "colab": {},
    "colab_type": "code",
    "id": "W9TVLOweue70"
   },
   "outputs": [],
   "source": [
    "def compute_gradient(function, x_range=(-50, 50.1, 0.1)):\n",
    "    x = np.arange(*x_range)\n",
    "    y = function(x)\n",
    "    array_xy = np.hstack((x[:,np.newaxis], y[:,np.newaxis]))\n",
    "    gradient = (y[1:] - y[:-1]) / (x[1:] - x[:-1])\n",
    "    return array_xy, gradient"
   ]
  },
  {
   "cell_type": "code",
   "execution_count": 8,
   "metadata": {
    "colab": {},
    "colab_type": "code",
    "id": "4ZG0GHayue71"
   },
   "outputs": [],
   "source": [
    "def function1(array_x):\n",
    "    array_y = array_x**2\n",
    "    return array_y\n",
    "\n",
    "def function2(array_x):\n",
    "    array_y = 2 * array_x**2 + 2**array_x\n",
    "    return array_y\n",
    "\n",
    "def function3(array_x):\n",
    "    array_y = np.sin(array_x**0.5)\n",
    "    return array_y"
   ]
  },
  {
   "cell_type": "code",
   "execution_count": 34,
   "metadata": {
    "colab": {},
    "colab_type": "code",
    "id": "Za-Sj9I9ue73"
   },
   "outputs": [],
   "source": [
    "array_xy_1, grad_1 = compute_gradient(function1, x_range=(-50, 50.1, 0.1))\n",
    "array_xy_2, grad_2 = compute_gradient(function2, x_range=(-50, 50.1, 0.1))\n",
    "array_xy_3, grad_3 = compute_gradient(function3, x_range=(0, 50.1, 0.1))"
   ]
  },
  {
   "cell_type": "code",
   "execution_count": 10,
   "metadata": {
    "colab": {},
    "colab_type": "code",
    "id": "rVOqkZOlue75",
    "outputId": "56b95820-bd38-45f6-e0e5-9cba9a3cc227"
   },
   "outputs": [
    {
     "data": {
      "image/png": "[encoded data removed]",
      "text/plain": [
       "<Figure size 432x288 with 1 Axes>"
      ]
     },
     "metadata": {
      "needs_background": "light"
     },
     "output_type": "display_data"
    }
   ],
   "source": [
    "plt.plot(array_xy_1[:-1,0], array_xy_1[:-1,1], label='y')\n",
    "plt.plot(array_xy_1[:-1,0], grad_1, label='grad')\n",
    "plt.legend();"
   ]
  },
  {
   "cell_type": "code",
   "execution_count": 11,
   "metadata": {
    "colab": {},
    "colab_type": "code",
    "id": "r2Iw8mW1ue77",
    "outputId": "b1025bdb-9fee-436a-bbc2-9a79d6d39d69"
   },
   "outputs": [
    {
     "data": {
      "image/png": "[encoded data removed]",
      "text/plain": [
       "<Figure size 432x288 with 1 Axes>"
      ]
     },
     "metadata": {
      "needs_background": "light"
     },
     "output_type": "display_data"
    }
   ],
   "source": [
    "plt.plot(array_xy_2[:-1,0], array_xy_2[:-1,1], label='y')\n",
    "plt.plot(array_xy_2[:-1,0], grad_2, label='grad')\n",
    "plt.legend();"
   ]
  },
  {
   "cell_type": "code",
   "execution_count": 12,
   "metadata": {
    "colab": {},
    "colab_type": "code",
    "id": "0ItzA3VXue79",
    "outputId": "d5f9a558-e087-4ecc-9905-155e4a3b650a"
   },
   "outputs": [
    {
     "data": {
      "image/png": "[encoded data removed]",
      "text/plain": [
       "<Figure size 432x288 with 1 Axes>"
      ]
     },
     "metadata": {
      "needs_background": "light"
     },
     "output_type": "display_data"
    }
   ],
   "source": [
    "plt.plot(array_xy_3[:-1,0], array_xy_3[:-1,1], label='y')\n",
    "plt.plot(array_xy_3[:-1,0], grad_3, label='grad')\n",
    "plt.legend();"
   ]
  },
  {
   "cell_type": "markdown",
   "metadata": {
    "colab_type": "text",
    "id": "oTc9Q8oQue7_"
   },
   "source": [
    "## 【問題6】最小値を求める\n",
    "問題5で扱った関数のyの最小値を求めます。xの範囲も問題5と同様とします。  \n",
    "\n",
    "今回は勾配降下法ではなく、ndarrayのminメソッド、argminメソッドを用いてください。  \n",
    "minメソッドは最小値を、argminメソッドは最小値のインデックスを取得することができます。  \n",
    "\n",
    "また、最小のyをとる前後の勾配を表示してください。"
   ]
  },
  {
   "cell_type": "markdown",
   "metadata": {},
   "source": [
    "### 【問題6】解答"
   ]
  },
  {
   "cell_type": "code",
   "execution_count": 13,
   "metadata": {
    "colab": {},
    "colab_type": "code",
    "id": "oZQNty3tue8A",
    "outputId": "0ffd191c-876e-4779-9246-82361ecb931e"
   },
   "outputs": [
    {
     "data": {
      "text/plain": [
       "(5.048709793414476e-25, 500)"
      ]
     },
     "execution_count": 13,
     "metadata": {},
     "output_type": "execute_result"
    }
   ],
   "source": [
    "minimum_1 = np.min(array_xy_1[:,1])\n",
    "argminimum_1 = np.argmin(array_xy_1[:,1])\n",
    "minimum_1, argminimum_1"
   ]
  },
  {
   "cell_type": "code",
   "execution_count": 14,
   "metadata": {
    "colab": {},
    "colab_type": "code",
    "id": "3tfX-D3aue8B",
    "outputId": "fb8aff46-a074-4f2e-db7c-611bec1509a8"
   },
   "outputs": [
    {
     "name": "stdout",
     "output_type": "stream",
     "text": [
      "[-0.1  0.1  0.3]\n"
     ]
    }
   ],
   "source": [
    "print(grad_1[499:502])"
   ]
  },
  {
   "cell_type": "code",
   "execution_count": 15,
   "metadata": {
    "colab": {},
    "colab_type": "code",
    "id": "DoSEBOyDue8D",
    "outputId": "391b5aef-bc7a-462a-9224-72cbfafed48f"
   },
   "outputs": [
    {
     "data": {
      "text/plain": [
       "(0.9505505632959851, 498)"
      ]
     },
     "execution_count": 15,
     "metadata": {},
     "output_type": "execute_result"
    }
   ],
   "source": [
    "minimum_2 = np.min(array_xy_2[:,1])\n",
    "argminimum_2 = np.argmin(array_xy_2[:,1])\n",
    "minimum_2, argminimum_2"
   ]
  },
  {
   "cell_type": "code",
   "execution_count": 16,
   "metadata": {
    "colab": {},
    "colab_type": "code",
    "id": "yU3LHSanue8E",
    "outputId": "0945621f-854f-4f8c-f9cd-75be67538288"
   },
   "outputs": [
    {
     "name": "stdout",
     "output_type": "stream",
     "text": [
      "[-0.41701833  0.02482428  0.46967008]\n"
     ]
    }
   ],
   "source": [
    "print(grad_2[497:500])"
   ]
  },
  {
   "cell_type": "code",
   "execution_count": 17,
   "metadata": {
    "colab": {
     "base_uri": "https://localhost:8080/",
     "height": 198
    },
    "colab_type": "code",
    "executionInfo": {
     "elapsed": 783,
     "status": "error",
     "timestamp": 1579068368914,
     "user": {
      "displayName": "RYOSUKE FUJII",
      "photoUrl": "https://lh3.googleusercontent.com/a-/AAuE7mArIT_2J8uHkPQxTtu_LCg2p7DRjYhxyWoY3xzWbA=s64",
      "userId": "06292435546189993794"
     },
     "user_tz": -540
    },
    "id": "G2tdY4tWue8G",
    "outputId": "31e6f35a-3525-4647-d8e6-0cc36925ed36"
   },
   "outputs": [
    {
     "data": {
      "text/plain": [
       "(-0.9999997540298113, 222)"
      ]
     },
     "execution_count": 17,
     "metadata": {},
     "output_type": "execute_result"
    }
   ],
   "source": [
    "minimum_3 = np.min(array_xy_3[:,1])\n",
    "argminimum_3 = np.argmin(array_xy_3[:,1])\n",
    "minimum_3, argminimum_3"
   ]
  },
  {
   "cell_type": "code",
   "execution_count": 18,
   "metadata": {
    "colab": {
     "base_uri": "https://localhost:8080/",
     "height": 164
    },
    "colab_type": "code",
    "executionInfo": {
     "elapsed": 836,
     "status": "error",
     "timestamp": 1579068363179,
     "user": {
      "displayName": "RYOSUKE FUJII",
      "photoUrl": "https://lh3.googleusercontent.com/a-/AAuE7mArIT_2J8uHkPQxTtu_LCg2p7DRjYhxyWoY3xzWbA=s64",
      "userId": "06292435546189993794"
     },
     "user_tz": -540
    },
    "id": "5l6NSBnlue8J",
    "outputId": "eb630e8b-d791-45b5-9183-6a618d59dd66"
   },
   "outputs": [
    {
     "name": "stdout",
     "output_type": "stream",
     "text": [
      "[-0.00063884  0.00048745  0.00160612]\n"
     ]
    }
   ],
   "source": [
    "print(grad_3[221:224])"
   ]
  }
 ],
 "metadata": {
  "colab": {
   "name": "Week2授業課題1 二次元配列と勾配問題.ipynb",
   "provenance": []
  },
  "kernelspec": {
   "display_name": "Python 3",
   "language": "python",
   "name": "python3"
  },
  "language_info": {
   "codemirror_mode": {
    "name": "ipython",
    "version": 3
   },
   "file_extension": ".py",
   "mimetype": "text/x-python",
   "name": "python",
   "nbconvert_exporter": "python",
   "pygments_lexer": "ipython3",
   "version": "3.7.4"
  },
  "toc": {
   "base_numbering": 1,
   "nav_menu": {},
   "number_sections": true,
   "sideBar": true,
   "skip_h1_title": false,
   "title_cell": "Table of Contents",
   "title_sidebar": "Contents",
   "toc_cell": false,
   "toc_position": {},
   "toc_section_display": true,
   "toc_window_display": true
  }
 },
 "nbformat": 4,
 "nbformat_minor": 1
}
