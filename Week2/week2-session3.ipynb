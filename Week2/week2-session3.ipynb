{
 "cells": [
  {
   "cell_type": "markdown",
   "metadata": {
    "colab_type": "text",
    "id": "L0IDT7VwDhjr"
   },
   "source": [
    "# 行列積\n",
    "以下のような行列A、Bを考えます。\n",
    "<br />\n",
    "<br />\n",
    "$$\n",
    "% <![CDATA[\n",
    "A = \\left[\n",
    "\\begin{array}{ccc}\n",
    "  -1 & 2 & 3 \\\\\n",
    "  4 & -5 & 6 \\\\\u0018\u0018\n",
    "  7 & 8 & -9\n",
    "\\end{array}\n",
    "\\right],\n",
    "B = \\left[\n",
    "\\begin{array}{ccc}\n",
    "  0 & 2 & 1 \\\\\n",
    "  0 & 2 & -8 \\\\\n",
    "  2 & 9 & -1\n",
    "\\end{array}\n",
    "\\right] %]]>\n",
    "$$\n",
    "<br />\n",
    "NumPyで表すと次のようになります"
   ]
  },
  {
   "cell_type": "code",
   "execution_count": 1,
   "metadata": {
    "colab": {
     "base_uri": "https://localhost:8080/",
     "height": 119
    },
    "colab_type": "code",
    "executionInfo": {
     "elapsed": 773,
     "status": "ok",
     "timestamp": 1580721887191,
     "user": {
      "displayName": "RYOSUKE FUJII",
      "photoUrl": "https://lh3.googleusercontent.com/a-/AAuE7mArIT_2J8uHkPQxTtu_LCg2p7DRjYhxyWoY3xzWbA=s64",
      "userId": "06292435546189993794"
     },
     "user_tz": -540
    },
    "id": "ckfqrt1QELFJ",
    "outputId": "7418c601-3e43-4041-b923-7fe7b778fe16"
   },
   "outputs": [
    {
     "name": "stdout",
     "output_type": "stream",
     "text": [
      "[[-1  2  3]\n",
      " [ 4 -5  6]\n",
      " [ 7  8 -9]]\n",
      "[[ 0  2  1]\n",
      " [ 0  2 -8]\n",
      " [ 2  9 -1]]\n"
     ]
    }
   ],
   "source": [
    "import numpy as np\n",
    "a_ndarray = np.array([[-1, 2, 3], [4, -5, 6], [7, 8, -9]])\n",
    "b_ndarray = np.array([[0, 2, 1], [0, 2, -8], [2, 9, -1]])\n",
    "\n",
    "print(a_ndarray)\n",
    "print(b_ndarray)"
   ]
  },
  {
   "cell_type": "markdown",
   "metadata": {
    "colab_type": "text",
    "id": "cvPerV0VEMzh"
   },
   "source": [
    "## 【問題1】行列積を手計算する\n",
    "AとBの行列積を手計算で解いてください。\n",
    "\n",
    "計算過程もマークダウンテキストを用いて説明してください。"
   ]
  },
  {
   "cell_type": "markdown",
   "metadata": {
    "colab_type": "text",
    "id": "4QQ8oF1oEvIo"
   },
   "source": [
    "### 【問題1】解答"
   ]
  },
  {
   "cell_type": "markdown",
   "metadata": {
    "colab_type": "text",
    "id": "D7wyufyOQjzo"
   },
   "source": [
    "(-1 × 0 + 2 × 0 + 3 × 2) + (-1 × 2 + 2 × 2 + 3 × 9) + (-1 × 1 + 2 × -8 + 3 × -1)\n",
    "\n",
    "(4 × 0 + -5 × 0 + 6 × 2) + (4 × 2 + -5 × 2 + 6 × 9) + (4 × 1 + -5 × -8 + 6 × -1)\n",
    "\n",
    "(7 × 0 + 8 × 0 + -9 × 2) + (7 × 2 + 8 × 2 + -9 × 9) + (7 × 1 + -8 × -8 + -9 × -1)\n",
    "\n",
    "\n",
    "\n",
    "  6  29 -20\n",
    "\n",
    " 12  52  38\n",
    "\n",
    "-18 -51 -48"
   ]
  },
  {
   "cell_type": "code",
   "execution_count": 2,
   "metadata": {
    "colab": {
     "base_uri": "https://localhost:8080/",
     "height": 68
    },
    "colab_type": "code",
    "executionInfo": {
     "elapsed": 748,
     "status": "ok",
     "timestamp": 1580721887192,
     "user": {
      "displayName": "RYOSUKE FUJII",
      "photoUrl": "https://lh3.googleusercontent.com/a-/AAuE7mArIT_2J8uHkPQxTtu_LCg2p7DRjYhxyWoY3xzWbA=s64",
      "userId": "06292435546189993794"
     },
     "user_tz": -540
    },
    "id": "jPXrpRgn0Dad",
    "outputId": "b8f5475a-0d96-4473-e9b0-7170001d7dae"
   },
   "outputs": [
    {
     "data": {
      "text/plain": [
       "array([[  6,  29, -20],\n",
       "       [ 12,  52,  38],\n",
       "       [-18, -51, -48]])"
      ]
     },
     "execution_count": 2,
     "metadata": {},
     "output_type": "execute_result"
    }
   ],
   "source": [
    "a_ndarray@b_ndarray"
   ]
  },
  {
   "cell_type": "markdown",
   "metadata": {
    "colab_type": "text",
    "id": "DswCju_daHOf"
   },
   "source": [
    "## 【問題2】NumPyの関数による計算\n",
    "この行列積はNumPyの**np.matmul()**や**np.dot()**、または**@**演算子\n",
    "を使うことで簡単に計算できます。\n",
    "\n",
    "これらを使い行列積を計算してください。\n",
    "\n",
    "[numpy.matmul — NumPy v1.16 Manual\n",
    "](https://docs.scipy.org/doc/numpy/reference/generated/numpy.matmul.html#numpy.matmul)\n",
    "\n",
    "[numpy.dot — NumPy v1.16 Manual\n",
    "](https://docs.scipy.org/doc/numpy/reference/generated/numpy.dot.html)"
   ]
  },
  {
   "cell_type": "markdown",
   "metadata": {
    "colab_type": "text",
    "id": "zIXftPGN3LlF"
   },
   "source": [
    "### 【問題2】解答"
   ]
  },
  {
   "cell_type": "code",
   "execution_count": 3,
   "metadata": {
    "colab": {
     "base_uri": "https://localhost:8080/",
     "height": 170
    },
    "colab_type": "code",
    "executionInfo": {
     "elapsed": 737,
     "status": "ok",
     "timestamp": 1580721887193,
     "user": {
      "displayName": "RYOSUKE FUJII",
      "photoUrl": "https://lh3.googleusercontent.com/a-/AAuE7mArIT_2J8uHkPQxTtu_LCg2p7DRjYhxyWoY3xzWbA=s64",
      "userId": "06292435546189993794"
     },
     "user_tz": -540
    },
    "id": "u26PjkpkQjzp",
    "outputId": "dd18cea3-5fc2-4a1e-f72f-ff852ab481e1"
   },
   "outputs": [
    {
     "name": "stdout",
     "output_type": "stream",
     "text": [
      "[[  6  29 -20]\n",
      " [ 12  52  38]\n",
      " [-18 -51 -48]]\n",
      "[[  6  29 -20]\n",
      " [ 12  52  38]\n",
      " [-18 -51 -48]]\n",
      "[[  6  29 -20]\n",
      " [ 12  52  38]\n",
      " [-18 -51 -48]]\n"
     ]
    }
   ],
   "source": [
    "import numpy as np\n",
    "a_ndarray = np.array([[-1, 2, 3], [4, -5, 6], [7, 8, -9]])\n",
    "b_ndarray = np.array([[0, 2, 1], [0, 2, -8], [2, 9, -1]])\n",
    "\n",
    "# np.matmul\n",
    "by_np_matmul = np.matmul(a_ndarray, b_ndarray)\n",
    "print(by_np_matmul)\n",
    "\n",
    "# np.dot()\n",
    "by_np_dot = np.dot(a_ndarray, b_ndarray)\n",
    "print(by_np_dot)\n",
    "\n",
    "# @演算子\n",
    "by_at = a_ndarray@b_ndarray\n",
    "print(by_at)"
   ]
  },
  {
   "cell_type": "markdown",
   "metadata": {
    "colab_type": "text",
    "id": "R2yjH1FJ3HNG"
   },
   "source": [
    "### 《3種類の違い》\n",
    "\n",
    "**np.matmul()**と**np.dot()**は3次元以上の配列で挙動が変わります。**@**演算子は**np.matmul()**と同じ働きをします。\n",
    "\n",
    "今回のような2次元配列の行列積では**np.matmul()**や**@**演算子が公式に推奨されています。以下は**np.dot()**の説明からの引用です。\n",
    "\n",
    ">If both a and b are 2-D arrays, it is matrix multiplication, but using matmul or a @ b is preferred."
   ]
  },
  {
   "cell_type": "markdown",
   "metadata": {
    "colab_type": "text",
    "id": "VWhpX1phU7qV"
   },
   "source": [
    "# 行列積のスクラッチ実装\n",
    "\n",
    "`np.matmul()`や`np.dot()`、または`@`演算子を使わずに、手計算で行った計算過程をNumPyによるスクラッチ実装で再現していきましょう。これにより、行列積の計算に対する理解を深めます。ここで考えるのは行列AとBのような次元が2の配列に限定します。\n",
    "\n"
   ]
  },
  {
   "cell_type": "markdown",
   "metadata": {
    "colab_type": "text",
    "id": "bld_g0NVaoXD"
   },
   "source": [
    "## 【問題3】ある要素の計算を実装\n",
    "\n",
    "手計算をする際はまず行列Aの0行目と行列Bの0列目に注目し、以下の計算を行ったかと思います。\n",
    "\n",
    "1. 行列Aの(0,0)の要素 $a_{0, 0}$ と行列Bの(0,0)の要素 $b_{0, 0}$ を掛け合わせる\n",
    "2. 行列Aの(0,1)の要素 $a_{0, 1}$ と行列Bの(1,0)の要素 $b_{1, 0}$ を掛け合わせる\n",
    "3. 行列Aの(0,2)の要素 $a_{0, 2}$ と行列Bの(2,0)の要素 $b_{2, 0}$ を掛け合わせる\n",
    "4. それらの値を全て足し合わせる\n",
    "\n",
    "数式で表すと\n",
    "\n",
    "$$\n",
    "\\sum^{2}_{k=0}a_{0,k}b_{k,0}\n",
    "$$\n",
    "\n",
    "です。\n",
    "\n",
    "この計算を`np.matmul()`や`np.dot()`、または`@`演算子を使わずに行うコードを書いてください。"
   ]
  },
  {
   "cell_type": "markdown",
   "metadata": {
    "colab_type": "text",
    "id": "9DbsnN5Y5XuT"
   },
   "source": [
    "### 【問題3】解答"
   ]
  },
  {
   "cell_type": "code",
   "execution_count": 4,
   "metadata": {
    "colab": {
     "base_uri": "https://localhost:8080/",
     "height": 51
    },
    "colab_type": "code",
    "executionInfo": {
     "elapsed": 726,
     "status": "ok",
     "timestamp": 1580721887194,
     "user": {
      "displayName": "RYOSUKE FUJII",
      "photoUrl": "https://lh3.googleusercontent.com/a-/AAuE7mArIT_2J8uHkPQxTtu_LCg2p7DRjYhxyWoY3xzWbA=s64",
      "userId": "06292435546189993794"
     },
     "user_tz": -540
    },
    "id": "LnNxrQuUQjz7",
    "outputId": "e2f8faf8-0797-41fa-b9cf-8074c90ea901"
   },
   "outputs": [
    {
     "data": {
      "text/plain": [
       "array([  6,  52, -48])"
      ]
     },
     "execution_count": 4,
     "metadata": {},
     "output_type": "execute_result"
    }
   ],
   "source": [
    "a = np.array([[-1, 2, 3], [4, -5, 6], [7, 8, -9]])\n",
    "b = np.array([[0, 2, 1], [0, 2, -8], [2, 9, -1]])\n",
    "\n",
    "val = []\n",
    "for i in range(a.shape[1]):\n",
    "    val.append(a[:,i]*b[i,:])\n",
    "sum(val)"
   ]
  },
  {
   "cell_type": "markdown",
   "metadata": {
    "colab_type": "text",
    "id": "KutNN4sT-8wT"
   },
   "source": [
    "## 【問題4】行列積を行う関数の作成\n",
    "\n",
    "問題3のコードを拡張し、行列積のスクラッチ実装を完成させてください。行列AとBを引数に受け取り、行列積を返す関数としてください。\n",
    "\n",
    "行列積を計算する場合は、問題3の計算を異なる行や列に対して繰り返していくことになります。\n",
    "\n",
    "計算結果である 3×3 の行列Cの各要素 $c_{i,j}$は数式で表すと次のようになります。\n",
    "<br /><br />\n",
    "$$\n",
    "c_{i,j} = \\sum^{2}_{k=0}a_{i,k}b_{k,j}\n",
    "$$\n",
    "<br /><br />\n",
    "for文を使い、ndarrayのインデックスを動かしていくことで、合計9つの要素が計算できます。インデックス *i* や *j* を1増やすと、次の行や列に移ることができます。\n",
    "\n",
    "![代替テキスト](https://t.gyazo.com/teams/diveintocode/129123df5242c9e768513f5e8b5ef24f.png)"
   ]
  },
  {
   "cell_type": "code",
   "execution_count": 11,
   "metadata": {},
   "outputs": [
    {
     "name": "stdout",
     "output_type": "stream",
     "text": [
      "[[  6  29 -20]\n",
      " [ 12  52  38]\n",
      " [-18 -51 -48]]\n",
      "[[  6  29 -20]\n",
      " [ 12  52  38]\n",
      " [-18 -51 -48]]\n"
     ]
    }
   ],
   "source": [
    "def matrix_multiplication_scratch(a, b):\n",
    "    val_list = []\n",
    "    for k in range(a.shape[0]):\n",
    "        for j in range(b.shape[1]):\n",
    "            val = []\n",
    "            for i in range(a.shape[1]):\n",
    "                val.append(a[k,i]*b[i,j])\n",
    "            val_list.append((sum(val)))\n",
    "    return np.array(val_list).reshape(-1, b.shape[1])\n",
    "\n",
    "print(matrix_multiplication_scratch(a, b))\n",
    "print(a@b)"
   ]
  },
  {
   "cell_type": "markdown",
   "metadata": {
    "colab_type": "text",
    "id": "7OedwjByBta-"
   },
   "source": [
    "# 行列積が定義されない組み合わせの行列\n",
    "次に以下のような例を考えます。\n",
    "\n",
    "<br />\n",
    "$$\n",
    "% <![CDATA[\n",
    "D = \\left[\n",
    "    \\begin{array}{ccc}\n",
    "      -1 & 2 & 3 \\\\\n",
    "      4 & -5 & 6\n",
    "    \\end{array}\n",
    "  \\right],\n",
    "  E- = \\left[\n",
    "    \\begin{array}{ccc}\n",
    "       -9 & 8 & 7 \\\\\n",
    "      6 & -5 & 4\n",
    "    \\end{array}\n",
    "  \\right] %]]>\n",
    "$$\n"
   ]
  },
  {
   "cell_type": "code",
   "execution_count": 6,
   "metadata": {
    "colab": {},
    "colab_type": "code",
    "id": "hPUae0rtAmZE"
   },
   "outputs": [],
   "source": [
    "d_ndarray = np.array([[-1, 2, 3], [4, -5, 6]])\n",
    "e_ndarray = np.array([[-9, 8, 7], [6, -5, 4]])"
   ]
  },
  {
   "cell_type": "markdown",
   "metadata": {
    "colab_type": "text",
    "id": "HUswX-3RCKEC"
   },
   "source": [
    "行列積DEはDの列数とEの行数が等しい場合に定義されていますから、この例では計算ができません。"
   ]
  },
  {
   "cell_type": "markdown",
   "metadata": {
    "colab_type": "text",
    "id": "Q-qrEHDyCNpF"
   },
   "source": [
    "## 【問題5】計算が定義されない入力を判定する\n",
    "問題4で作成した関数は、実装方法によってはこのDとEの配列を入力しても動いてしまう可能性があります。この場合、不適切な計算が行われることになります。また、途中でエラーになる場合でも、なぜエラーになったかが直接的には分かりづらいメッセージが表示されます。\n",
    "\n",
    "if文などによってこれを防ぎ、入力される形に問題があることを`print()`を使い表示するコードを書き加えてください。"
   ]
  },
  {
   "cell_type": "markdown",
   "metadata": {
    "colab_type": "text",
    "id": "S5krwz0ZXD9W"
   },
   "source": [
    "### 【問題5】解答"
   ]
  },
  {
   "cell_type": "code",
   "execution_count": 7,
   "metadata": {
    "colab": {
     "base_uri": "https://localhost:8080/",
     "height": 34
    },
    "colab_type": "code",
    "executionInfo": {
     "elapsed": 850,
     "status": "ok",
     "timestamp": 1580722312286,
     "user": {
      "displayName": "RYOSUKE FUJII",
      "photoUrl": "https://lh3.googleusercontent.com/a-/AAuE7mArIT_2J8uHkPQxTtu_LCg2p7DRjYhxyWoY3xzWbA=s64",
      "userId": "06292435546189993794"
     },
     "user_tz": -540
    },
    "id": "ps-fGX_lXJSN",
    "outputId": "16714375-f550-41c3-a10e-29cde06d0346"
   },
   "outputs": [
    {
     "data": {
      "text/plain": [
       "'行列数エラー'"
      ]
     },
     "execution_count": 7,
     "metadata": {},
     "output_type": "execute_result"
    }
   ],
   "source": [
    "d = np.array([[-1, 2, 3], [4, -5, 6]])\n",
    "e = np.array([[-9, 8, 7], [6, -5, 4]])\n",
    "\n",
    "def matrix_multiplication_scratch(a, b):\n",
    "    if a.shape[1] != b.shape[0]:\n",
    "        return '行列数エラー'\n",
    "    else:\n",
    "        val_list = []\n",
    "        for k in range(a.shape[0]):\n",
    "            for j in range(b.shape[1]):\n",
    "                val = []\n",
    "                for i in range(a.shape[1]):\n",
    "                    val.append(a[k,i]*b[i,j])\n",
    "                val_list.append((sum(val)))\n",
    "        return np.array(val_list).reshape(-1, b.shape[1])\n",
    "\n",
    "\n",
    "matrix_multiplication_scratch(d, e)"
   ]
  },
  {
   "cell_type": "markdown",
   "metadata": {
    "colab_type": "text",
    "id": "2IgxeBu9CYf4"
   },
   "source": [
    "## 【問題6】転置\n",
    "片方の行列を転置することで、行列積が計算できるようになります。\n",
    "\n",
    "`np.transpose()`や.`T`アトリビュートを用いて転置し、行列積を計算してください。\n",
    "\n",
    "[numpy.transpose — NumPy v1.16 Manual](https://docs.scipy.org/doc/numpy/reference/generated/numpy.transpose.html)\n",
    "\n",
    "[numpy.ndarray.T — NumPy v1.16 Manual](https://docs.scipy.org/doc/numpy/reference/generated/numpy.ndarray.T.html)"
   ]
  },
  {
   "cell_type": "code",
   "execution_count": 10,
   "metadata": {
    "colab": {
     "base_uri": "https://localhost:8080/",
     "height": 68
    },
    "colab_type": "code",
    "executionInfo": {
     "elapsed": 583,
     "status": "ok",
     "timestamp": 1580722427539,
     "user": {
      "displayName": "RYOSUKE FUJII",
      "photoUrl": "https://lh3.googleusercontent.com/a-/AAuE7mArIT_2J8uHkPQxTtu_LCg2p7DRjYhxyWoY3xzWbA=s64",
      "userId": "06292435546189993794"
     },
     "user_tz": -540
    },
    "id": "qtrfjm10ZJhE",
    "outputId": "3f64f707-12a5-43fb-80a1-37600102e2ba"
   },
   "outputs": [
    {
     "name": "stdout",
     "output_type": "stream",
     "text": [
      "[[ 46  -4]\n",
      " [-34  73]]\n",
      "[[ 46  -4]\n",
      " [-34  73]]\n"
     ]
    }
   ],
   "source": [
    "def matrix_multiplication_scratch(a, b):\n",
    "    if a.shape[1] != b.shape[0]:\n",
    "        return '行列数エラー'\n",
    "    else:\n",
    "        val_list = []\n",
    "        for k in range(a.shape[0]):\n",
    "            for j in range(b.shape[1]):\n",
    "                val = []\n",
    "                for i in range(a.shape[1]):\n",
    "                    val.append(a[k,i]*b[i,j])\n",
    "                val_list.append((sum(val)))\n",
    "        return np.array(val_list).reshape(-1, b.shape[1])\n",
    "\n",
    "e.T.shape\n",
    "print(matrix_multiplication_scratch(d, e.T))\n",
    "print(d@e.T)"
   ]
  },
  {
   "cell_type": "code",
   "execution_count": null,
   "metadata": {},
   "outputs": [],
   "source": []
  }
 ],
 "metadata": {
  "colab": {
   "authorship_tag": "ABX9TyPYLYLxp1wbSNNEYO609JPR",
   "name": "Week2授業前課題3 行列積のスクラッチ.ipynb",
   "provenance": [],
   "toc_visible": true
  },
  "kernelspec": {
   "display_name": "Python 3",
   "language": "python",
   "name": "python3"
  },
  "language_info": {
   "codemirror_mode": {
    "name": "ipython",
    "version": 3
   },
   "file_extension": ".py",
   "mimetype": "text/x-python",
   "name": "python",
   "nbconvert_exporter": "python",
   "pygments_lexer": "ipython3",
   "version": "3.7.4"
  },
  "toc": {
   "base_numbering": 1,
   "nav_menu": {},
   "number_sections": true,
   "sideBar": true,
   "skip_h1_title": false,
   "title_cell": "Table of Contents",
   "title_sidebar": "Contents",
   "toc_cell": false,
   "toc_position": {},
   "toc_section_display": true,
   "toc_window_display": true
  }
 },
 "nbformat": 4,
 "nbformat_minor": 1
}
