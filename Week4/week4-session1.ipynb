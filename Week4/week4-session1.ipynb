{
 "cells": [
  {
   "cell_type": "markdown",
   "metadata": {
    "colab_type": "text",
    "id": "C9rZ8IkleLyO"
   },
   "source": [
    "# アヤメの分類\n",
    "Week3で使用したirisデータセットを使い、分類問題を解く練習をします。\n",
    "\n",
    "irisデータセットはカナダのガスペ半島のある牧草地で同じ日に採取された以下の3種類のアヤメ、合計150本のデータでした。\n",
    "\n",
    "* Iris setosa - Wikipedia\n",
    "* Iris virgicolor - Wikipedia\n",
    "* Iris virginica - Wikipedia\n",
    "\n",
    "\n",
    "4種類の特徴量（説明変数）からアヤメの種類を推測する問題が設定できます。アヤメの種類を 分類 するので、こういったものを分類問題と呼びます。\n",
    "\n"
   ]
  },
  {
   "cell_type": "markdown",
   "metadata": {
    "colab_type": "text",
    "id": "dEI-FbTpeiTJ"
   },
   "source": [
    "## 今回使う手法の一覧\n",
    "scikit-laernを使い以下の手法で学習と推定を行っていきます。それぞれの手法についての詳細は今の段階では扱いません。ライブラリを使えばどれも気軽に利用できることや、手法毎の結果に違いがあることを簡単に見ていきます。\n",
    "\n",
    "* 最近傍法\n",
    "* ロジスティック回帰\n",
    "* SVM\n",
    "* 決定木\n",
    "* ランダムフォレスト"
   ]
  },
  {
   "cell_type": "markdown",
   "metadata": {
    "colab_type": "text",
    "id": "sAQ2LEMUejyS"
   },
   "source": [
    "# 分類問題の流れ\n",
    "まず、最近傍法を例に分類問題を解く基本的な流れを紹介します。課題の後半ではこれを参考に他の手法にも適用してもらいます。\n",
    "\n",
    "この流れについては後々より深く学び、実践していきます。今回の課題では大まかな流れの把握を行ってください。\n",
    "\n"
   ]
  },
  {
   "cell_type": "markdown",
   "metadata": {
    "colab_type": "text",
    "id": "-c3KzF-LfxSe"
   },
   "source": [
    "## 練習のための準備\n",
    "練習する上で結果の可視化を行いたいため、特徴量は4つの中で2つだけを使うことにします。こうすることで2次元の散布図を描き確認することができます。また、問題を単純化するためアヤメの種類を2つだけ使うことにします。分類対象が2種類の場合を 2値分類 と呼び、それ以上の 多値分類 とは区別をします。それぞれで手法や評価方法が変わります。今回はまずより基本的な2値分類を行います。\n",
    "\n"
   ]
  },
  {
   "cell_type": "markdown",
   "metadata": {
    "colab_type": "text",
    "id": "m2m8mFAwf5fS"
   },
   "source": [
    "## 【課題1】練習のために特徴量とカテゴリを選択\n",
    "選び方は合計18通りありますが、以下の組み合わせで練習することにします。irisデータセットをWeek3同様に取得した後、データフレームからこれらを抜き出してください。\n",
    "\n",
    "* virgicolorとvirginica\n",
    "* sepal_lengthとpetal_length\n",
    "\n",
    "\n",
    "\n",
    "\n"
   ]
  },
  {
   "cell_type": "markdown",
   "metadata": {
    "colab_type": "text",
    "id": "dDtc1WVigpeM"
   },
   "source": [
    "### 【課題1】解答\n"
   ]
  },
  {
   "cell_type": "code",
   "execution_count": 1,
   "metadata": {},
   "outputs": [
    {
     "name": "stdout",
     "output_type": "stream",
     "text": [
      "dict_keys(['data', 'target', 'target_names', 'DESCR', 'feature_names', 'filename'])\n",
      "['sepal length (cm)', 'sepal width (cm)', 'petal length (cm)', 'petal width (cm)']\n",
      "['setosa' 'versicolor' 'virginica']\n",
      "(150, 4)\n"
     ]
    }
   ],
   "source": [
    "import pandas as pd\n",
    "from sklearn.datasets import load_iris\n",
    "\n",
    "iris = load_iris() # データセット読込\n",
    "print(iris.keys())\n",
    "print(iris.feature_names)\n",
    "print(iris.target_names)\n",
    "print(iris.data.shape) # データセットのshape\n",
    "\n",
    "X = pd.DataFrame(iris.data, columns=iris.feature_names)\n",
    "X.columns = ['sepal_length','sepal_width','petal_length','petal_width']\n",
    "y = pd.DataFrame(iris.target)\n",
    "y.columns = ['Spicies']"
   ]
  },
  {
   "cell_type": "code",
   "execution_count": 2,
   "metadata": {
    "colab": {
     "base_uri": "https://localhost:8080/",
     "height": 606
    },
    "colab_type": "code",
    "executionInfo": {
     "elapsed": 963,
     "status": "ok",
     "timestamp": 1580226388772,
     "user": {
      "displayName": "RYOSUKE FUJII",
      "photoUrl": "https://lh3.googleusercontent.com/a-/AAuE7mArIT_2J8uHkPQxTtu_LCg2p7DRjYhxyWoY3xzWbA=s64",
      "userId": "06292435546189993794"
     },
     "user_tz": -540
    },
    "id": "GbxDVOpyiC65",
    "outputId": "250f8277-434d-4100-e481-e053d9209a29"
   },
   "outputs": [],
   "source": [
    "# versicolor & virginica, sepal_length & petal_length\n",
    "X = X.iloc[50:,[0,2]]\n",
    "y = y[50:]"
   ]
  },
  {
   "cell_type": "markdown",
   "metadata": {
    "colab_type": "text",
    "id": "IMjM3U2wgkbf"
   },
   "source": [
    "**《実際の問題では？》**\n",
    "\n",
    "実際の問題を解く上でも結果の可視化は有効です。しかし、そのために学習や推定に使う特徴量を2つに絞るのは望ましくありません。そのため学習や推定は多次元で行い、可視化をする際にだけ主成分分析などの特徴抽出手法を適用するといったことが行われます。また、Week3で利用した散布図行列を使い可視化することも可能です。"
   ]
  },
  {
   "cell_type": "markdown",
   "metadata": {
    "colab_type": "text",
    "id": "YJTUJniUfOBH"
   },
   "source": [
    "## 【問題2】データの分析\n",
    "まずはデータの分析を行いますが、これはWeek3の課題1で行いました。その際出力した散布図行列を見ることで、先ほどの18通りそれぞれの散布図も確認できます。sepal_lengthとpetal_lengthを使い、virgicolorとvirginicaを分類するのは少し難しそうな状況であることが分かるはずです。\n",
    "\n",
    "ここでは復習を兼ねて、抜き出したデータの散布図と箱ひげ図（boxplot）、バイオリン図（violinplot）を表示してください。"
   ]
  },
  {
   "cell_type": "markdown",
   "metadata": {
    "colab_type": "text",
    "id": "zuKv4jAPhf7o"
   },
   "source": [
    "### 【課題2】解答\n"
   ]
  },
  {
   "cell_type": "code",
   "execution_count": 3,
   "metadata": {},
   "outputs": [
    {
     "data": {
      "text/plain": [
       "((49,), (49,))"
      ]
     },
     "execution_count": 3,
     "metadata": {},
     "output_type": "execute_result"
    }
   ],
   "source": [
    "X.iloc[0:49,0].shape, X.iloc[50:99,0].shape"
   ]
  },
  {
   "cell_type": "code",
   "execution_count": 4,
   "metadata": {
    "colab": {
     "base_uri": "https://localhost:8080/",
     "height": 1000
    },
    "colab_type": "code",
    "executionInfo": {
     "elapsed": 3102,
     "status": "ok",
     "timestamp": 1580226390919,
     "user": {
      "displayName": "RYOSUKE FUJII",
      "photoUrl": "https://lh3.googleusercontent.com/a-/AAuE7mArIT_2J8uHkPQxTtu_LCg2p7DRjYhxyWoY3xzWbA=s64",
      "userId": "06292435546189993794"
     },
     "user_tz": -540
    },
    "id": "PNoQQVdoqHuQ",
    "outputId": "4b3cf3a4-25cd-4129-b578-7d3f08071817",
    "scrolled": true
   },
   "outputs": [
    {
     "data": {
      "text/plain": [
       "{'whiskers': [<matplotlib.lines.Line2D at 0x1a1e48c0d0>,\n",
       "  <matplotlib.lines.Line2D at 0x1a1e48c610>,\n",
       "  <matplotlib.lines.Line2D at 0x1a1e49f590>,\n",
       "  <matplotlib.lines.Line2D at 0x1a1e48cb90>],\n",
       " 'caps': [<matplotlib.lines.Line2D at 0x1a1e48cb10>,\n",
       "  <matplotlib.lines.Line2D at 0x1a1e463f50>,\n",
       "  <matplotlib.lines.Line2D at 0x1a1e49ff50>,\n",
       "  <matplotlib.lines.Line2D at 0x1a1e4a8490>],\n",
       " 'boxes': [<matplotlib.lines.Line2D at 0x1a1e47b350>,\n",
       "  <matplotlib.lines.Line2D at 0x1a1e496f90>],\n",
       " 'medians': [<matplotlib.lines.Line2D at 0x1a1e496590>,\n",
       "  <matplotlib.lines.Line2D at 0x1a1e4a8990>],\n",
       " 'fliers': [<matplotlib.lines.Line2D at 0x1a1e496a90>,\n",
       "  <matplotlib.lines.Line2D at 0x1a1e4a8e90>],\n",
       " 'means': []}"
      ]
     },
     "metadata": {},
     "output_type": "display_data"
    },
    {
     "data": {
      "image/png": "[encoded data removed]",
      "text/plain": [
       "<Figure size 432x288 with 1 Axes>"
      ]
     },
     "metadata": {},
     "output_type": "display_data"
    }
   ],
   "source": [
    "import seaborn as sns\n",
    "import matplotlib.pyplot as plt\n",
    "%matplotlib inline\n",
    "\n",
    "# ラベルごとのデータのリスト化\n",
    "data = [X.iloc[0:49,0], X.iloc[50:99,0]] \n",
    "\n",
    "# 箱ひげ図を描画\n",
    "sns.set()\n",
    "plt.title('Spicies of Iris')\n",
    "plt.xlabel('Spicies')\n",
    "plt.ylabel('sepal_length')\n",
    "# plt.ylim(0, 10)\n",
    "display(plt.boxplot(data, labels=['virgicolor','virginica']))\n",
    "\n"
   ]
  },
  {
   "cell_type": "code",
   "execution_count": 5,
   "metadata": {},
   "outputs": [
    {
     "data": {
      "text/plain": [
       "{'bodies': [<matplotlib.collections.PolyCollection at 0x1a1e4f3c10>,\n",
       "  <matplotlib.collections.PolyCollection at 0x1a1e5e15d0>],\n",
       " 'cmaxes': <matplotlib.collections.LineCollection at 0x1a1dbdd850>,\n",
       " 'cmins': <matplotlib.collections.LineCollection at 0x1a1e5e1610>,\n",
       " 'cbars': <matplotlib.collections.LineCollection at 0x1a1e5e1310>}"
      ]
     },
     "metadata": {},
     "output_type": "display_data"
    },
    {
     "data": {
      "image/png": "[encoded data removed]",
      "text/plain": [
       "<Figure size 432x288 with 1 Axes>"
      ]
     },
     "metadata": {},
     "output_type": "display_data"
    }
   ],
   "source": [
    "# 箱ひげ図を描画\n",
    "sns.set()\n",
    "plt.title('Spicies of Iris')\n",
    "plt.xlabel('Spicies')\n",
    "plt.ylabel('sepal_length')\n",
    "plt.xticks([1, 2], iris.target_names[1:])\n",
    "\n",
    "data = [X.iloc[0:49,0], X.iloc[50:99,0]] \n",
    "\n",
    "# plt.ylim(0, 10)\n",
    "display(plt.violinplot(data))"
   ]
  },
  {
   "cell_type": "markdown",
   "metadata": {
    "colab_type": "text",
    "id": "nr-RSDF2hhAv"
   },
   "source": [
    "**《実際の問題では？》**\n",
    "\n",
    "このデータ分析の結果を元に前処理として特徴量エンジニアリングを行っていきます。\n",
    "\n",
    "今回はsepal_lengthとpetal_lengthを抜き出しましたが、分析した上で、問題を少々難しくするための前処理をしたと言えます。\n",
    "\n",
    "前処理\n",
    "データに加工をしていきます。\n"
   ]
  },
  {
   "cell_type": "markdown",
   "metadata": {
    "colab_type": "text",
    "id": "zn6vsbsvfOfG"
   },
   "source": [
    "## 【問題3】前処理・訓練用データと検証用データの分割\n",
    "前処理の一貫として、訓練用（train）データと検証用（validation）データの分割を行います。今回は訓練用データ75%、検証用データ25%として分割してください。\n",
    "\n",
    "scikit-learnの`train_test_split`が利用できます。公式ドキュメントのExamplesを参考に動かしてください。\n",
    "\n",
    "[sklearn.model_selection.train_test_split — scikit-learn 0.21.3 documentation](https://scikit-learn.org/stable/modules/generated/sklearn.model_selection.train_test_split.html)\n",
    "\n",
    "**《注意点》**\n",
    "\n",
    "データの分析まではPandasのDataFrameを使用してきました。しかし、scikit-learnはNumPyのndarrayを想定して作られています。そのため、この段階でndarrayへの変換を行いましょう。特徴量（説明変数）をX、正解（目的変数）をyというndarrayに格納します。\n",
    "\n",
    "**《分割する理由》**\n",
    "\n",
    "分類問題の目的は未知のデータを正しく分類することです。その目的が達成できているかを確認するため、実際には答えの分かっているデータの一部を学習には使わず残しておきます。この学習に使用していないデータで推定を行い、そこから求めた指標値によって検証します。学習に使うデータを訓練用データ、検証に使うデータが検証用データで、一般的に7対3から8対2程度の割合にします。"
   ]
  },
  {
   "cell_type": "markdown",
   "metadata": {
    "colab_type": "text",
    "id": "q8v-vNIj5O2G"
   },
   "source": [
    "### 【課題３】解答\n"
   ]
  },
  {
   "cell_type": "code",
   "execution_count": 6,
   "metadata": {
    "colab": {
     "base_uri": "https://localhost:8080/",
     "height": 255
    },
    "colab_type": "code",
    "executionInfo": {
     "elapsed": 3093,
     "status": "ok",
     "timestamp": 1580226390919,
     "user": {
      "displayName": "RYOSUKE FUJII",
      "photoUrl": "https://lh3.googleusercontent.com/a-/AAuE7mArIT_2J8uHkPQxTtu_LCg2p7DRjYhxyWoY3xzWbA=s64",
      "userId": "06292435546189993794"
     },
     "user_tz": -540
    },
    "id": "xfshiCdj_qbA",
    "outputId": "ac4d1fa6-d0a4-40f5-e124-e1798e3b60af"
   },
   "outputs": [],
   "source": [
    "import numpy as np\n",
    "from sklearn.model_selection import train_test_split\n",
    "\n",
    "# ndarrayに変換\n",
    "X, y = X.values, y.values\n",
    "\n",
    "# 訓練データとテストデータに分割\n",
    "X_train, X_test, y_train, y_test = train_test_split(X, y, test_size=0.25, random_state=42)"
   ]
  },
  {
   "cell_type": "code",
   "execution_count": 7,
   "metadata": {},
   "outputs": [
    {
     "data": {
      "text/plain": [
       "(numpy.ndarray, (75, 2))"
      ]
     },
     "execution_count": 7,
     "metadata": {},
     "output_type": "execute_result"
    }
   ],
   "source": [
    "type(X_train), X_train.shape"
   ]
  },
  {
   "cell_type": "markdown",
   "metadata": {
    "colab_type": "text",
    "id": "kkryLKA8fOrb"
   },
   "source": [
    "## 【問題4】前処理・標準化\n",
    "分類精度をあげるための加工を行います。手法ごとに適切な方法は異なりますが、ここでは一例として 標準化 を行うことにします。\n",
    "\n",
    "**標準化**を行うライブラリもscikit-learnに用意されています。これを使って標準化してください。\n",
    "\n",
    "[sklearn.model_selection.train_test_split — scikit-learn 0.21.3 documentation](https://scikit-learn.org/stable/modules/generated/sklearn.preprocessing.StandardScaler.html)\n",
    "\n",
    "**《注意点》**\n",
    "\n",
    "標準化は訓練用のデータでfitを行い、訓練用、検証用双方のデータにtransformを行います。検証用データは学習の段階には存在しない未知のデータの代わりなので、標準化のための平均や標準偏差の計算に使ってはいけません。\n",
    "\n",
    "**《実際の問題での前処理は？》**\n",
    "\n",
    "アヤメのデータセットのように綺麗で扱いやすい状況で提供されることはまずありません。分析を行いながら、様々な加工が必要になってきます。例えばWeek3の課題2で行った欠損値の確認の後、場合により欠損値の補間も行います。外れ値の確認や、複数のデータセットの整理などもあります。"
   ]
  },
  {
   "cell_type": "markdown",
   "metadata": {
    "colab_type": "text",
    "id": "RD_d8psFhhnP"
   },
   "source": [
    "### 【課題4】解答\n"
   ]
  },
  {
   "cell_type": "code",
   "execution_count": 8,
   "metadata": {
    "colab": {
     "base_uri": "https://localhost:8080/",
     "height": 918
    },
    "colab_type": "code",
    "executionInfo": {
     "elapsed": 3086,
     "status": "ok",
     "timestamp": 1580226390920,
     "user": {
      "displayName": "RYOSUKE FUJII",
      "photoUrl": "https://lh3.googleusercontent.com/a-/AAuE7mArIT_2J8uHkPQxTtu_LCg2p7DRjYhxyWoY3xzWbA=s64",
      "userId": "06292435546189993794"
     },
     "user_tz": -540
    },
    "id": "05CJXa6GEXBc",
    "outputId": "d92bce6d-2e4f-4d48-e7f8-e68ec4200e39"
   },
   "outputs": [
    {
     "name": "stdout",
     "output_type": "stream",
     "text": [
      "[[ 0.62124015 -0.65893772]\n",
      " [-1.15373171 -0.65893772]\n",
      " [ 0.02958286  0.05557306]\n",
      " [-1.59747467 -1.25436337]\n",
      " [ 2.10038336  2.08002027]\n",
      " [-0.56207442 -0.89710798]\n",
      " [-0.11833146 -0.77802285]\n",
      " [ 2.10038336  1.36550949]\n",
      " [-0.4141601  -0.53985259]\n",
      " [ 0.76915447  1.12733923]\n",
      " [-0.85790306 -0.53985259]\n",
      " [ 0.32541151  0.65099871]\n",
      " [ 0.17749719  0.41282845]\n",
      " [-0.4141601  -0.53985259]\n",
      " [-1.00581738 -0.53985259]\n",
      " [-0.85790306 -1.01619311]\n",
      " [-1.30164603 -0.53985259]\n",
      " [-2.04121763 -1.96887414]\n",
      " [ 0.62124015  0.29374332]\n",
      " [ 0.62124015  0.05557306]\n",
      " [-1.00581738 -1.25436337]\n",
      " [ 2.396212    1.72276488]\n",
      " [ 0.47332583 -0.65893772]\n",
      " [ 0.76915447  0.65099871]\n",
      " [-0.26624578 -0.30168233]\n",
      " [ 0.17749719 -0.77802285]\n",
      " [-1.15373171 -1.13527824]\n",
      " [-0.70998874 -1.01619311]\n",
      " [-1.00581738 -1.01619311]\n",
      " [ 0.47332583 -0.42076746]\n",
      " [ 0.17749719  0.77008384]\n",
      " [ 0.02958286 -0.30168233]\n",
      " [-0.70998874  0.17465819]\n",
      " [ 0.62124015 -0.30168233]\n",
      " [ 0.91706879  0.53191358]\n",
      " [-2.04121763 -0.53985259]\n",
      " [-0.56207442  0.17465819]\n",
      " [ 0.32541151  1.0082541 ]\n",
      " [-1.89330331 -1.96887414]\n",
      " [ 0.02958286  1.24642436]\n",
      " [ 2.10038336  2.08002027]\n",
      " [-0.85790306 -0.89710798]\n",
      " [ 2.10038336  2.31819053]\n",
      " [ 0.17749719  0.41282845]\n",
      " [ 0.32541151  0.29374332]\n",
      " [ 1.36081176  1.0082541 ]\n",
      " [-0.26624578 -0.42076746]\n",
      " [ 0.62124015  1.0082541 ]\n",
      " [-1.74538899 -2.32612953]\n",
      " [-0.11833146  0.53191358]\n",
      " [ 1.50872608  1.60367975]\n",
      " [ 1.36081176  1.24642436]\n",
      " [-0.70998874 -1.25436337]\n",
      " [ 0.62124015  0.88916897]\n",
      " [ 1.36081176  1.36550949]\n",
      " [-0.85790306  0.05557306]\n",
      " [-0.26624578  0.77008384]\n",
      " [ 0.02958286 -0.65893772]\n",
      " [-0.85790306 -1.73070389]\n",
      " [ 0.17749719 -0.53985259]\n",
      " [ 1.21289743  1.12733923]\n",
      " [-0.26624578 -1.13527824]\n",
      " [ 0.91706879 -0.06351207]\n",
      " [-0.26624578 -0.30168233]\n",
      " [ 0.17749719  0.65099871]\n",
      " [ 0.91706879  0.17465819]\n",
      " [ 0.62124015  0.88916897]\n",
      " [ 0.02958286  0.77008384]\n",
      " [ 0.17749719  0.77008384]\n",
      " [-0.56207442 -0.1825972 ]\n",
      " [ 0.32541151  0.17465819]\n",
      " [-1.00581738 -0.06351207]\n",
      " [-1.00581738 -1.61161876]\n",
      " [-0.70998874  0.17465819]\n",
      " [-0.70998874  0.17465819]]\n",
      "[[ 0.02958286  0.17465819]\n",
      " [ 0.02958286  0.77008384]\n",
      " [ 0.91706879  0.88916897]\n",
      " [-0.85790306 -0.89710798]\n",
      " [-1.00581738 -0.89710798]\n",
      " [-1.15373171 -1.13527824]\n",
      " [ 0.02958286 -0.06351207]\n",
      " [ 1.6566404   1.36550949]\n",
      " [-1.89330331 -1.73070389]\n",
      " [ 1.06498311 -0.30168233]\n",
      " [-0.11833146 -0.53985259]\n",
      " [-1.15373171 -1.3734485 ]\n",
      " [ 0.02958286 -0.06351207]\n",
      " [-0.4141601   0.17465819]\n",
      " [ 0.62124015  0.77008384]\n",
      " [ 0.32541151 -0.42076746]\n",
      " [-0.11833146 -0.1825972 ]\n",
      " [-0.26624578 -0.06351207]\n",
      " [-0.4141601  -1.13527824]\n",
      " [-1.15373171 -1.49253363]\n",
      " [ 1.95246904  1.96093514]\n",
      " [-0.4141601  -0.1825972 ]\n",
      " [ 0.76915447 -0.1825972 ]\n",
      " [-0.70998874 -1.13527824]\n",
      " [-0.4141601   0.05557306]]\n"
     ]
    }
   ],
   "source": [
    "from sklearn.preprocessing import StandardScaler\n",
    "\n",
    "scaler = StandardScaler()\n",
    "scaler.fit(X_train)\n",
    "# print(scaler.mean_)\n",
    "X_train_std = scaler.transform(X_train)\n",
    "X_test_std = scaler.transform(X_test)"
   ]
  },
  {
   "cell_type": "markdown",
   "metadata": {
    "colab_type": "text",
    "id": "Q0DENoh5ej9S"
   },
   "source": [
    "## 【問題5】学習と推定\n",
    "最近傍法（k-nearest neighbors, k-nn）で学習を行います。scikit-learnの公式ドキュメントのExamplesを参考に、k-nnの学習を行ってください。ここで入力するのは訓練用データです。\n",
    "\n",
    "[sklearn.neighbors.KNeighborsClassifier — scikit-learn 0.21.3 documentation](https://scikit-learn.org/stable/modules/generated/sklearn.neighbors.KNeighborsClassifier.html#sklearn.neighbors.KNeighborsClassifier)\n",
    "\n",
    "学習が終わった後、検証用データを`predict`メソッドに入力し、推定を行ってください。\n",
    "\n",
    "パラメータが複数ありますが、今はそれらの理解を重視しません。最も基本的な要素として、`n_neighbors`の数があるため、これは複数試してみましょう。デフォルトの5、および1と3を最低限行ってください。5の場合を`5-nn`、3の場合を`3-nn`のように呼びます。\n",
    "\n",
    "\n"
   ]
  },
  {
   "cell_type": "markdown",
   "metadata": {
    "colab_type": "text",
    "id": "Hv7P2jCrhiNJ"
   },
   "source": [
    "### 【課題5】解答\n"
   ]
  },
  {
   "cell_type": "code",
   "execution_count": 30,
   "metadata": {
    "colab": {
     "base_uri": "https://localhost:8080/",
     "height": 34
    },
    "colab_type": "code",
    "executionInfo": {
     "elapsed": 3079,
     "status": "ok",
     "timestamp": 1580226390920,
     "user": {
      "displayName": "RYOSUKE FUJII",
      "photoUrl": "https://lh3.googleusercontent.com/a-/AAuE7mArIT_2J8uHkPQxTtu_LCg2p7DRjYhxyWoY3xzWbA=s64",
      "userId": "06292435546189993794"
     },
     "user_tz": -540
    },
    "id": "7LqkhuzzcFGb",
    "outputId": "22452ad2-423a-420f-9f6c-701942871108"
   },
   "outputs": [
    {
     "name": "stdout",
     "output_type": "stream",
     "text": [
      "0.8\n",
      "0.8\n",
      "0.8\n",
      "[2 2 2 1 1 1 2 2 1 1 1 1 2 2 2 1 1 1 1 1 2 1 1 1 2]\n",
      "[2 2 2 1 1 1 2 2 1 1 1 1 2 2 2 1 1 1 1 1 2 1 1 1 2]\n",
      "[2 2 2 1 1 1 1 2 1 1 1 1 1 2 2 1 1 1 1 1 2 1 1 1 2]\n"
     ]
    }
   ],
   "source": [
    "from sklearn.neighbors import KNeighborsClassifier\n",
    "from sklearn.metrics import confusion_matrix\n",
    "from sklearn.metrics import accuracy_score\n",
    "\n",
    "\n",
    "\n",
    "knn1 = KNeighborsClassifier(n_neighbors=1)\n",
    "knn1.fit(X_train_std, np.ravel(y_train)) # np.ravelで1次元配列にする\n",
    "# knn.score(X_test, y_test)\n",
    "y_pred1 = knn1.predict(X_test_std)\n",
    "print(accuracy_score(y_test, y_pred1))\n",
    "\n",
    "knn3 = KNeighborsClassifier(n_neighbors=3)\n",
    "knn3.fit(X_train_std, np.ravel(y_train)) # np.ravelで1次元配列にする\n",
    "# knn.score(X_test, y_test)\n",
    "y_pred3 = knn3.predict(X_test_std)\n",
    "print(accuracy_score(y_test, y_pred3))\n",
    "\n",
    "knn5 = KNeighborsClassifier(n_neighbors=5)\n",
    "knn5.fit(X_train_std, np.ravel(y_train)) # np.ravelで1次元配列にする\n",
    "# knn.score(X_test, y_test)\n",
    "y_pred5 = knn5.predict(X_test_std)\n",
    "print(accuracy_score(y_test, y_pred5))\n",
    "\n",
    "print(y_pred1)\n",
    "print(y_pred3)\n",
    "print(y_pred5)"
   ]
  },
  {
   "cell_type": "markdown",
   "metadata": {
    "colab_type": "text",
    "id": "hy7lAwPdekBT"
   },
   "source": [
    "## 【問題6】評価\n",
    "検証用データの特徴量を入力して得られた推定値と、検証用データの正解値の近さを計算し、学習したモデルを評価します。\n",
    "\n",
    "2値分類を評価するための指標値には **Accuracy（正解率）**、**Precision（適合率）**、**Recall（再現率）**、**F値** があります。それぞれの意味を理解するには、 **混同行列（confusion matrix）** を見ることになります。\n",
    "\n",
    "* scikit-learnを使い4種類の指標を計算する\n",
    "* 混同行列をscikit-learnを使い表示する\n",
    "* 4種類の指標値の意味について簡単に調査して文章でまとめる\n",
    "\n",
    "\n",
    "[sklearn.metrics.accuracy_score — scikit-learn 0.21.3 documentation](https://scikit-learn.org/stable/modules/generated/sklearn.metrics.accuracy_score.html)\n",
    "\n",
    "[sklearn.metrics.precision_score — scikit-learn 0.21.3 documentation](https://scikit-learn.org/stable/modules/generated/sklearn.metrics.precision_score.html#sklearn.metrics.precision_score)\n",
    "\n",
    "[sklearn.metrics.recall_score — scikit-learn 0.21.3 documentation](https://scikit-learn.org/stable/modules/generated/sklearn.metrics.recall_score.html#sklearn.metrics.recall_score)\n",
    "\n",
    "[sklearn.metrics.f1_score — scikit-learn 0.21.3 documentation](https://scikit-learn.org/stable/modules/generated/sklearn.metrics.f1_score.html#sklearn.metrics.f1_score)\n",
    "\n",
    "[sklearn.metrics.confusion_matrix — scikit-learn 0.21.3 documentation](https://scikit-learn.org/stable/modules/generated/sklearn.metrics.confusion_matrix.html#sklearn.metrics.confusion_matrix)\n",
    "\n"
   ]
  },
  {
   "cell_type": "markdown",
   "metadata": {
    "colab_type": "text",
    "id": "viiE8TukhixX"
   },
   "source": [
    "### 【課題6】解答"
   ]
  },
  {
   "cell_type": "code",
   "execution_count": 10,
   "metadata": {
    "colab": {
     "base_uri": "https://localhost:8080/",
     "height": 51
    },
    "colab_type": "code",
    "executionInfo": {
     "elapsed": 3073,
     "status": "ok",
     "timestamp": 1580226390921,
     "user": {
      "displayName": "RYOSUKE FUJII",
      "photoUrl": "https://lh3.googleusercontent.com/a-/AAuE7mArIT_2J8uHkPQxTtu_LCg2p7DRjYhxyWoY3xzWbA=s64",
      "userId": "06292435546189993794"
     },
     "user_tz": -540
    },
    "id": "1AbJTEVwd1wV",
    "outputId": "08e76e89-6405-4a53-fd99-0c8c3fe05bf9"
   },
   "outputs": [
    {
     "name": "stdout",
     "output_type": "stream",
     "text": [
      "正解率：25.0%\n",
      "正解数：1個\n"
     ]
    }
   ],
   "source": [
    "# Accuracy（正解率) \n",
    "from sklearn.metrics import accuracy_score\n",
    "y_pred = [0, 0, 1, 1]\n",
    "y_true = [0, 1, 0, 0]\n",
    "\n",
    "accuracy_rate = accuracy_score(y_true, y_pred) # 正解率\n",
    "print('正解率：{}%'.format(accuracy_rate*100))\n",
    "n_accuracy = accuracy_score(y_true, y_pred, normalize=False) # 正解数\n",
    "print('正解数：{}個'.format(n_accuracy))"
   ]
  },
  {
   "cell_type": "code",
   "execution_count": 11,
   "metadata": {
    "colab": {
     "base_uri": "https://localhost:8080/",
     "height": 102
    },
    "colab_type": "code",
    "executionInfo": {
     "elapsed": 3066,
     "status": "ok",
     "timestamp": 1580226390921,
     "user": {
      "displayName": "RYOSUKE FUJII",
      "photoUrl": "https://lh3.googleusercontent.com/a-/AAuE7mArIT_2J8uHkPQxTtu_LCg2p7DRjYhxyWoY3xzWbA=s64",
      "userId": "06292435546189993794"
     },
     "user_tz": -540
    },
    "id": "_9PcqgJpeA4d",
    "outputId": "4b72f470-5c3c-4ff2-f62a-25c97695b453"
   },
   "outputs": [
    {
     "name": "stdout",
     "output_type": "stream",
     "text": [
      "適合率：1/1 = 100.0%\n",
      "適合率：1/4 = 25.0%\n",
      "適合率（マクロ平均）：( (2/3) + (0/1) + (1/2) )/3 = 38.9%\n",
      "適合率（重み付き平均）：( (2/3*2) + (0/1*2) + (1/2*2) )/6 = 38.9%\n",
      "適合率（マイクロ平均）：(2 + 0 + 1)/6 = 50.0%\n"
     ]
    }
   ],
   "source": [
    "# Precision（適合率）\n",
    "from sklearn.metrics import precision_score\n",
    "\n",
    "# 二値分類\n",
    "y_true = [0, 1, 1, 1, 1]\n",
    "y_pred = [0, 0, 0, 0, 1]\n",
    "\n",
    "precision_rate = precision_score(y_true, y_pred) \n",
    "print('適合率：1/1 = {:.1f}%'.format(precision_rate*100))\n",
    "\n",
    "precision_rate = precision_score(y_true, y_pred, pos_label=0)\n",
    "print('適合率：1/4 = {:.1f}%'.format(precision_rate*100))\n",
    "\n",
    "\n",
    "# 多クラス分類\n",
    "y_true = [0, 1, 2, 0, 1, 2]\n",
    "y_pred = [0, 2, 1, 0, 0, 2]\n",
    "\n",
    "precision_rate_macro = precision_score(y_true, y_pred, average='macro') # 各クラスの適合率／クラス数\n",
    "print('適合率（マクロ平均）：( (2/3) + (0/1) + (1/2) )/3 = {:.1f}%'.format(precision_rate_macro*100))\n",
    "\n",
    "precision_rate_weighted = precision_score(y_true, y_pred, average='weighted') # 各クラスの適合率＊各クラスのtrueの個数／全個数\n",
    "print('適合率（重み付き平均）：( (2/3*2) + (0/1*2) + (1/2*2) )/6 = {:.1f}%'.format(precision_rate_weighted*100))\n",
    "\n",
    "precision_rate_micro = precision_score(y_true, y_pred, average='micro') # 全適合数／全個数\n",
    "print('適合率（マイクロ平均）：(2 + 0 + 1)/6 = {:.1f}%'.format(precision_rate_micro*100))"
   ]
  },
  {
   "cell_type": "markdown",
   "metadata": {
    "colab_type": "text",
    "id": "DU2-PvxVAs4k"
   },
   "source": [
    "#### scikit-learnを使い4種類の指標を計算する"
   ]
  },
  {
   "cell_type": "code",
   "execution_count": 12,
   "metadata": {
    "colab": {
     "base_uri": "https://localhost:8080/",
     "height": 102
    },
    "colab_type": "code",
    "executionInfo": {
     "elapsed": 3058,
     "status": "ok",
     "timestamp": 1580226390922,
     "user": {
      "displayName": "RYOSUKE FUJII",
      "photoUrl": "https://lh3.googleusercontent.com/a-/AAuE7mArIT_2J8uHkPQxTtu_LCg2p7DRjYhxyWoY3xzWbA=s64",
      "userId": "06292435546189993794"
     },
     "user_tz": -540
    },
    "id": "96HX-7CKeCC2",
    "outputId": "43d8cdde-4aa6-49fb-b663-3dbdde08bc65"
   },
   "outputs": [
    {
     "name": "stdout",
     "output_type": "stream",
     "text": [
      "再現率：1/4 = 25.0%\n",
      "再現率：1/1 = 100.0%\n",
      "再現率（マクロ平均）：( (2/2) + (0/2) + (1/2) )/3 = 50.0%\n",
      "再現率（重み付き平均）：( (2/2*2) + (0/2*2) + (1/2*2) )/6 = 50.0%\n",
      "再現率（マイクロ平均）：(2 + 0 + 1)/6 = 50.0%\n"
     ]
    }
   ],
   "source": [
    "# Recall（再現率）\n",
    "from sklearn.metrics import recall_score\n",
    "\n",
    "# 二値分類\n",
    "y_true = [0, 1, 1, 1, 1]\n",
    "y_pred = [0, 0, 0, 0, 1]\n",
    "\n",
    "recall_rate = recall_score(y_true, y_pred) \n",
    "print('再現率：1/4 = {:.1f}%'.format(recall_rate*100))\n",
    "\n",
    "recall_rate = recall_score(y_true, y_pred, pos_label=0)\n",
    "print('再現率：1/1 = {:.1f}%'.format(recall_rate*100))\n",
    "\n",
    "\n",
    "# 多クラス分類\n",
    "y_true = [0, 1, 2, 0, 1, 2]\n",
    "y_pred = [0, 2, 1, 0, 0, 2]\n",
    "\n",
    "recall_rate_macro = recall_score(y_true, y_pred, average='macro') # 各クラスの再現率／クラス数\n",
    "print('再現率（マクロ平均）：( (2/2) + (0/2) + (1/2) )/3 = {:.1f}%'.format(recall_rate_macro*100))\n",
    "\n",
    "recall_rate_weighted = recall_score(y_true, y_pred, average='weighted') # 各クラスの再現率＊各クラスのtrueの個数／全個数\n",
    "print('再現率（重み付き平均）：( (2/2*2) + (0/2*2) + (1/2*2) )/6 = {:.1f}%'.format(recall_rate_weighted*100))\n",
    "\n",
    "recall_rate_micro = recall_score(y_true, y_pred, average='micro') # 全再現数／全個数\n",
    "print('再現率（マイクロ平均）：(2 + 0 + 1)/6 = {:.1f}%'.format(recall_rate_micro*100))"
   ]
  },
  {
   "cell_type": "code",
   "execution_count": 13,
   "metadata": {
    "colab": {
     "base_uri": "https://localhost:8080/",
     "height": 102
    },
    "colab_type": "code",
    "executionInfo": {
     "elapsed": 3053,
     "status": "ok",
     "timestamp": 1580226390923,
     "user": {
      "displayName": "RYOSUKE FUJII",
      "photoUrl": "https://lh3.googleusercontent.com/a-/AAuE7mArIT_2J8uHkPQxTtu_LCg2p7DRjYhxyWoY3xzWbA=s64",
      "userId": "06292435546189993794"
     },
     "user_tz": -540
    },
    "id": "visUKxoCeCNv",
    "outputId": "a53ebf92-7d79-42b7-c6cb-a0374cfd8b73"
   },
   "outputs": [
    {
     "name": "stdout",
     "output_type": "stream",
     "text": [
      "F値：( 2*(1/1*1/4) )/(1/1 + 1/4) = 40.0%\n",
      "F値：( 2*(1/4*1/2) )/(1/4 + 1/1) = 40.0%\n",
      "F値（マクロ平均）： (2*precision_rate_macro*recall_rate_macro)/(precision_rate_macro+recall_rate_macro) = 43.3%\n",
      "F値（重み付き平均）： (2*precision_rate_weighted*recall_rate_weighted)/(precision_rate_weighted+recall_rate_weighted) = 43.3%\n",
      "F値（マイクロ平均）： (2*precision_rate_micro*recall_rate_micro)/(precision_rate_micro+recall_rate_micro) = 50.0%\n"
     ]
    }
   ],
   "source": [
    "# F-measure, F-score（F値）\n",
    "from sklearn.metrics import f1_score\n",
    "\n",
    "# 二値分類\n",
    "y_true = [0, 1, 1, 1, 1]\n",
    "y_pred = [0, 0, 0, 0, 1]\n",
    "\n",
    "f1_score_rate = f1_score(y_true, y_pred) \n",
    "print('F値：( 2*(1/1*1/4) )/(1/1 + 1/4) = {:.1f}%'.format(f1_score_rate*100))\n",
    "\n",
    "f1_score_rate = f1_score(y_true, y_pred, pos_label=0)\n",
    "print('F値：( 2*(1/4*1/2) )/(1/4 + 1/1) = {:.1f}%'.format(f1_score_rate*100))\n",
    "\n",
    "\n",
    "# 多クラス分類\n",
    "y_true = [0, 1, 2, 0, 1, 2]\n",
    "y_pred = [0, 2, 1, 0, 0, 2]\n",
    "\n",
    "f1_score_rate_macro = f1_score(y_true, y_pred, average='macro') # 各クラスのF値／クラス数\n",
    "print('F値（マクロ平均）： (2*precision_rate_macro*recall_rate_macro)/(precision_rate_macro+recall_rate_macro) = {:.1f}%'.format(f1_score_rate_macro*100))\n",
    "f1_score_rate_weighted = f1_score(y_true, y_pred, average='weighted') # 各クラスのF値＊各クラスのtrueの個数／全個数\n",
    "print('F値（重み付き平均）： (2*precision_rate_weighted*recall_rate_weighted)/(precision_rate_weighted+recall_rate_weighted) = {:.1f}%'.format(f1_score_rate_weighted*100))\n",
    "\n",
    "f1_score_rate_micro = f1_score(y_true, y_pred, average='micro') # 全再現数／全個数\n",
    "print('F値（マイクロ平均）： (2*precision_rate_micro*recall_rate_micro)/(precision_rate_micro+recall_rate_micro) = {:.1f}%'.format(f1_score_rate_micro*100))"
   ]
  },
  {
   "cell_type": "markdown",
   "metadata": {
    "colab_type": "text",
    "id": "gSGYnsv_AR7a"
   },
   "source": [
    "#### 混同行列をscikit-learnを使い表示する"
   ]
  },
  {
   "cell_type": "code",
   "execution_count": 14,
   "metadata": {
    "colab": {
     "base_uri": "https://localhost:8080/",
     "height": 136
    },
    "colab_type": "code",
    "executionInfo": {
     "elapsed": 3046,
     "status": "ok",
     "timestamp": 1580226390923,
     "user": {
      "displayName": "RYOSUKE FUJII",
      "photoUrl": "https://lh3.googleusercontent.com/a-/AAuE7mArIT_2J8uHkPQxTtu_LCg2p7DRjYhxyWoY3xzWbA=s64",
      "userId": "06292435546189993794"
     },
     "user_tz": -540
    },
    "id": "4YUajB3M-lEk",
    "outputId": "8ba022e5-d159-4f9d-a3cb-8d673ec99bb4"
   },
   "outputs": [
    {
     "name": "stdout",
     "output_type": "stream",
     "text": [
      "[[1 4]\n",
      " [3 2]]\n",
      "[[2 3]\n",
      " [4 1]]\n",
      "[[1 2 0]\n",
      " [0 2 1]\n",
      " [0 0 3]]\n"
     ]
    }
   ],
   "source": [
    "from sklearn.metrics import confusion_matrix\n",
    "\n",
    "# 二値分類\n",
    "y_true = [0, 0, 0, 0, 0, 1, 1, 1, 1, 1]\n",
    "y_pred = [0, 1, 1, 1, 1, 0, 0, 0, 1, 1]\n",
    "\n",
    "cm = confusion_matrix(y_true, y_pred)\n",
    "print(cm)\n",
    "\n",
    "cm = confusion_matrix(y_true, y_pred, labels=[1, 0])\n",
    "print(cm)\n",
    "\n",
    "# 多クラス分類\n",
    "y_true_multi = [0, 0, 0, 1, 1, 1, 2, 2, 2]\n",
    "y_pred_multi = [0, 1, 1, 1, 1, 2, 2, 2, 2]\n",
    "print(confusion_matrix(y_true_multi, y_pred_multi))"
   ]
  },
  {
   "cell_type": "markdown",
   "metadata": {
    "colab_type": "text",
    "id": "RnTkw8yD8tru"
   },
   "source": [
    "#### 4種類の指標値の意味について簡単に調査して文章でまとめる\n",
    "\n",
    "**Accuracy（正解率）**：すべてのサンプルのうち正解したサンプルの割合\n",
    "\n",
    "**Precision（適合率）**\n",
    "：陽性と予測されたサンプルのうち正解したサンプルの割合\n",
    "\n",
    "**Recall（再現率）**：\n",
    "実際に陽性のサンプルのうち正解したサンプルの割合\n",
    "\n",
    "**F-measure, F-score（F値）**\n",
    "：適合率と再現率の調和平均"
   ]
  },
  {
   "cell_type": "markdown",
   "metadata": {
    "colab_type": "text",
    "id": "8jV-CDWUekEc"
   },
   "source": [
    "## 【問題7】可視化\n",
    "評価の一貫として可視化を行います。今回の場合2次元の特徴量で分類を行いましたから、散布図で可視化が可能です。以下にどう分割するかという 決定領域 を描く関数を用意しました。これを利用して可視化を行ってください。Xとyには訓練用データまたは検証用データを与えます。"
   ]
  },
  {
   "cell_type": "code",
   "execution_count": 15,
   "metadata": {
    "colab": {},
    "colab_type": "code",
    "id": "zrF01uqyAsN_"
   },
   "outputs": [],
   "source": [
    "import matplotlib.pyplot as plt\n",
    "from matplotlib.colors import ListedColormap\n",
    "import matplotlib.patches as mpatches\n",
    "\n",
    "def decision_region(X, y, model, step=0.01, title='decision region', xlabel='xlabel', ylabel='ylabel', target_names=['versicolor', 'virginica']):\n",
    "    \"\"\"\n",
    "    2値分類を2次元の特徴量で学習したモデルの決定領域を描く。\n",
    "    背景の色が学習したモデルによる推定値から描画される。\n",
    "    散布図の点は訓練データまたは検証データである。\n",
    "\n",
    "    Parameters\n",
    "    ----------------\n",
    "    X : ndarray, shape(n_samples, 2)\n",
    "        特徴量\n",
    "    y : ndarray, shape(n_samples,)\n",
    "        ラベル\n",
    "    model : object\n",
    "        学習したモデルのインスンタスを入れる\n",
    "    step : float, (default : 0.1)\n",
    "        推定値を計算する間隔を設定する\n",
    "    title : str\n",
    "        グラフのタイトルの文章を与える\n",
    "    xlabel, ylabel : str\n",
    "        軸ラベルの文章を与える\n",
    "    target_names= : list of str\n",
    "        凡例の一覧を与える\n",
    "    \"\"\"\n",
    "    # setting\n",
    "    scatter_color = ['red', 'blue']\n",
    "    contourf_color = ['pink', 'skyblue']\n",
    "    n_class = 2\n",
    "\n",
    "    # pred\n",
    "    mesh_f0, mesh_f1  = np.meshgrid(np.arange(np.min(X[:,0])-0.5, np.max(X[:,0])+0.5, step), np.arange(np.min(X[:,1])-0.5, np.max(X[:,1])+0.5, step))\n",
    "    mesh = np.c_[np.ravel(mesh_f0),np.ravel(mesh_f1)]\n",
    "    y_pred = model.predict(mesh).reshape(mesh_f0.shape)\n",
    "\n",
    "    # plot\n",
    "    plt.title(title)\n",
    "    plt.xlabel(xlabel)\n",
    "    plt.ylabel(ylabel)\n",
    "    plt.contourf(mesh_f0, mesh_f1, y_pred, n_class-1, cmap=ListedColormap(contourf_color))\n",
    "    plt.contour(mesh_f0, mesh_f1, y_pred, n_class-1, colors='y', linewidths=3, alpha=0.5)\n",
    "    for i, target in enumerate(set(y)):\n",
    "        plt.scatter(X[y==target][:, 0], X[y==target][:, 1], s=80, color=scatter_color[i], label=target_names[i], marker='o')\n",
    "    patches = [mpatches.Patch(color=scatter_color[i], label=target_names[i]) for i in range(n_class)]\n",
    "    plt.legend(handles=patches)\n",
    "    plt.legend()\n",
    "    plt.show()"
   ]
  },
  {
   "cell_type": "markdown",
   "metadata": {
    "colab_type": "text",
    "id": "xiIQuW5JGma8"
   },
   "source": [
    "3-nnの決定領域を表示した例が以下です。\n",
    "\n",
    "![代替テキスト](https://t.gyazo.com/teams/diveintocode/a40d4c5f7ec594f5c7ee9e1b58fab96b.png)"
   ]
  },
  {
   "cell_type": "markdown",
   "metadata": {
    "colab_type": "text",
    "id": "z8I7rgQihjUp"
   },
   "source": [
    "### 【課題7】解答\n"
   ]
  },
  {
   "cell_type": "code",
   "execution_count": 39,
   "metadata": {
    "colab": {
     "base_uri": "https://localhost:8080/",
     "height": 845
    },
    "colab_type": "code",
    "executionInfo": {
     "elapsed": 3267,
     "status": "error",
     "timestamp": 1580226391154,
     "user": {
      "displayName": "RYOSUKE FUJII",
      "photoUrl": "https://lh3.googleusercontent.com/a-/AAuE7mArIT_2J8uHkPQxTtu_LCg2p7DRjYhxyWoY3xzWbA=s64",
      "userId": "06292435546189993794"
     },
     "user_tz": -540
    },
    "id": "mBx8uq_UAfoH",
    "outputId": "6b6c2c8f-089d-4412-ce85-6aa14727f44e"
   },
   "outputs": [
    {
     "data": {
      "image/png": "[encoded data removed]",
      "text/plain": [
       "<Figure size 432x288 with 1 Axes>"
      ]
     },
     "metadata": {},
     "output_type": "display_data"
    },
    {
     "data": {
      "image/png": "[encoded data removed]",
      "text/plain": [
       "<Figure size 432x288 with 1 Axes>"
      ]
     },
     "metadata": {},
     "output_type": "display_data"
    },
    {
     "data": {
      "image/png": "[encoded data removed]",
      "text/plain": [
       "<Figure size 432x288 with 1 Axes>"
      ]
     },
     "metadata": {},
     "output_type": "display_data"
    },
    {
     "data": {
      "image/png": "[encoded data removed]",
      "text/plain": [
       "<Figure size 432x288 with 1 Axes>"
      ]
     },
     "metadata": {},
     "output_type": "display_data"
    },
    {
     "data": {
      "image/png": "[encoded data removed]",
      "text/plain": [
       "<Figure size 432x288 with 1 Axes>"
      ]
     },
     "metadata": {},
     "output_type": "display_data"
    },
    {
     "data": {
      "image/png": "[encoded data removed]",
      "text/plain": [
       "<Figure size 432x288 with 1 Axes>"
      ]
     },
     "metadata": {},
     "output_type": "display_data"
    }
   ],
   "source": [
    "decision_region(X_train_std, np.ravel(y_train), knn1)\n",
    "decision_region(X_test_std, np.ravel(y_test), knn1)\n",
    "\n",
    "decision_region(X_train_std, np.ravel(y_train), knn3)\n",
    "decision_region(X_test_std, np.ravel(y_test), knn3)\n",
    "\n",
    "decision_region(X_train_std, np.ravel(y_train), knn5)\n",
    "decision_region(X_test_std, np.ravel(y_test), knn5)"
   ]
  },
  {
   "cell_type": "markdown",
   "metadata": {
    "colab_type": "text",
    "id": "nwlHSCIsCfO2"
   },
   "source": [
    "この例では訓練用データをプロットし、どのように学習したかを見ています。一方で、検証用データをプロットすればどういった特徴量のものが間違って分類されたかを見ることができます。"
   ]
  },
  {
   "cell_type": "markdown",
   "metadata": {
    "colab_type": "text",
    "id": "MnWeLTECCgdL"
   },
   "source": [
    "## 手法の改善\n",
    "実際の問題では指標値や可視化を元に手法を改善していきますが、この課題では扱いません。"
   ]
  },
  {
   "cell_type": "markdown",
   "metadata": {
    "colab_type": "text",
    "id": "MSH9k2SMCmhh"
   },
   "source": [
    "#各手法の比較\n",
    "他の手法も基本的な流れは同様です。他の手法でも学習から可視化までを行っていきます。"
   ]
  },
  {
   "cell_type": "markdown",
   "metadata": {
    "colab": {},
    "colab_type": "code",
    "id": "olC7i9kVqrI-"
   },
   "source": [
    "# 各手法の比較\n",
    "\n",
    "他の手法も基本的な流れは同様です。他の手法でも学習から可視化までを行っていきます。"
   ]
  },
  {
   "cell_type": "markdown",
   "metadata": {},
   "source": [
    "## 【問題8】他の手法の学習\n",
    "以下の全ての手法について学習・推定・評価・可視化を行ってください。そして、指標値を１つの表にまとめてください。その表と決定領域を利用して結果を簡単に考察してください。どの手法がどの指標値で良かったかや、どういった決定領域になっていたかを述べてください。\n",
    "\n",
    "\n",
    "* 最近傍法\n",
    "* ロジスティック回帰\n",
    "* SVM\n",
    "* 決定木\n",
    "* ランダムフォレスト\n",
    "\n",
    "\n",
    "公式ドキュメントへのリンクは以下です。それぞれ調整すべき引数（ハイパーパラメータ）がありますが、この課題では扱いません。まずはデフォルトの値で実行してください。\n",
    "\n",
    "\n",
    "* [sklearn.neighbors.KNeighborsClassifier — scikit-learn 0.21.3 documentation](https://scikit-learn.org/stable/modules/generated/sklearn.neighbors.KNeighborsClassifier.html#sklearn.neighbors.KNeighborsClassifier)\n",
    "* [sklearn.linear_model.LogisticRegression — scikit-learn 0.21.3 documentation](https://scikit-learn.org/stable/modules/generated/sklearn.linear_model.LogisticRegression.html)\n",
    "* [sklearn.svm.SVC — scikit-learn 0.21.3 documentation](https://scikit-learn.org/stable/modules/generated/sklearn.svm.SVC.html#sklearn.svm.SVC)\n",
    "* [sklearn.tree.DecisionTreeClassifier — scikit-learn 0.21.3 documentation](https://scikit-learn.org/stable/modules/generated/sklearn.tree.DecisionTreeClassifier.html#sklearn.tree.DecisionTreeClassifier)\n",
    "* [sklearn.ensemble.RandomForestClassifier — scikit-learn 0.21.3 documentation](https://scikit-learn.org/stable/modules/generated/sklearn.ensemble.RandomForestClassifier.html#sklearn.ensemble.RandomForestClassifier)\n",
    "\n",
    "\n",
    "**《実際の問題では？》**\n",
    "\n",
    "\n",
    "ハイパーパラメータの調整は **パラメータチューニング** と呼ばれる工程で、その手法としてグリッドサーチなどが存在します。"
   ]
  },
  {
   "cell_type": "code",
   "execution_count": 56,
   "metadata": {},
   "outputs": [
    {
     "name": "stdout",
     "output_type": "stream",
     "text": [
      "LogisticRegression\n",
      "[2 2 2 1 1 1 2 2 1 1 1 1 2 2 2 1 1 2 1 1 2 1 1 1 2]\n",
      "              precision    recall  f1-score   support\n",
      "\n",
      "           1       0.86      0.86      0.86        14\n",
      "           2       0.82      0.82      0.82        11\n",
      "\n",
      "    accuracy                           0.84        25\n",
      "   macro avg       0.84      0.84      0.84        25\n",
      "weighted avg       0.84      0.84      0.84        25\n",
      "\n"
     ]
    },
    {
     "data": {
      "image/png": "[encoded data removed]",
      "text/plain": [
       "<Figure size 432x288 with 1 Axes>"
      ]
     },
     "metadata": {},
     "output_type": "display_data"
    },
    {
     "name": "stdout",
     "output_type": "stream",
     "text": [
      "SVM\n",
      "[2 2 2 1 1 1 2 2 1 1 1 1 2 2 2 1 1 2 1 1 2 1 1 1 2]\n",
      "              precision    recall  f1-score   support\n",
      "\n",
      "           1       0.86      0.86      0.86        14\n",
      "           2       0.82      0.82      0.82        11\n",
      "\n",
      "    accuracy                           0.84        25\n",
      "   macro avg       0.84      0.84      0.84        25\n",
      "weighted avg       0.84      0.84      0.84        25\n",
      "\n"
     ]
    },
    {
     "data": {
      "image/png": "[encoded data removed]",
      "text/plain": [
       "<Figure size 432x288 with 1 Axes>"
      ]
     },
     "metadata": {},
     "output_type": "display_data"
    },
    {
     "name": "stdout",
     "output_type": "stream",
     "text": [
      "DecisionTree\n",
      "[2 2 2 1 1 1 2 2 1 1 1 1 2 2 2 1 1 2 1 1 2 1 1 1 2]\n",
      "              precision    recall  f1-score   support\n",
      "\n",
      "           1       0.86      0.86      0.86        14\n",
      "           2       0.82      0.82      0.82        11\n",
      "\n",
      "    accuracy                           0.84        25\n",
      "   macro avg       0.84      0.84      0.84        25\n",
      "weighted avg       0.84      0.84      0.84        25\n",
      "\n"
     ]
    },
    {
     "data": {
      "image/png": "[encoded data removed]",
      "text/plain": [
       "<Figure size 432x288 with 1 Axes>"
      ]
     },
     "metadata": {},
     "output_type": "display_data"
    },
    {
     "name": "stdout",
     "output_type": "stream",
     "text": [
      "RandomForest\n",
      "[2 2 2 1 1 1 1 2 1 1 1 1 1 2 2 1 1 2 1 1 2 1 1 1 2]\n",
      "              precision    recall  f1-score   support\n",
      "\n",
      "           1       0.81      0.93      0.87        14\n",
      "           2       0.89      0.73      0.80        11\n",
      "\n",
      "    accuracy                           0.84        25\n",
      "   macro avg       0.85      0.83      0.83        25\n",
      "weighted avg       0.85      0.84      0.84        25\n",
      "\n"
     ]
    },
    {
     "data": {
      "image/png": "[encoded data removed]",
      "text/plain": [
       "<Figure size 432x288 with 1 Axes>"
      ]
     },
     "metadata": {},
     "output_type": "display_data"
    }
   ],
   "source": [
    "# sklearnのから各種モデルをimportする\n",
    "from sklearn.linear_model import LogisticRegression\n",
    "from sklearn.svm import SVC\n",
    "from sklearn.tree import DecisionTreeClassifier\n",
    "from sklearn.ensemble import RandomForestClassifier\n",
    "\n",
    "lg = LogisticRegression(solver='lbfgs')\n",
    "lg.fit(X_train_std, np.ravel(y_train))\n",
    "lg_pred = lg.predict(X_test_std)\n",
    "\n",
    "svc = SVC()\n",
    "svc.fit(X_train_std, np.ravel(y_train))\n",
    "svc_pred = lg.predict(X_test_std)\n",
    "\n",
    "dt = DecisionTreeClassifier()\n",
    "dt.fit(X_train_std, np.ravel(y_train))\n",
    "dt_pred = lg.predict(X_test_std)\n",
    "\n",
    "\n",
    "from sklearn.metrics import classification_report\n",
    "\n",
    "\n",
    "\n",
    "rf = RandomForestClassifier(n_estimators=100)\n",
    "rf.fit(X_train_std, np.ravel(y_train))\n",
    "rf_pred = rf.predict(X_test_std)\n",
    "\n",
    "print('LogisticRegression')\n",
    "print(lg_pred)\n",
    "print(classification_report(y_test, lg_pred))\n",
    "decision_region(X_train_std, np.ravel(y_train), lg)\n",
    "\n",
    "print('SVM')\n",
    "print(svc_pred)\n",
    "print(classification_report(y_test, svc_pred))\n",
    "decision_region(X_train_std, np.ravel(y_train), svc)\n",
    "\n",
    "print('DecisionTree')\n",
    "print(dt_pred)\n",
    "print(classification_report(y_test, dt_pred))\n",
    "decision_region(X_train_std, np.ravel(y_train), dt)\n",
    "\n",
    "print('RandomForest')\n",
    "print(rf_pred)\n",
    "print(classification_report(y_test, rf_pred))\n",
    "decision_region(X_train_std, np.ravel(y_train), rf)"
   ]
  },
  {
   "cell_type": "code",
   "execution_count": null,
   "metadata": {},
   "outputs": [],
   "source": []
  }
 ],
 "metadata": {
  "colab": {
   "authorship_tag": "ABX9TyOhivAEs25ACeZ+XFZ8Bnpc",
   "name": "Week4授業前課題1 アヤメの分類.ipynb",
   "provenance": [],
   "toc_visible": true
  },
  "kernelspec": {
   "display_name": "Python 3",
   "language": "python",
   "name": "python3"
  },
  "language_info": {
   "codemirror_mode": {
    "name": "ipython",
    "version": 3
   },
   "file_extension": ".py",
   "mimetype": "text/x-python",
   "name": "python",
   "nbconvert_exporter": "python",
   "pygments_lexer": "ipython3",
   "version": "3.7.4"
  },
  "toc": {
   "base_numbering": 1,
   "nav_menu": {},
   "number_sections": true,
   "sideBar": true,
   "skip_h1_title": false,
   "title_cell": "Table of Contents",
   "title_sidebar": "Contents",
   "toc_cell": false,
   "toc_position": {},
   "toc_section_display": true,
   "toc_window_display": true
  }
 },
 "nbformat": 4,
 "nbformat_minor": 1
}
